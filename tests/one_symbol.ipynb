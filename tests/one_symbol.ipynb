{
 "cells": [
  {
   "cell_type": "markdown",
   "metadata": {},
   "source": [
    "# One symbol program\n",
    "## Run a collection of programs to get naked naked options for a symbol\n",
    "\n",
    "- [x] Get symbols. Make new if not present or old.\n",
    "- [x] Get a symbol\n",
    "- [x] Update its chain strikes\n",
    "- [] Get strikes closest to unds for each expiry\n",
    "- [] Get margin and iv for the earliest strike\n",
    "- [] Use the iv to find out naked put horizon strikes, based on PUTSTDMULT for 30-45 dtes\n",
    "- [] Find out the option price and option volatility and margin of the horizon strikes\n",
    "- [] Update the price, volatility and margin if available\n",
    "- [] Calculate the return on margin (expROM)\n",
    "- [] Calculate the risk based on 3SD\n",
    "- [] Computed expPrice based on expROM\n",
    "- [] Generate 365 day history\n",
    "- [] Calculate the historical volatility backwards on dte\n",
    "- [] Calculate the historical volatility backwards on dte last year\n",
    "- [] Calculate the hiistorical volatility backwards on equivalent dte gap since last earnings "
   ]
  },
  {
   "cell_type": "code",
   "execution_count": 1,
   "metadata": {
    "jupyter": {
     "source_hidden": true
    }
   },
   "outputs": [
    {
     "data": {
      "text/plain": [
       "1"
      ]
     },
     "execution_count": 1,
     "metadata": {},
     "output_type": "execute_result"
    }
   ],
   "source": [
    "## THIS CELL SHOULD BE IN ALL VSCODE NOTEBOOKS ##\n",
    "\n",
    "import pandas as pd\n",
    "pd.options.display.max_columns=None\n",
    "\n",
    "# Add `src` to _src.pth in .venv to allow imports in VS Code\n",
    "from sysconfig import get_path\n",
    "from pathlib import Path\n",
    "if 'src' not in Path.cwd().parts:\n",
    "    src_path = str(Path(get_path('purelib')) / '_src.pth')\n",
    "    with open(src_path, 'w') as f:\n",
    "        f.write(str(Path.cwd() / 'src\\n'))\n",
    "\n",
    "# Start the Jupyter loop\n",
    "from ib_async import util\n",
    "util.startLoop()\n",
    "\n",
    "# Set the root\n",
    "from from_root import from_root\n",
    "from loguru import logger\n",
    "\n",
    "ROOT = from_root()\n",
    "LOGPATH = ROOT/'log'/f\"one_symbol.log\"\n",
    "\n",
    "# logger.add(LOGPATH, colorize=False, backtrace=True, diagnose=True)\n",
    "logger.add(LOGPATH, colorize=False)"
   ]
  },
  {
   "cell_type": "code",
   "execution_count": null,
   "metadata": {},
   "outputs": [],
   "source": [
    "# Set a symbol\n",
    "\n",
    "MARKET = 'NSE'\n",
    "\n",
    "if MARKET.upper() == 'SNP':\n",
    "    symbol = 'GD'\n",
    "else:\n",
    "    symbol = 'RELIANCE'"
   ]
  },
  {
   "cell_type": "code",
   "execution_count": null,
   "metadata": {},
   "outputs": [],
   "source": [
    "# Imports \n",
    "from utils import Vars, get_pickle\n",
    "\n",
    "_vars = Vars(MARKET)\n",
    "PORT = port = _vars.PAPER\n",
    "OPT_COLS = _vars.OPT_COLS[0]\n",
    "COLS = _vars.COLS[0]\n",
    "DATAPATH = ROOT / 'data' / MARKET.lower()"
   ]
  },
  {
   "cell_type": "markdown",
   "metadata": {},
   "source": [
    "# One symbol chain"
   ]
  },
  {
   "cell_type": "code",
   "execution_count": null,
   "metadata": {},
   "outputs": [],
   "source": [
    "# Imports\n",
    "import asyncio\n",
    "\n",
    "from ib_async import Option\n",
    "\n",
    "from utils import (get_exchange_name, get_margins, get_pickle,\n",
    "                   get_strike_closest_to_und, get_unds, make_a_raw_contract,\n",
    "                   make_chains, qualify_naked_opts, is_file_age_older_than, delete_files)"
   ]
  },
  {
   "cell_type": "code",
   "execution_count": null,
   "metadata": {},
   "outputs": [],
   "source": [
    "# Get the underlYing contract for the symbol\n",
    "\n",
    "UNDS_PATH = DATAPATH / 'unds.pkl'\n",
    "\n",
    "if is_file_age_older_than(UNDS_PATH):\n",
    "    delete_files(str(UNDS_PATH))\n",
    "\n",
    "contract = get_unds(MARKET).get(symbol, None)\n"
   ]
  },
  {
   "cell_type": "raw",
   "metadata": {
    "vscode": {
     "languageId": "raw"
    }
   },
   "source": [
    "from utils import get_an_option_chain, get_a_price_iv\n",
    "from ib_async import IB\n",
    "\n",
    "with IB().connect(port=port) as ib:\n",
    "    out = asyncio.run(get_a_price_iv(ib, contract))\n",
    "out"
   ]
  },
  {
   "cell_type": "code",
   "execution_count": null,
   "metadata": {},
   "outputs": [],
   "source": [
    "# Get all the chains of the symbol\n",
    "df_sym_chain = asyncio.run(make_chains(contracts=contract, port=port))"
   ]
  },
  {
   "cell_type": "code",
   "execution_count": null,
   "metadata": {},
   "outputs": [],
   "source": [
    "# Get the nearest dte chains\n",
    "dfn = df_sym_chain[df_sym_chain.dte == df_sym_chain.dte.min()].\\\n",
    "        reset_index(drop=True)\n",
    "\n",
    "dfn = df_sym_chain # !!! TEMPORARY TO TEST MARGINS"
   ]
  },
  {
   "cell_type": "code",
   "execution_count": null,
   "metadata": {},
   "outputs": [],
   "source": [
    "# Get the closest strikes to und for the nearest chain\n",
    "# Use -2 for puts and 2 for calls to get at least 2 good options near undprice\n",
    "\n",
    "df_c = get_strike_closest_to_und(dfn, 2)\n",
    "calls_cond = (df_c.strike > df_c.undPrice) & (df_c.right == 'C')\n",
    "df_c = df_c[calls_cond]\n",
    "\n",
    "df_p = get_strike_closest_to_und(dfn, -2)\n",
    "puts_cond = (df_p.strike <= df_p.undPrice) & (df_p.right == 'P')\n",
    "df_p = df_p[puts_cond]\n",
    "\n",
    "df_chains = pd.concat((df_c, df_p), ignore_index=True)\n",
    "\n",
    "df_ch = df_chains.sort_values(['dte', 'right'], ascending=(True, True))"
   ]
  },
  {
   "cell_type": "code",
   "execution_count": null,
   "metadata": {},
   "outputs": [],
   "source": [
    "# Get margins and commissions from the options closest to und for each dte\n",
    "\n",
    "#... qualify\n",
    "df_chq = qualify_naked_opts(df_ch)\n",
    "\n",
    "# ... remove NA\n",
    "df_mgn = df_chq.dropna(subset=['margin', 'comm'])"
   ]
  },
  {
   "cell_type": "code",
   "execution_count": null,
   "metadata": {},
   "outputs": [],
   "source": [
    "df_mgn.head()"
   ]
  },
  {
   "cell_type": "code",
   "execution_count": null,
   "metadata": {},
   "outputs": [],
   "source": [
    "import math\n",
    "(df_mgn.undPrice*df_mgn.iv*df_mgn.dte.apply(lambda x: math.sqrt(x/365))*5.3*df_mgn.multiplier*df_mgn.lot)[:1]"
   ]
  },
  {
   "cell_type": "code",
   "execution_count": null,
   "metadata": {},
   "outputs": [],
   "source": [
    "# ... Get the closest for each dte\n",
    "g = df_mgn.groupby(['symbol', 'dte'])\n",
    "\n",
    "margin = df_mgn.loc[g.apply(lambda x: abs(x.strike-x.undPrice).idxmin())]\n"
   ]
  },
  {
   "cell_type": "code",
   "execution_count": null,
   "metadata": {},
   "outputs": [],
   "source": [
    "margin"
   ]
  },
  {
   "cell_type": "code",
   "execution_count": null,
   "metadata": {},
   "outputs": [],
   "source": [
    "# ... get ivs of each of these closest options\n",
    "from utils import get_mkt_prices\n",
    "from tqdm import tqdm\n",
    "from ib_async import IB"
   ]
  },
  {
   "cell_type": "code",
   "execution_count": null,
   "metadata": {},
   "outputs": [],
   "source": [
    "opt_contract = dfn.contract.sample(3).iloc[0]\n",
    "opt_contract\n",
    "\n",
    "from utils import get_tick_data\n",
    "\n",
    "async def main(contract):\n",
    "    return await get_tick_data(ib, opt_contract, 5)\n",
    "\n",
    "with IB().connect(port=port) as ib:\n",
    "    # ticker = asyncio.run(main(opt_contract))\n",
    "    ticker = ib.reqTickByTickData(contract, 'BidAsk')\n",
    "    ib.sleep(10)\n",
    "\n",
    "    print(ticker)\n",
    "\n",
    "    ib.cancelTickByTickData(ticker.contract, 'BidAsk')"
   ]
  },
  {
   "cell_type": "code",
   "execution_count": null,
   "metadata": {},
   "outputs": [],
   "source": [
    "ib = IB().connect(port=port)"
   ]
  },
  {
   "cell_type": "code",
   "execution_count": null,
   "metadata": {},
   "outputs": [],
   "source": [
    "ib.__dict__"
   ]
  },
  {
   "cell_type": "code",
   "execution_count": null,
   "metadata": {},
   "outputs": [],
   "source": []
  },
  {
   "cell_type": "code",
   "execution_count": null,
   "metadata": {},
   "outputs": [],
   "source": [
    "from utils import to_list, chunk_me, split_symbol_price_iv, clean_ib_util_df, get_tick_data, get_market_data\n",
    "import math\n",
    "async def get_a_price_iv(ib, contract, sleep: float=2) -> dict:\n",
    "\n",
    "    \"\"\"[async] Computes price and IV of a contract.\n",
    "\n",
    "    OUTPUT: dict{localsymbol, price, iv}\n",
    "    \n",
    "    Could take upto 12 seconds in case live prices are not available\"\"\"\n",
    "\n",
    "    mkt_data = await get_market_data(ib, contract, sleep)\n",
    "\n",
    "    if math.isnan(mkt_data.marketPrice()):\n",
    "\n",
    "        if math.isnan(mkt_data.close):\n",
    "            tick_data = await get_tick_data(ib, contract)\n",
    "            tick_data = tick_data[0]\n",
    "\n",
    "            if math.isnan(tick_data.marketPrice()):\n",
    "                undPrice = tick_data.close\n",
    "                if math.isnan(undPrice):\n",
    "                    logger.info(f\"No price found for {contract.localSymbol}!\")\n",
    "            else:\n",
    "                undPrice = tick_data.marketPrice()\n",
    "        else:\n",
    "            undPrice = mkt_data.close\n",
    "\n",
    "    else:\n",
    "        undPrice = mkt_data.marketPrice()\n",
    "\n",
    "    # get iv from modelGreeks, if impliedVolatility not found\n",
    "    # iv = mkt_data.impliedVolatility\n",
    "    # if not iv:\n",
    "    iv = mkt_data\n",
    "\n",
    "    price_iv = (contract.localSymbol, undPrice, iv)\n",
    "\n",
    "    return price_iv\n",
    "\n",
    "\n",
    "async def get_mkt_prices(port: int, \n",
    "                         contracts: list, \n",
    "                         chunk_size: int=44, \n",
    "                         sleep: int=7) -> pd.DataFrame:\n",
    "    \n",
    "    \"\"\"[async] A faster way to get market prices.\n",
    "    \"\"\"\n",
    "\n",
    "    contracts = to_list(contracts)\n",
    "    chunks = tqdm(chunk_me(contracts, chunk_size), desc=\"Mkt prices with IVs\")\n",
    "    results = dict()\n",
    "    with await IB().connectAsync(port=port) as ib:\n",
    "        for cts in chunks:\n",
    "            tasks = [asyncio.create_task(get_a_price_iv(ib, c, sleep)) for c in cts]\n",
    "            res = await asyncio.gather(*tasks)\n",
    "\n",
    "            for r in res:\n",
    "                symbol, price, iv = r\n",
    "                results[symbol] = (price, iv)\n",
    "\n",
    "    df_prices = results\n",
    "\n",
    "    # df_prices = split_symbol_price_iv(results)\n",
    "    # df_prices = pd.merge(clean_ib_util_df(contracts).iloc[:, :6], df_prices, on='symbol')\n",
    "\n",
    "    # # remove unnecessary columns (for secType == `STK`)\n",
    "    # keep_cols = ~((df_prices == 0).all() | \\\n",
    "    #           (df_prices == \"\").all() | \\\n",
    "    #             df_prices.isnull().all())\n",
    "    \n",
    "    # df_prices = df_prices.loc[:, keep_cols[keep_cols == True].index]\n",
    "\n",
    "    return df_prices"
   ]
  },
  {
   "cell_type": "code",
   "execution_count": null,
   "metadata": {},
   "outputs": [],
   "source": [
    "df_price = asyncio.run(get_mkt_prices(port=PORT, contracts=dfn.contract.sample(3), sleep=10))"
   ]
  },
  {
   "cell_type": "code",
   "execution_count": null,
   "metadata": {},
   "outputs": [],
   "source": [
    "df_price"
   ]
  },
  {
   "cell_type": "code",
   "execution_count": null,
   "metadata": {},
   "outputs": [],
   "source": [
    "dfn.contract.sample(1).iloc[0]"
   ]
  },
  {
   "cell_type": "code",
   "execution_count": null,
   "metadata": {},
   "outputs": [],
   "source": [
    "from utils import get_market_data\n",
    "with IB().connect(port=port) as ib:\n",
    "    mkt_data = asyncio.run(get_market_data(ib, c=dfn.contract.sample(1).iloc[0], sleep=5))"
   ]
  },
  {
   "cell_type": "code",
   "execution_count": null,
   "metadata": {},
   "outputs": [],
   "source": [
    "mkt_data.modelGreeks.impliedVol"
   ]
  },
  {
   "cell_type": "code",
   "execution_count": null,
   "metadata": {},
   "outputs": [],
   "source": [
    "df_price"
   ]
  },
  {
   "cell_type": "code",
   "execution_count": null,
   "metadata": {},
   "outputs": [],
   "source": [
    "dfn.contract"
   ]
  },
  {
   "cell_type": "code",
   "execution_count": null,
   "metadata": {},
   "outputs": [],
   "source": []
  }
 ],
 "metadata": {
  "kernelspec": {
   "display_name": "Python 3 (ipykernel)",
   "language": "python",
   "name": "python3"
  },
  "language_info": {
   "codemirror_mode": {
    "name": "ipython",
    "version": 3
   },
   "file_extension": ".py",
   "mimetype": "text/x-python",
   "name": "python",
   "nbconvert_exporter": "python",
   "pygments_lexer": "ipython3",
   "version": "3.11.5"
  }
 },
 "nbformat": 4,
 "nbformat_minor": 4
}
