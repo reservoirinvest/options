{
 "cells": [
  {
   "cell_type": "code",
   "execution_count": null,
   "metadata": {},
   "outputs": [],
   "source": [
    "## THIS CELL SHOULD BE IN ALL VSCODE NOTEBOOKS ##\n",
    "\n",
    "MARKET = 'NSE'\n",
    "\n",
    "from loguru import logger\n",
    "\n",
    "import pandas as pd\n",
    "pd.options.display.max_columns=None\n",
    "\n",
    "# Add `src` to _src.pth in .venv to allow imports in VS Code\n",
    "from sysconfig import get_path\n",
    "from pathlib import Path\n",
    "if 'src' not in Path.cwd().parts:\n",
    "    src_path = str(Path(get_path('purelib')) / '_src.pth')\n",
    "    with open(src_path, 'w') as f:\n",
    "        f.write(str(Path.cwd() / 'src\\n'))\n",
    "\n",
    "# Start the Jupyter loop\n",
    "from ib_insync import util\n",
    "util.startLoop()\n",
    "\n",
    "# Imports \n",
    "from utils import Vars, get_pickle\n",
    "\n",
    "# Set the root\n",
    "from from_root import from_root\n",
    "ROOT = from_root()"
   ]
  },
  {
   "cell_type": "markdown",
   "metadata": {},
   "source": [
    "# Generate `margin` scale for the nse symbol"
   ]
  },
  {
   "cell_type": "markdown",
   "metadata": {},
   "source": [
    "### Get an option chain from nse web"
   ]
  },
  {
   "cell_type": "code",
   "execution_count": null,
   "metadata": {},
   "outputs": [],
   "source": [
    "from utils import nse_web_json_to_df, get_lots_from_nse, clean_nse_web_options, get_dte, this_is_nse_index"
   ]
  },
  {
   "cell_type": "code",
   "execution_count": null,
   "metadata": {},
   "outputs": [],
   "source": [
    "# Input\n",
    "symbol = 'TCS'"
   ]
  },
  {
   "cell_type": "code",
   "execution_count": null,
   "metadata": {},
   "outputs": [],
   "source": [
    "def get_an_nse_option_chain(symbol: str) -> pd.DataFrame:\n",
    "\n",
    "    df = nse_web_json_to_df(symbol)\\\n",
    "            .pipe(clean_nse_web_options)\n",
    "\n",
    "    # get the dte\n",
    "    dte = df.expiry.apply(lambda x: get_dte(x, exchange='NSE'))\n",
    "    df.insert(5, 'dte', dte)\n",
    "\n",
    "    return df"
   ]
  },
  {
   "cell_type": "code",
   "execution_count": null,
   "metadata": {},
   "outputs": [],
   "source": [
    "# nse_web_json_to_df(symbol)\n",
    "df_opts = get_an_nse_option_chain(symbol=symbol)"
   ]
  },
  {
   "cell_type": "code",
   "execution_count": null,
   "metadata": {},
   "outputs": [],
   "source": [
    "df_opts.head()"
   ]
  },
  {
   "cell_type": "markdown",
   "metadata": {},
   "source": [
    "## Get `lot size` from SAMCO"
   ]
  },
  {
   "cell_type": "markdown",
   "metadata": {},
   "source": [
    "### Build data dictionary for `lot_size` extraction"
   ]
  },
  {
   "cell_type": "code",
   "execution_count": null,
   "metadata": {},
   "outputs": [],
   "source": [
    "import requests\n",
    "from utils import this_is_nse_index\n",
    "import json\n",
    "from tqdm import tqdm"
   ]
  },
  {
   "cell_type": "code",
   "execution_count": null,
   "metadata": {},
   "outputs": [],
   "source": [
    "def get_data_from_samco(url: str, data: dict) -> requests.models.Response:\n",
    "\n",
    "    \"\"\"Gets data from SAMCO\"\"\"\n",
    "\n",
    "    base_url = 'https://www.samco.in'\n",
    "\n",
    "    samco_headers = {\n",
    "        'User-Agent': 'python-requests/2.31.0', \n",
    "        'Accept-Encoding': 'gzip, deflate', \n",
    "        'Accept': '*/*', \n",
    "        'Connection': 'keep-alive', \n",
    "        \"Referer\": \"https://www.samco.in/calculators/span-margin-calculator\"}\n",
    "\n",
    "    with requests.Session() as session:\n",
    "        request = session.get(base_url, headers=samco_headers, timeout=5)\n",
    "        cookies = dict(request.cookies)\n",
    "        response = session.post(url, data=data, headers=samco_headers, cookies=cookies, timeout=5)\n",
    "\n",
    "    return json.loads(response.text)\n",
    "    # return response\n",
    "    "
   ]
  },
  {
   "cell_type": "code",
   "execution_count": null,
   "metadata": {},
   "outputs": [],
   "source": [
    "def get_qty_from_samco(df_opts: pd.DataFrame) -> pd.DataFrame:\n",
    "\n",
    "        \"\"\"Gets lot size from SAMCO\"\"\"\n",
    "        df = df_opts.copy()\n",
    "        \n",
    "        url = 'https://www.samco.in/span/get_quntity_datewise'\n",
    "\n",
    "        # Build quantity dict\n",
    "        symbol = df.symbol.iloc[0]\n",
    "        expiry_style = \"weekly\" if this_is_nse_index(symbol) else \"monthly\"\n",
    "\n",
    "        if this_is_nse_index(symbol):\n",
    "                df.insert(4, 'exp', df.expiry.dt.strftime('%d%b%y').str.upper())\n",
    "        else:\n",
    "                df.insert(4, 'exp', df.expiry.dt.strftime('%d%b').str.upper())\n",
    "\n",
    "        an_expiry = df.exp.iloc[0]\n",
    "\n",
    "        data = {'name': symbol,\n",
    "                'expiry': an_expiry,\n",
    "                'exchange': 'NFO',\n",
    "                'product': 'OPT',\n",
    "                'table': expiry_style,\n",
    "        }\n",
    "\n",
    "        qty = get_data_from_samco(url, data)\n",
    "        df = df.assign(qty=qty, quantity=qty)\n",
    "\n",
    "        return df"
   ]
  },
  {
   "cell_type": "code",
   "execution_count": null,
   "metadata": {},
   "outputs": [],
   "source": [
    "df = get_qty_from_samco(df_opts)\n",
    "df.head()"
   ]
  },
  {
   "cell_type": "markdown",
   "metadata": {},
   "source": [
    "# Get all margins from SAMCO"
   ]
  },
  {
   "cell_type": "markdown",
   "metadata": {},
   "source": [
    "### Build data dictionary for margins"
   ]
  },
  {
   "cell_type": "code",
   "execution_count": null,
   "metadata": {},
   "outputs": [],
   "source": [
    "def data_dict_for_samco_margins(df: pd.DataFrame) -> dict:\n",
    "\n",
    "    # map df's columns to SAMCOs\n",
    "    cols_dict = {\n",
    "        'symbol': 'underlying',\n",
    "        'strike': 'strike_price',\n",
    "        'exp': 'expiry',\n",
    "        'qty': 'qty',\n",
    "        'quantity': 'quantity',\n",
    "    }\n",
    "\n",
    "    # filter out only required dict columns for margins\n",
    "    df_dict = df.drop(columns='expiry')\\\n",
    "            .rename(columns=cols_dict)[cols_dict.values()]\n",
    "\n",
    "\n",
    "    df_dict = df_dict.assign(quantity = df_dict.qty, \n",
    "            exchange = \"NFO\",\n",
    "            product = \"OPT\",\n",
    "            option = \"PE\",\n",
    "            buy_sell = \"sell\")\n",
    "\n",
    "    data_dict = dict(zip(df_dict.index, df_dict.to_dict(orient='records')))\n",
    "\n",
    "    return data_dict\n"
   ]
  },
  {
   "cell_type": "code",
   "execution_count": null,
   "metadata": {},
   "outputs": [],
   "source": [
    "data_dicts = data_dict_for_samco_margins(df)"
   ]
  },
  {
   "cell_type": "markdown",
   "metadata": {},
   "source": [
    "## Async function for SAMCO with a limit on simultaneous tasks\n",
    "\n",
    "### Note: Did'nt work when SAMCO site was not generating margins in morning"
   ]
  },
  {
   "cell_type": "code",
   "execution_count": null,
   "metadata": {},
   "outputs": [],
   "source": [
    "# !!! Didn't work as site was giving 0 for all margins\n",
    "\n",
    "import aiohttp\n",
    "import asyncio\n",
    "import json\n",
    "from tqdm import tqdm\n",
    "\n",
    "async def coro_samco_margin(url: str, data: dict) -> dict:\n",
    "    \"\"\"\n",
    "    [async] Get margins from SAMCO for data dictionary with {index, data} construct\n",
    "    \"\"\"\n",
    "    base_url = 'https://www.samco.in'\n",
    "\n",
    "    headers = {\n",
    "        'User-Agent': 'python-requests/2.31.0',\n",
    "        'Accept-Encoding': 'gzip, deflate',\n",
    "        'Accept': '*/*',\n",
    "        'Connection': 'keep-alive',\n",
    "        \"Referer\": \"https://www.samco.in/calculators/span-margin-calculator\"\n",
    "    }\n",
    "\n",
    "    async with aiohttp.ClientSession() as session:\n",
    "        async with session.get(base_url, headers=headers, timeout=5) as request:\n",
    "            cookies = dict(request.cookies)\n",
    "            async with session.post(url, data=data, headers=headers, cookies=cookies, timeout=5) as response:\n",
    "                m_dict = json.loads(await response.text())\n",
    "\n",
    "    return m_dict\n",
    "\n",
    "async def get_samco_margins(data_dict: dict, blk:int=15):\n",
    "    url = 'https://www.samco.in/span/get_span_value'\n",
    "\n",
    "    tasks = []\n",
    "    margins = {}\n",
    "\n",
    "    # Create tasks for each data\n",
    "    for index, data in tqdm(data_dict.items(), desc='Getting margins'):\n",
    "        task = asyncio.create_task(coro_samco_margin(url, data))\n",
    "        tasks.append(task)\n",
    "\n",
    "        # Process blk of tasks at a time\n",
    "        if len(tasks) == blk:\n",
    "            results = await asyncio.gather(*tasks)\n",
    "            for i, result in enumerate(results):\n",
    "                margins[index - len(tasks) + i + 1] = result.get('margin')\n",
    "\n",
    "            tasks.clear()\n",
    "\n",
    "    # Process remaining tasks\n",
    "    if tasks:\n",
    "        results = await asyncio.gather(*tasks)\n",
    "        for i, result in enumerate(results):\n",
    "            margins[len(data_dict) - len(tasks) + i + 1] = result.get('margin')\n",
    "\n",
    "    return margins"
   ]
  },
  {
   "cell_type": "code",
   "execution_count": null,
   "metadata": {},
   "outputs": [],
   "source": [
    "margins = asyncio.run(get_samco_margins(data_dicts, 5))"
   ]
  },
  {
   "cell_type": "code",
   "execution_count": null,
   "metadata": {},
   "outputs": [],
   "source": [
    "margins"
   ]
  },
  {
   "cell_type": "markdown",
   "metadata": {},
   "source": [
    "# Get strike boundaries"
   ]
  },
  {
   "cell_type": "code",
   "execution_count": null,
   "metadata": {},
   "outputs": [],
   "source": [
    "# quantity = qty\n",
    "# dfm = dfm.assign(qty=qty, quantity=quantity)"
   ]
  },
  {
   "cell_type": "code",
   "execution_count": null,
   "metadata": {},
   "outputs": [],
   "source": [
    "def get_strike_boundaries_per_expiry(df_opts: pd.DataFrame) -> pd.DataFrame:\n",
    "    \"\"\"Highest and Lowest PE strikes per expiry. Needs cleaned nse web opts with `dte`\"\"\"\n",
    "\n",
    "    df_pe = df_opts[df_opts['right'] == 'PE']\n",
    "    grouped = df_pe.groupby('expiry')['strike']\n",
    "    min_strike_rows = df_pe[df_pe['strike'] == grouped.transform('min')]\n",
    "    max_strike_rows = df_pe[df_pe['strike'] == grouped.transform('max')]\n",
    "\n",
    "    dfm = pd.concat([min_strike_rows, max_strike_rows]).sort_values('dte')\n",
    "    dfm = get_qty_from_samco(dfm)\n",
    "\n",
    "    # dfm.insert(4, 'exp', dfm.expiry.dt.strftime('%d%b%y').str.upper())\n",
    "    # sym = set(dfm.symbol.to_numpy()).pop()\n",
    "    # if this_is_nse_index(sym):\n",
    "    #     dfm.insert(4, 'exp', dfm.expiry.dt.strftime('%d%b%y').str.upper())\n",
    "    # else:\n",
    "    #     dfm.insert(4, 'exp', dfm.expiry.dt.strftime('%d%b').str.upper())\n",
    "\n",
    "    return dfm\n",
    "    "
   ]
  },
  {
   "cell_type": "code",
   "execution_count": null,
   "metadata": {},
   "outputs": [],
   "source": [
    "# extract puts only\n",
    "df_puts = df_opts[df_opts.right == 'PE'].reset_index(drop=True)\n",
    "dfm = get_strike_boundaries_per_expiry(df_puts)"
   ]
  },
  {
   "cell_type": "code",
   "execution_count": null,
   "metadata": {},
   "outputs": [],
   "source": [
    "dfm.head()"
   ]
  },
  {
   "cell_type": "code",
   "execution_count": null,
   "metadata": {},
   "outputs": [],
   "source": [
    "data_dict = data_dict_for_samco_margins(dfm)\n",
    "margins = asyncio.run(get_samco_margins(data_dict))\n",
    "margins"
   ]
  },
  {
   "cell_type": "raw",
   "metadata": {
    "vscode": {
     "languageId": "raw"
    }
   },
   "source": [
    "# Gemini code\n",
    "\n",
    "async def async_data_from_samco(url: str, data: dict) -> dict:\n",
    "  \"\"\"[async] Gets data from SAMCO asynchronously\"\"\"\n",
    "\n",
    "  base_url = 'https://www.samco.in'\n",
    "\n",
    "  samco_headers = {\n",
    "      'User-Agent': 'python-requests/2.31.0',\n",
    "      'Accept-Encoding': 'gzip, deflate',\n",
    "      'Accept': '*/*',\n",
    "      'Connection': 'keep-alive',\n",
    "      \"Referer\": \"https://www.samco.in/calculators/span-margin-calculator\"\n",
    "  }\n",
    "\n",
    "  async with requests.Session() as session:\n",
    "    async with session.get(base_url, headers=samco_headers, timeout=5) as request:\n",
    "      cookies = dict(request.cookies)\n",
    "    async with session.post(url, data=data, headers=samco_headers, cookies=cookies, timeout=5) as response:\n",
    "      return json.loads(response.text)\n",
    "\n",
    "async def main(data: dict):\n",
    "  url = 'https://www.samco.in/span/get_span_value'\n",
    "\n",
    "  # Create a list of tasks to run asynchronously\n",
    "  tasks = [get_data_from_samco(url, item) for item in data.values()]\n",
    "\n",
    "  # Wait for all tasks to complete and collect results\n",
    "  results = await asyncio.gather(*tasks)\n",
    "\n",
    "  # Process the results (e.g., print or store in a data structure)\n",
    "  for result in results:\n",
    "    print(result)"
   ]
  },
  {
   "cell_type": "raw",
   "metadata": {
    "vscode": {
     "languageId": "raw"
    }
   },
   "source": [
    "# From CodeMate\n",
    "\n",
    "import aiohttp\n",
    "import asyncio\n",
    "import json\n",
    "\n",
    "async def async_samco(url: str, data: dict) -> dict:\n",
    "    base_url = 'https://www.samco.in'\n",
    "\n",
    "    headers = {\n",
    "        'User-Agent': 'python-requests/2.31.0',\n",
    "        'Accept-Encoding': 'gzip, deflate',\n",
    "        'Accept': '*/*',\n",
    "        'Connection': 'keep-alive',\n",
    "        \"Referer\": \"https://www.samco.in/calculators/span-margin-calculator\"\n",
    "    }\n",
    "\n",
    "    async with aiohttp.ClientSession() as session:\n",
    "        async with session.get(base_url, headers=headers, timeout=5) as request:\n",
    "            cookies = dict(request.cookies)\n",
    "            async with session.post(url, data=data, headers=headers, cookies=cookies, timeout=5) as response:\n",
    "                m_dict = json.loads(await response.text())\n",
    "\n",
    "    return m_dict\n",
    "\n",
    "async def get_samco_margins():\n",
    "    tasks = []\n",
    "    for key, value in data_dict.items():\n",
    "        task = asyncio.create_task(async_samco(url, value))\n",
    "        tasks.append(task)\n",
    "    results = await asyncio.gather(*tasks)\n",
    "    return results\n",
    "\n",
    "margins = asyncio.run(get_samco_margins())"
   ]
  },
  {
   "cell_type": "raw",
   "metadata": {
    "vscode": {
     "languageId": "raw"
    }
   },
   "source": [
    "import aiohttp\n",
    "import asyncio\n",
    "import json\n",
    "from tqdm import tqdm\n",
    "\n",
    "async def async_get_samco_margin(url: str, data: dict) -> dict:\n",
    "    base_url = 'https://www.samco.in'\n",
    "\n",
    "    headers = {\n",
    "        'User-Agent': 'python-requests/2.31.0',\n",
    "        'Accept-Encoding': 'gzip, deflate',\n",
    "        'Accept': '*/*',\n",
    "        'Connection': 'keep-alive',\n",
    "        \"Referer\": \"https://www.samco.in/calculators/span-margin-calculator\"\n",
    "    }\n",
    "\n",
    "    async with aiohttp.ClientSession() as session:\n",
    "        async with session.get(base_url, headers=headers, timeout=5) as request:\n",
    "            cookies = dict(request.cookies)\n",
    "            async with session.post(url, data=data, headers=headers, cookies=cookies, timeout=5) as response:\n",
    "                m_dict = json.loads(await response.text())\n",
    "\n",
    "    return m_dict\n",
    "\n",
    "async def get_samco_margins(data_dict: dict, blk:int=15):\n",
    "    url = 'https://www.samco.in/span/get_span_value'\n",
    "\n",
    "    tasks = []\n",
    "    margins = {}\n",
    "\n",
    "    # Create tasks for each data\n",
    "    for index, data in tqdm(data_dict.items(), desc='Getting margins'):\n",
    "        task = asyncio.create_task(async_get_samco_margin(url, data))\n",
    "        tasks.append(task)\n",
    "\n",
    "        # Process blk of tasks at a time\n",
    "        if len(tasks) == blk:\n",
    "            results = await asyncio.gather(*tasks)\n",
    "            for i, result in enumerate(results):\n",
    "                margins[index - len(tasks) + i + 1] = result.get('margin')\n",
    "\n",
    "            tasks.clear()\n",
    "\n",
    "    # Process remaining tasks\n",
    "    if tasks:\n",
    "        results = await asyncio.gather(*tasks)\n",
    "        for i, result in enumerate(results):\n",
    "            margins[len(data_dict) - len(tasks) + i + 1] = result.get('margin')\n",
    "\n",
    "    return margins"
   ]
  },
  {
   "cell_type": "code",
   "execution_count": null,
   "metadata": {},
   "outputs": [],
   "source": [
    "url = 'https://www.samco.in/span/get_span_value'\n",
    "\n",
    "margins = dict()\n",
    "for k, data in tqdm(data_dict.items(), desc='Getting margins'):\n",
    "    margins[k] = get_data_from_samco(url, data).get('margin')\n"
   ]
  },
  {
   "cell_type": "code",
   "execution_count": null,
   "metadata": {},
   "outputs": [],
   "source": [
    "margins"
   ]
  },
  {
   "cell_type": "code",
   "execution_count": null,
   "metadata": {},
   "outputs": [],
   "source": [
    "mgnCost = [index.get('total_margin') for index in dfm.index.map(margins)]\n",
    "dfm = dfm.assign(mgnCost=mgnCost)"
   ]
  },
  {
   "cell_type": "code",
   "execution_count": null,
   "metadata": {},
   "outputs": [],
   "source": [
    "g_puts = df_puts.groupby('dte')\n",
    "g_m = dfm.groupby('dte')"
   ]
  },
  {
   "cell_type": "code",
   "execution_count": null,
   "metadata": {},
   "outputs": [],
   "source": []
  },
  {
   "cell_type": "markdown",
   "metadata": {},
   "source": [
    "### Experimenting with dfm to see the rom of ask_price, if available"
   ]
  },
  {
   "cell_type": "code",
   "execution_count": null,
   "metadata": {},
   "outputs": [],
   "source": [
    "m1 = dfm.ask_price>0\n",
    "m2 = dfm.right=='PE'\n",
    "m3 = dfm.strike < dfm.undPrice\n",
    "df = dfm[m1 & m2 & m3]\n",
    "df.assign(rom=df.ask_price*df.qty/df.mgnCost*365/df.dte)"
   ]
  },
  {
   "cell_type": "code",
   "execution_count": null,
   "metadata": {},
   "outputs": [],
   "source": []
  },
  {
   "cell_type": "markdown",
   "metadata": {},
   "source": [
    "## Basic fishing from SAMCO"
   ]
  },
  {
   "cell_type": "code",
   "execution_count": null,
   "metadata": {},
   "outputs": [],
   "source": [
    "import requests\n",
    "import json"
   ]
  },
  {
   "cell_type": "code",
   "execution_count": null,
   "metadata": {},
   "outputs": [],
   "source": [
    "# variable\n",
    "underlying = \"AARTIIND\"\n",
    "expiry = \"30MAY\"\n",
    "strike_price = 720\n",
    "\n",
    "# calculated\n",
    "qty = 1000\n",
    "quantity = qty\n",
    "\n",
    "\n",
    "# fixed:\n",
    "exchange = \"NFO\"\n",
    "product = \"OPT\"\n",
    "option = \"PE\"\n",
    "buy_sell = \"sell\"\n",
    "\n",
    "# build dictionary\n",
    "data = {\n",
    "    \"underlying\": underlying,\n",
    "    \"expiry\": expiry,\n",
    "    \"strike_price\": strike_price,\n",
    "    \"qty\": qty,\n",
    "    \"quantity\": quantity,\n",
    "    \"exchange\": exchange,\n",
    "    \"product\": product,\n",
    "    \"option\": option,\n",
    "    \"buy_sell\": buy_sell\n",
    "}"
   ]
  },
  {
   "cell_type": "code",
   "execution_count": null,
   "metadata": {},
   "outputs": [],
   "source": [
    "def get_samco_margin(data: dict) -> dict:\n",
    "\n",
    "    \"\"\"Gets margins from SAMCO\n",
    "    \n",
    "    `data` is a dict with:\n",
    "    \n",
    "    ### variable\n",
    "    - underlying = \"AARTIIND\"\n",
    "    - expiry = \"30MAY\"\n",
    "    - strike_price = 720\n",
    "    - qty = 1000    # should be equal to lotsize\n",
    "\n",
    "    ### calculated\n",
    "\n",
    "    - quantity = qty\n",
    "\n",
    "\n",
    "    ### fixed:\n",
    "    - exchange = \"NFO\"\n",
    "    - product = \"OPT\"\n",
    "    - option = \"PE\"\n",
    "    - buy_sell = \"sell\" \n",
    "    \n",
    "    \"\"\"\n",
    "\n",
    "\n",
    "    base_url = 'https://www.samco.in'\n",
    "    url = 'https://www.samco.in/span/get_span_value'\n",
    "\n",
    "    headers = {\n",
    "        'User-Agent': 'python-requests/2.31.0', \n",
    "        'Accept-Encoding': 'gzip, deflate', \n",
    "        'Accept': '*/*', \n",
    "        'Connection': 'keep-alive', \n",
    "        \"Referer\": \"https://www.samco.in/calculators/span-margin-calculator\"}\n",
    "\n",
    "    with requests.Session() as session:\n",
    "        request = session.get(base_url, headers=headers, timeout=5)\n",
    "        cookies = dict(request.cookies)\n",
    "        response = session.post(url, data=data, headers=headers, cookies=cookies, timeout=5)\n",
    "        \n",
    "    m_dict = json.loads(response.text)\n",
    "\n",
    "    mgn_dict = m_dict.get('margin')\n",
    "\n",
    "    margins = \\\n",
    "        {'mgnCompute': mgn_dict.get('total_margin'),\n",
    "        'required_mgn': mgn_dict.get('totalrequirement'),\n",
    "        'exposure': mgn_dict.get('exposuremargin'),\n",
    "        'span': mgn_dict.get('spanRequirement'),\n",
    "        'addn_margin': mgn_dict.get('additionalmargin')\n",
    "        }\n",
    "\n",
    "    return margins"
   ]
  },
  {
   "cell_type": "code",
   "execution_count": null,
   "metadata": {},
   "outputs": [],
   "source": [
    "get_samco_margin(data)"
   ]
  },
  {
   "cell_type": "code",
   "execution_count": null,
   "metadata": {},
   "outputs": [],
   "source": [
    "\n",
    "for k, v in data_dict.items():\n",
    "    margin_dict[k] = get_samco_margin(v)"
   ]
  },
  {
   "cell_type": "code",
   "execution_count": null,
   "metadata": {},
   "outputs": [],
   "source": [
    "margin_dict"
   ]
  },
  {
   "cell_type": "code",
   "execution_count": null,
   "metadata": {},
   "outputs": [],
   "source": [
    "data_dict.get(372)"
   ]
  },
  {
   "cell_type": "code",
   "execution_count": null,
   "metadata": {},
   "outputs": [],
   "source": [
    "import grequests"
   ]
  },
  {
   "cell_type": "code",
   "execution_count": null,
   "metadata": {},
   "outputs": [],
   "source": []
  },
  {
   "cell_type": "code",
   "execution_count": null,
   "metadata": {},
   "outputs": [],
   "source": [
    "import aiohttp\n",
    "import asyncio\n",
    "import json\n",
    "\n",
    "async def async_samco_margins(data: dict) -> dict:\n",
    "    base_url = 'https://www.samco.in'\n",
    "    url = 'https://www.samco.in/span/get_span_value'\n",
    "\n",
    "    headers = {\n",
    "        'User-Agent': 'python-requests/2.31.0',\n",
    "        'Accept-Encoding': 'gzip, deflate',\n",
    "        'Accept': '*/*',\n",
    "        'Connection': 'keep-alive',\n",
    "        \"Referer\": \"https://www.samco.in/calculators/span-margin-calculator\"\n",
    "    }\n",
    "\n",
    "    async with aiohttp.ClientSession() as session:\n",
    "        async with session.get(base_url, headers=headers, timeout=5) as request:\n",
    "            cookies = dict(request.cookies)\n",
    "            async with session.post(url, data=data, headers=headers, cookies=cookies, timeout=5) as response:\n",
    "                m_dict = json.loads(await response.text())\n",
    "    \n",
    "    return m_dict\n"
   ]
  },
  {
   "cell_type": "code",
   "execution_count": null,
   "metadata": {},
   "outputs": [],
   "source": [
    "data = {\n",
    "    'underlying': 'AARTIIND',\n",
    "    'expiry': '30MAY',\n",
    "    'strike_price': 720,\n",
    "    'qty': 1000,\n",
    "    'exchange': 'NFO',\n",
    "    'product': 'OPT',\n",
    "    'option': 'PE',\n",
    "    'buy_sell': 'sell'\n",
    "}\n",
    "\n",
    "m_dict = asyncio.run(async_samco_margins(data=data))\n",
    "\n",
    "mgn_dict = m_dict.get('margin')\n",
    "\n",
    "margins = {\n",
    "    'mgnCompute': mgn_dict.get('total_margin'),\n",
    "    'required_mgn': mgn_dict.get('totalrequirement'),\n",
    "    'exposure': mgn_dict.get('exposuremargin'),\n",
    "    'span': mgn_dict.get('spanRequirement'),\n",
    "    'addn_margin': mgn_dict.get('additionalmargin')\n",
    "}"
   ]
  },
  {
   "cell_type": "code",
   "execution_count": null,
   "metadata": {},
   "outputs": [],
   "source": [
    "margins"
   ]
  }
 ],
 "metadata": {
  "kernelspec": {
   "display_name": ".venv",
   "language": "python",
   "name": "python3"
  },
  "language_info": {
   "codemirror_mode": {
    "name": "ipython",
    "version": 3
   },
   "file_extension": ".py",
   "mimetype": "text/x-python",
   "name": "python",
   "nbconvert_exporter": "python",
   "pygments_lexer": "ipython3",
   "version": "3.11.5"
  }
 },
 "nbformat": 4,
 "nbformat_minor": 2
}
