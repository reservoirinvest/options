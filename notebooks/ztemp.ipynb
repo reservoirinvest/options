{
 "cells": [
  {
   "cell_type": "code",
   "execution_count": null,
   "metadata": {},
   "outputs": [],
   "source": [
    "## THIS CELL SHOULD BE IN ALL VSCODE NOTEBOOKS ##\n",
    "\n",
    "MARKET = 'SNP'\n",
    "\n",
    "# Add `src` to _src.pth in .venv to allow imports in VS Code\n",
    "from sysconfig import get_path\n",
    "from pathlib import Path\n",
    "if 'src' not in Path.cwd().parts:\n",
    "    src_path = str(Path(get_path('purelib')) / '_src.pth')\n",
    "    with open(src_path, 'w') as f:\n",
    "        f.write(str(Path.cwd() / 'src\\n'))\n",
    "\n",
    "# Start the Jupyter loop\n",
    "from ib_insync import util, IB\n",
    "util.startLoop()"
   ]
  },
  {
   "cell_type": "code",
   "execution_count": null,
   "metadata": {},
   "outputs": [],
   "source": [
    "# Set the root\n",
    "from from_root import from_root\n",
    "ROOT = from_root()\n",
    "\n",
    "from utils import Vars\n",
    "_vars = Vars(MARKET)\n",
    "PORT = _vars.PORT\n",
    "PAPER = _vars.PAPER \n",
    "OPT_COLS = _vars.OPT_COLS[0]\n",
    "DATAPATH = ROOT / 'data' / MARKET"
   ]
  },
  {
   "cell_type": "markdown",
   "metadata": {},
   "source": [
    "# RECTIFY PREPARE_SOW FUNCTION\n",
    "## Customized `build_base` for a short number of symbols"
   ]
  },
  {
   "cell_type": "code",
   "execution_count": null,
   "metadata": {},
   "outputs": [],
   "source": [
    "# Imports \n",
    "from utils import get_order_pf\n",
    "import asyncio"
   ]
  },
  {
   "cell_type": "code",
   "execution_count": null,
   "metadata": {},
   "outputs": [],
   "source": [
    "output = asyncio.run(get_order_pf(PAPER))"
   ]
  },
  {
   "cell_type": "code",
   "execution_count": null,
   "metadata": {},
   "outputs": [],
   "source": [
    "df_order, df_pf = output"
   ]
  },
  {
   "cell_type": "code",
   "execution_count": null,
   "metadata": {},
   "outputs": [],
   "source": [
    "df_order"
   ]
  },
  {
   "cell_type": "code",
   "execution_count": null,
   "metadata": {},
   "outputs": [],
   "source": [
    "df_pf"
   ]
  },
  {
   "cell_type": "code",
   "execution_count": null,
   "metadata": {},
   "outputs": [],
   "source": []
  }
 ],
 "metadata": {
  "kernelspec": {
   "display_name": ".venv",
   "language": "python",
   "name": "python3"
  },
  "language_info": {
   "codemirror_mode": {
    "name": "ipython",
    "version": 3
   },
   "file_extension": ".py",
   "mimetype": "text/x-python",
   "name": "python",
   "nbconvert_exporter": "python",
   "pygments_lexer": "ipython3",
   "version": "3.11.5"
  }
 },
 "nbformat": 4,
 "nbformat_minor": 2
}
