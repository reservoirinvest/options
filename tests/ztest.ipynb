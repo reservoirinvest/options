{
 "cells": [
  {
   "cell_type": "code",
   "execution_count": 1,
   "metadata": {
    "jupyter": {
     "source_hidden": true
    }
   },
   "outputs": [],
   "source": [
    "## THIS CELL SHOULD BE IN ALL VSCODE NOTEBOOKS ##\n",
    "\n",
    "MARKET = 'NSE'\n",
    "\n",
    "from loguru import logger\n",
    "\n",
    "import pandas as pd\n",
    "pd.options.display.max_columns=None\n",
    "\n",
    "# Add `src` to _src.pth in .venv to allow imports in VS Code\n",
    "from sysconfig import get_path\n",
    "from pathlib import Path\n",
    "if 'src' not in Path.cwd().parts:\n",
    "    src_path = str(Path(get_path('purelib')) / '_src.pth')\n",
    "    with open(src_path, 'w') as f:\n",
    "        f.write(str(Path.cwd() / 'src\\n'))\n",
    "\n",
    "# Start the Jupyter loop\n",
    "from ib_insync import util\n",
    "util.startLoop()"
   ]
  },
  {
   "cell_type": "markdown",
   "metadata": {},
   "source": [
    "# fnos and lots from Zerodha"
   ]
  },
  {
   "cell_type": "code",
   "execution_count": 14,
   "metadata": {},
   "outputs": [],
   "source": [
    "from utils import zerodha_lots_expiries"
   ]
  },
  {
   "cell_type": "code",
   "execution_count": 15,
   "metadata": {},
   "outputs": [],
   "source": [
    "df = zerodha_lots_expiries()"
   ]
  },
  {
   "cell_type": "code",
   "execution_count": 16,
   "metadata": {},
   "outputs": [
    {
     "data": {
      "text/html": [
       "<div>\n",
       "<style scoped>\n",
       "    .dataframe tbody tr th:only-of-type {\n",
       "        vertical-align: middle;\n",
       "    }\n",
       "\n",
       "    .dataframe tbody tr th {\n",
       "        vertical-align: top;\n",
       "    }\n",
       "\n",
       "    .dataframe thead th {\n",
       "        text-align: right;\n",
       "    }\n",
       "</style>\n",
       "<table border=\"1\" class=\"dataframe\">\n",
       "  <thead>\n",
       "    <tr style=\"text-align: right;\">\n",
       "      <th></th>\n",
       "      <th>zeroscrip</th>\n",
       "      <th>symbol</th>\n",
       "      <th>zexpiry</th>\n",
       "      <th>lot</th>\n",
       "    </tr>\n",
       "  </thead>\n",
       "  <tbody>\n",
       "    <tr>\n",
       "      <th>0</th>\n",
       "      <td>AARTIIND24JUL</td>\n",
       "      <td>AARTIIND</td>\n",
       "      <td>25-JUL-2024</td>\n",
       "      <td>1000</td>\n",
       "    </tr>\n",
       "    <tr>\n",
       "      <th>1</th>\n",
       "      <td>AARTIIND24JUN</td>\n",
       "      <td>AARTIIND</td>\n",
       "      <td>27-JUN-2024</td>\n",
       "      <td>1000</td>\n",
       "    </tr>\n",
       "    <tr>\n",
       "      <th>2</th>\n",
       "      <td>AARTIIND24MAY</td>\n",
       "      <td>AARTIIND</td>\n",
       "      <td>30-MAY-2024</td>\n",
       "      <td>1000</td>\n",
       "    </tr>\n",
       "    <tr>\n",
       "      <th>3</th>\n",
       "      <td>ABB24JUL</td>\n",
       "      <td>ABB</td>\n",
       "      <td>25-JUL-2024</td>\n",
       "      <td>125</td>\n",
       "    </tr>\n",
       "    <tr>\n",
       "      <th>4</th>\n",
       "      <td>ABB24JUN</td>\n",
       "      <td>ABB</td>\n",
       "      <td>27-JUN-2024</td>\n",
       "      <td>125</td>\n",
       "    </tr>\n",
       "    <tr>\n",
       "      <th>...</th>\n",
       "      <td>...</td>\n",
       "      <td>...</td>\n",
       "      <td>...</td>\n",
       "      <td>...</td>\n",
       "    </tr>\n",
       "    <tr>\n",
       "      <th>580</th>\n",
       "      <td>NIFTY24523</td>\n",
       "      <td>NIFTY</td>\n",
       "      <td>23-MAY-2024</td>\n",
       "      <td>25</td>\n",
       "    </tr>\n",
       "    <tr>\n",
       "      <th>581</th>\n",
       "      <td>BANKNIFTY24522</td>\n",
       "      <td>BANKNIFTY</td>\n",
       "      <td>22-MAY-2024</td>\n",
       "      <td>15</td>\n",
       "    </tr>\n",
       "    <tr>\n",
       "      <th>582</th>\n",
       "      <td>SENSEX2467</td>\n",
       "      <td>SENSEX</td>\n",
       "      <td>07-JUN-2024</td>\n",
       "      <td>10</td>\n",
       "    </tr>\n",
       "    <tr>\n",
       "      <th>583</th>\n",
       "      <td>MIDCPNIFTY24610</td>\n",
       "      <td>MIDCPNIFTY</td>\n",
       "      <td>10-JUN-2024</td>\n",
       "      <td>75</td>\n",
       "    </tr>\n",
       "    <tr>\n",
       "      <th>584</th>\n",
       "      <td>NIFTY2466</td>\n",
       "      <td>NIFTY</td>\n",
       "      <td>06-JUN-2024</td>\n",
       "      <td>25</td>\n",
       "    </tr>\n",
       "  </tbody>\n",
       "</table>\n",
       "<p>585 rows × 4 columns</p>\n",
       "</div>"
      ],
      "text/plain": [
       "           zeroscrip      symbol      zexpiry   lot\n",
       "0      AARTIIND24JUL    AARTIIND  25-JUL-2024  1000\n",
       "1      AARTIIND24JUN    AARTIIND  27-JUN-2024  1000\n",
       "2      AARTIIND24MAY    AARTIIND  30-MAY-2024  1000\n",
       "3           ABB24JUL         ABB  25-JUL-2024   125\n",
       "4           ABB24JUN         ABB  27-JUN-2024   125\n",
       "..               ...         ...          ...   ...\n",
       "580       NIFTY24523       NIFTY  23-MAY-2024    25\n",
       "581   BANKNIFTY24522   BANKNIFTY  22-MAY-2024    15\n",
       "582       SENSEX2467      SENSEX  07-JUN-2024    10\n",
       "583  MIDCPNIFTY24610  MIDCPNIFTY  10-JUN-2024    75\n",
       "584        NIFTY2466       NIFTY  06-JUN-2024    25\n",
       "\n",
       "[585 rows x 4 columns]"
      ]
     },
     "execution_count": 16,
     "metadata": {},
     "output_type": "execute_result"
    }
   ],
   "source": [
    "df"
   ]
  },
  {
   "cell_type": "markdown",
   "metadata": {},
   "source": [
    "# Zerodha margin test"
   ]
  },
  {
   "cell_type": "code",
   "execution_count": null,
   "metadata": {},
   "outputs": [],
   "source": [
    "import requests\n",
    "from bs4 import BeautifulSoup\n",
    "import pandas as pd\n",
    "\n",
    "\n",
    "url = \"https://zerodha.com/margin-calculator/Equity/\"\n",
    "\n",
    "headers = {\n",
    "    'User-Agent': 'Mozilla/5.0 (Macintosh; Intel Mac OS X 10_10_1) \\\n",
    "                    AppleWebKit/537.36 (KHTML, like Gecko) \\\n",
    "                    Chrome/39.0.2171.95 Safari/537.36'\n",
    "}\n",
    "\n",
    "\n",
    "# request to zerodha\n",
    "data = requests.get(url, headers=headers)\n",
    "\n",
    "\n",
    "# converting the response to beautifulsoup element for scraping\n",
    "soup = BeautifulSoup(data.text)\n",
    "\n",
    "\n",
    "# storing the html data into list format\n",
    "final_data = []\n",
    "\n",
    "\n",
    "# iterating over html to get the stock name and margin values\n",
    "for k in range(0, len(soup.findAll('td'))):\n",
    "    if soup.findAll('td')[k].text.endswith(\":EQ\"):\n",
    "        final_data.append([soup.findAll('td')[k].text.strip(),\n",
    "            soup.findAll('td')[k+2].text.strip()]\n",
    "        )\n",
    "\n",
    "\n",
    "# converting the list to dataframe\n",
    "df = pd.DataFrame(final_data, columns=[\"Stock Name\", \"Margin Value\"])\n"
   ]
  },
  {
   "cell_type": "code",
   "execution_count": null,
   "metadata": {},
   "outputs": [],
   "source": [
    "\n",
    "\n",
    "# saving the dataframe(data) into cvs format\n",
    "df.to_csv(\"zerodha_margin_values.csv\", index=False)"
   ]
  },
  {
   "cell_type": "code",
   "execution_count": null,
   "metadata": {},
   "outputs": [],
   "source": [
    "# Imports \n",
    "from utils import Vars, get_pickle\n",
    "\n",
    "# Set the root\n",
    "from from_root import from_root\n",
    "ROOT = from_root()\n",
    "\n",
    "_vars = Vars(MARKET)\n",
    "PORT = port = _vars.PORT\n",
    "OPT_COLS = _vars.OPT_COLS[0]\n",
    "COLS = _vars.COLS[0]\n",
    "DATAPATH = ROOT / 'data' / MARKET.lower()\n"
   ]
  }
 ],
 "metadata": {
  "kernelspec": {
   "display_name": "Python 3 (ipykernel)",
   "language": "python",
   "name": "python3"
  },
  "language_info": {
   "codemirror_mode": {
    "name": "ipython",
    "version": 3
   },
   "file_extension": ".py",
   "mimetype": "text/x-python",
   "name": "python",
   "nbconvert_exporter": "python",
   "pygments_lexer": "ipython3",
   "version": "3.11.5"
  }
 },
 "nbformat": 4,
 "nbformat_minor": 4
}
