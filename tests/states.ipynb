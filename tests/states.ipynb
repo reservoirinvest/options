{
 "cells": [
  {
   "cell_type": "code",
   "execution_count": null,
   "metadata": {},
   "outputs": [],
   "source": [
    "## THIS CELL SHOULD BE IN ALL VSCODE NOTEBOOKS ##\n",
    "\n",
    "MARKET = 'NSE'\n",
    "\n",
    "# Add `src` to _src.pth in .venv to allow imports in VS Code\n",
    "from sysconfig import get_path\n",
    "from pathlib import Path\n",
    "if 'src' not in Path.cwd().parts:\n",
    "    src_path = str(Path(get_path('purelib')) / '_src.pth')\n",
    "    with open(src_path, 'w') as f:\n",
    "        f.write(str(Path.cwd() / 'src\\n'))\n",
    "\n",
    "# Start the Jupyter loop\n",
    "from ib_insync import util, IB\n",
    "util.startLoop()"
   ]
  },
  {
   "cell_type": "code",
   "execution_count": null,
   "metadata": {},
   "outputs": [],
   "source": [
    "# Set the root\n",
    "from from_root import from_root\n",
    "ROOT = from_root()\n",
    "\n",
    "from utils import Vars\n",
    "_vars = Vars(MARKET)\n",
    "PORT = _vars.PORT\n",
    "PAPER = _vars.PAPER \n",
    "OPT_COLS = _vars.OPT_COLS[0]\n",
    "DATAPATH = ROOT / 'data' / MARKET.lower()"
   ]
  },
  {
   "cell_type": "markdown",
   "metadata": {},
   "source": [
    "# Build `states`\n",
    "## Get margins of pf positions"
   ]
  },
  {
   "cell_type": "code",
   "execution_count": null,
   "metadata": {},
   "outputs": [],
   "source": [
    "# Imports\n",
    "import asyncio\n",
    "\n",
    "import numpy as np\n",
    "import pandas as pd\n",
    "from ib_insync import MarketOrder\n",
    "\n",
    "from utils import get_pickle, get_portfolio_with_margins, get_open_orders, make_equity_contracts, get_prices_with_ivs"
   ]
  },
  {
   "cell_type": "code",
   "execution_count": null,
   "metadata": {},
   "outputs": [],
   "source": [
    "df_pfm = get_portfolio_with_margins(MARKET)"
   ]
  },
  {
   "cell_type": "markdown",
   "metadata": {},
   "source": [
    "## Get underlying prices of portfolio option positions"
   ]
  },
  {
   "cell_type": "code",
   "execution_count": null,
   "metadata": {},
   "outputs": [],
   "source": [
    "# Get underlying prices of portfolio options\n",
    "conditions = df_pfm.secType == 'OPT'\n",
    "opt_symbols = set(df_pfm[conditions].symbol) # unique set of symbols\n",
    "und_contracts = make_equity_contracts(opt_symbols, MARKET)"
   ]
  },
  {
   "cell_type": "code",
   "execution_count": null,
   "metadata": {},
   "outputs": [],
   "source": [
    "und_prices = asyncio.run(get_prices_with_ivs(port=PORT, input_contracts = und_contracts))"
   ]
  },
  {
   "cell_type": "markdown",
   "metadata": {},
   "source": [
    "## Get open orders"
   ]
  },
  {
   "cell_type": "code",
   "execution_count": null,
   "metadata": {},
   "outputs": [],
   "source": [
    "# Get open orders\n",
    "with IB().connect(port=PORT) as ib:\n",
    "    df_openords = asyncio.run(get_open_orders(ib)).set_index('conId')"
   ]
  },
  {
   "cell_type": "markdown",
   "metadata": {},
   "source": [
    "# Unreaped\n",
    "### A naked call or put option that doesn't have an open order to reap. [light-yellow]"
   ]
  },
  {
   "cell_type": "code",
   "execution_count": null,
   "metadata": {},
   "outputs": [],
   "source": [
    "df_openords"
   ]
  },
  {
   "cell_type": "markdown",
   "metadata": {},
   "source": [
    "# Unsowed"
   ]
  },
  {
   "cell_type": "code",
   "execution_count": null,
   "metadata": {},
   "outputs": [],
   "source": [
    "# get unds, open orders and portfolio\n",
    "unds = set(get_pickle(DATAPATH / 'unds.pkl').keys())\n",
    "df_openorder, df_pf = asyncio.run(get_order_pf(PORT))"
   ]
  },
  {
   "cell_type": "code",
   "execution_count": null,
   "metadata": {},
   "outputs": [],
   "source": [
    "# No orders to sow and no existing positions\n",
    "\n",
    "options = df_pf.secType == 'OPT'\n",
    "stocks = df_pf.secType == 'STK'\n",
    "\n",
    "long = df_pf.position > 0\n",
    "long_options = long & options\n",
    "df_pf[long_options]\n",
    "\n",
    "unsowed = unds - set(df_openorder.symbol) - set(df_pf.symbol)\n",
    "unsowed"
   ]
  },
  {
   "cell_type": "markdown",
   "metadata": {},
   "source": [
    "# Orphaned"
   ]
  },
  {
   "cell_type": "code",
   "execution_count": null,
   "metadata": {},
   "outputs": [],
   "source": [
    "# Long calls or puts without any underlying stock position\n",
    "options = df_pf.secType == 'OPT'\n",
    "stocks = df_pf.secType == 'STK'\n",
    "long = df_pf.position >= 1\n",
    "long_stocks = long & stocks\n",
    "long_options = long & options\n",
    "orphaned = long_stocks & long_options\n",
    "\n",
    "orphaned = df_pf[orphaned]\n",
    "orphaned"
   ]
  },
  {
   "cell_type": "code",
   "execution_count": null,
   "metadata": {},
   "outputs": [],
   "source": []
  },
  {
   "cell_type": "code",
   "execution_count": null,
   "metadata": {},
   "outputs": [],
   "source": []
  },
  {
   "cell_type": "code",
   "execution_count": null,
   "metadata": {},
   "outputs": [],
   "source": []
  }
 ],
 "metadata": {
  "kernelspec": {
   "display_name": ".venv",
   "language": "python",
   "name": "python3"
  },
  "language_info": {
   "codemirror_mode": {
    "name": "ipython",
    "version": 3
   },
   "file_extension": ".py",
   "mimetype": "text/x-python",
   "name": "python",
   "nbconvert_exporter": "python",
   "pygments_lexer": "ipython3",
   "version": "3.11.5"
  }
 },
 "nbformat": 4,
 "nbformat_minor": 2
}
