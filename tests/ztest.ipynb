{
 "cells": [
  {
   "cell_type": "code",
   "execution_count": 3,
   "metadata": {},
   "outputs": [],
   "source": [
    "## THIS CELL SHOULD BE IN ALL VSCODE NOTEBOOKS ##\n",
    "\n",
    "MARKET = 'SNP'\n",
    "\n",
    "import pandas as pd\n",
    "pd.options.display.max_columns=None\n",
    "\n",
    "# Add `src` to _src.pth in .venv to allow imports in VS Code\n",
    "from sysconfig import get_path\n",
    "from pathlib import Path\n",
    "if 'src' not in Path.cwd().parts:\n",
    "    src_path = str(Path(get_path('purelib')) / '_src.pth')\n",
    "    with open(src_path, 'w') as f:\n",
    "        f.write(str(Path.cwd() / 'src\\n'))\n",
    "\n",
    "# Start the Jupyter loop\n",
    "from ib_insync import util, IB\n",
    "util.startLoop()"
   ]
  },
  {
   "cell_type": "code",
   "execution_count": 4,
   "metadata": {},
   "outputs": [],
   "source": [
    "# Set the root\n",
    "from from_root import from_root\n",
    "ROOT = from_root()\n",
    "\n",
    "from utils import Vars\n",
    "_vars = Vars(MARKET)\n",
    "PORT = _vars.PORT\n",
    "PAPER = _vars.PAPER \n",
    "OPT_COLS = _vars.OPT_COLS[0]\n",
    "DATAPATH = ROOT / 'data' / MARKET.lower()"
   ]
  },
  {
   "cell_type": "markdown",
   "metadata": {},
   "source": [
    "# Making `Rule of 25` for margins\n",
    "- [ ] Get undPrices with IVs\n",
    "- [ ] Get the option chains\n",
    "- [ ] Compute 25% of undPrice * lots\n",
    "- [ ] Make `dte curve`. Lower the dte, lower the margin penalty.\n",
    "- [ ] Make the `strike curve`. Closer the strike to undPrice, lower the penatly.\n",
    "- [ ] Compute `computedmgn` and populate df_chains"
   ]
  },
  {
   "cell_type": "code",
   "execution_count": 5,
   "metadata": {},
   "outputs": [],
   "source": [
    "# imports\n",
    "import asyncio\n",
    "\n",
    "from utils import (get_file_age, get_pickle, get_prices_with_ivs, pickle_me, get_a_price_iv,\n",
    "                   update_chains_dte, chunk_me, to_list, clean_ib_util_df, compute_sdev_right)"
   ]
  },
  {
   "cell_type": "markdown",
   "metadata": {},
   "source": [
    "## Getting underlying prices"
   ]
  },
  {
   "cell_type": "code",
   "execution_count": 6,
   "metadata": {},
   "outputs": [],
   "source": [
    "# Get und_prices\n",
    "unds = get_pickle(DATAPATH / 'unds.pkl')\n",
    "df_unds = pd.DataFrame.from_dict(unds.items())\n",
    "df_unds.columns = ['symbol', 'contract']"
   ]
  },
  {
   "cell_type": "code",
   "execution_count": 5,
   "metadata": {},
   "outputs": [],
   "source": [
    "def split_symbol_price_iv(prices_dict: dict) -> pd.DataFrame:\n",
    "\n",
    "    \"\"\"Splits symbol, prices and ivs into a df.\n",
    "\n",
    "    To be used after get_mkt_prices()\"\"\"\n",
    "\n",
    "    symbols = []\n",
    "    prices = []\n",
    "    ivs = []\n",
    "\n",
    "    for symbol, v in prices_dict.items():\n",
    "        price, iv = v\n",
    "        \n",
    "        symbols.append(symbol)\n",
    "        prices.append(price)\n",
    "        ivs.append(iv)\n",
    "        \n",
    "    df_prices = pd.DataFrame({'symbol': symbols, 'price': prices, 'iv': ivs })\n",
    "\n",
    "    return df_prices"
   ]
  },
  {
   "cell_type": "code",
   "execution_count": 6,
   "metadata": {},
   "outputs": [],
   "source": [
    "from tqdm.asyncio import tqdm\n",
    "\n",
    "contracts = df_unds.contract\n",
    "chunk_size = 44\n",
    "sleep = 7  # import time\n",
    "\n",
    "async def get_mkt_prices(port: int, \n",
    "                         contracts: list, \n",
    "                         chunk_size: int=44, \n",
    "                         sleep: int=7) -> pd.DataFrame:\n",
    "\n",
    "    contracts = to_list(contracts)\n",
    "    chunks = tqdm(chunk_me(contracts, chunk_size), desc=\"Getting market prices with IVs\")\n",
    "    results = dict()\n",
    "    with await IB().connectAsync(port=port) as ib:\n",
    "        for cts in chunks:\n",
    "            tasks = [asyncio.create_task(get_a_price_iv(ib, c, sleep)) for c in cts]\n",
    "            res = await asyncio.gather(*tasks)\n",
    "\n",
    "            for r in res:\n",
    "                symbol, price, iv = r\n",
    "                results[symbol] = (price, iv)\n",
    "\n",
    "    df_prices = split_symbol_price_iv(results)\n",
    "    df_prices = pd.merge(clean_ib_util_df(contracts).iloc[:, :6], df_prices, on='symbol')\n",
    "\n",
    "    # remove unnecessary columns (for secType == `STK`)\n",
    "    keep_cols = ~((df_prices == 0).all() | \\\n",
    "              (df_prices == \"\").all() | \\\n",
    "                df_prices.isnull().all())\n",
    "    \n",
    "    df_prices = df_prices.loc[:, keep_cols[keep_cols == True].index]\n",
    "\n",
    "    return df_prices"
   ]
  },
  {
   "cell_type": "code",
   "execution_count": 7,
   "metadata": {},
   "outputs": [
    {
     "name": "stderr",
     "output_type": "stream",
     "text": [
      "Getting market prices with IVs:   0%|          | 0/6 [00:00<?, ?it/s]"
     ]
    },
    {
     "name": "stderr",
     "output_type": "stream",
     "text": [
      "\u001b[32m2024-03-02 16:17:47.253\u001b[0m | \u001b[1mINFO    \u001b[0m | \u001b[36mutils\u001b[0m:\u001b[36mget_a_price_iv\u001b[0m:\u001b[36m879\u001b[0m - \u001b[1mNo price found for COF!\u001b[0m\n",
      "Getting market prices with IVs:  17%|█▋        | 1/6 [00:21<01:48, 21.69s/it]\u001b[32m2024-03-02 16:18:07.679\u001b[0m | \u001b[1mINFO    \u001b[0m | \u001b[36mutils\u001b[0m:\u001b[36mget_a_price_iv\u001b[0m:\u001b[36m879\u001b[0m - \u001b[1mNo price found for DXCM!\u001b[0m\n",
      "Getting market prices with IVs:  50%|█████     | 3/6 [01:02<01:01, 20.62s/it]\u001b[32m2024-03-02 16:18:48.691\u001b[0m | \u001b[1mINFO    \u001b[0m | \u001b[36mutils\u001b[0m:\u001b[36mget_a_price_iv\u001b[0m:\u001b[36m879\u001b[0m - \u001b[1mNo price found for ON!\u001b[0m\n",
      "Getting market prices with IVs: 100%|██████████| 6/6 [02:03<00:00, 20.56s/it]\n"
     ]
    }
   ],
   "source": [
    "df_prices = asyncio.run(get_mkt_prices(port=PORT, contracts=df_unds.contract))"
   ]
  },
  {
   "cell_type": "markdown",
   "metadata": {},
   "source": [
    "## Getting the `chains`"
   ]
  },
  {
   "cell_type": "code",
   "execution_count": 10,
   "metadata": {},
   "outputs": [],
   "source": [
    "pickled_chains = DATAPATH / 'df_chains.pkl'\n",
    "MINUTES_GAP = 15 # Ensures that the files are updated at least 4 times an hour!\n",
    "\n",
    "# check age of `df_chains.pkl`\n",
    "pickle_chains_age = get_file_age(pickled_chains)\n",
    "\n",
    "# get the pickled chains and remove dte <=0\n",
    "df_chains = get_pickle(pickled_chains)\n",
    "\n",
    "td_in_minutes = pickle_chains_age.td.total_seconds()/60\n",
    "\n",
    "if td_in_minutes > MINUTES_GAP:\n",
    "    df_chains = update_chains_dte(df_chains, MARKET)\n",
    "    df = compute_sdev_right(df_chains)\n",
    "    pickle_me(df, pickled_chains)"
   ]
  },
  {
   "cell_type": "markdown",
   "metadata": {},
   "source": [
    "### Calculate `sdev` and `right`"
   ]
  },
  {
   "cell_type": "raw",
   "metadata": {},
   "source": [
    "def compute_sdev_right(df: pd.DataFrame) -> pd.DataFrame:\n",
    "    \"\"\"Computes sdev and right for option chains\n",
    "    \n",
    "    Note:\n",
    "    ----\n",
    "    Function needs `iv`, `undprice` and `dte` columns in df\"\"\"\n",
    "\n",
    "    # remove dtes <= 0 to prevent math failure\n",
    "    df = df[df.dte > 0].reset_index(drop=True)\n",
    "\n",
    "    # compute sdev\n",
    "    df = df.assign(sigma=df[['iv', 'undPrice', 'dte']].\\\n",
    "                    apply(lambda x: get_a_stdev(x.iv, x.undPrice, x.dte), axis=1))\n",
    "\n",
    "    df = df.assign(sdev = (df.strike - df.undPrice) / df.sigma)\n",
    "\n",
    "    # determine the right\n",
    "    df = df.assign(right = df.sdev.apply(lambda sdev: 'P' if sdev < 0 else 'C'))\n",
    "\n",
    "    return df"
   ]
  },
  {
   "cell_type": "code",
   "execution_count": 1,
   "metadata": {},
   "outputs": [],
   "source": [
    "from utils import get_a_stdev"
   ]
  },
  {
   "cell_type": "code",
   "execution_count": 7,
   "metadata": {},
   "outputs": [],
   "source": [
    "def compute_strike_sd_right(df: pd.DataFrame) -> pd.DataFrame:\n",
    "    \"\"\"Computes strike's standard deviation and right for option chains\n",
    "    \n",
    "    Note:\n",
    "    ----\n",
    "    Function needs `iv`, `undprice` and `dte` columns in df\"\"\"\n",
    "\n",
    "    # remove dtes <= 0 to prevent math failure\n",
    "    df = df[df.dte > 0].reset_index(drop=True)\n",
    "\n",
    "    # compute strike's standard deviation\n",
    "    df = df.assign(sigma=df[['iv', 'undPrice', 'dte']].\\\n",
    "                    apply(lambda x: get_a_stdev(x.iv, x.undPrice, x.dte), axis=1))\n",
    "\n",
    "    df = df.assign(strike_sdev = (df.strike - df.undPrice) / df.sigma)\n",
    "\n",
    "    # determine the right\n",
    "    df = df.assign(right = df.strike_sdev.apply(lambda strike_sdev: 'P' if strike_sdev < 0 else 'C'))\n",
    "\n",
    "    return df"
   ]
  },
  {
   "cell_type": "code",
   "execution_count": 8,
   "metadata": {},
   "outputs": [],
   "source": [
    "def target_options_with_adjusted_sdev(df_chains: pd.DataFrame,\n",
    "                                      STDMULT: float,\n",
    "                                      how_many: int,\n",
    "                                      DTESTDEVLOW: float, \n",
    "                                      DTESTDEVHI: float,\n",
    "                                      DECAYRATE: float,\n",
    "                                      MARKET_IS_OPEN: bool) -> pd.DataFrame:\n",
    "    \n",
    "    \"\"\"Adjust the standard deviation to DTE, penalizes DTES closer to zero\"\"\"\n",
    "\n",
    "    # Get the extra SD adjusted to DTE\n",
    "    # xtra_sd = 1-(df_chains.dte/100)\n",
    "\n",
    "    MARKET = df_chains.exchange.unique()[0]\n",
    "\n",
    "    _vars = Vars(MARKET)\n",
    "\n",
    "    # Factor a bump to dev if market is not open\n",
    "    if MARKET_IS_OPEN:\n",
    "        GAPBUMP = 0\n",
    "    else:\n",
    "        GAPBUMP = _vars.GAPBUMP\n",
    "\n",
    "    xtra_sd = df_chains.dte.apply(lambda dte: sdev_for_dte(dte=dte,\n",
    "                                                           DTESTDEVLOW=DTESTDEVLOW, \n",
    "                                                           DTESTDEVHI=DTESTDEVHI,\n",
    "                                                           DECAYRATE=DECAYRATE,\n",
    "                                                           GAPBUMP=GAPBUMP\n",
    "                                                           ))\n",
    "\n",
    "    # Build the series for revised SD\n",
    "    sd_revised = STDMULT + xtra_sd if STDMULT > 0 else STDMULT - xtra_sd\n",
    "\n",
    "    # Identify the closest standerd devs to the revised SD\\\n",
    "    df_ch = df_chains.assign(sd_revised=sd_revised)\n",
    "    closest_sdevs = df_ch.groupby(['symbol', 'dte'])[['sdev', 'sd_revised']]\\\n",
    "        .apply(lambda x: get_closest_values(x.sdev, \n",
    "                                            x.sd_revised.min(), \n",
    "                                            how_many))\n",
    "    closest_sdevs.name = 'sdev1' \n",
    "\n",
    "    # Join the closest chains to the closest revised SD\n",
    "    df_ch1 = df_ch.set_index(['symbol', 'dte']).join(closest_sdevs)\n",
    "\n",
    "    # Get the target chains\n",
    "    df_ch2 = df_ch1[df_ch1.apply(lambda x: x.sdev in x.sdev1, axis=1)] \\\n",
    "                        .reset_index()\n",
    "    \n",
    "    return df_ch2"
   ]
  },
  {
   "cell_type": "code",
   "execution_count": null,
   "metadata": {},
   "outputs": [],
   "source": []
  }
 ],
 "metadata": {
  "kernelspec": {
   "display_name": ".venv",
   "language": "python",
   "name": "python3"
  },
  "language_info": {
   "codemirror_mode": {
    "name": "ipython",
    "version": 3
   },
   "file_extension": ".py",
   "mimetype": "text/x-python",
   "name": "python",
   "nbconvert_exporter": "python",
   "pygments_lexer": "ipython3",
   "version": "3.11.5"
  }
 },
 "nbformat": 4,
 "nbformat_minor": 2
}
