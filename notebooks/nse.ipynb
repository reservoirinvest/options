{
 "cells": [
  {
   "cell_type": "code",
   "execution_count": 1,
   "metadata": {},
   "outputs": [],
   "source": [
    "## THIS CELL SHOULD BE IN ALL VSCODE NOTEBOOKS ##\n",
    "\n",
    "MARKET = 'NSE'\n",
    "\n",
    "import sys\n",
    "\n",
    "import pandas as pd\n",
    "from from_root import from_root\n",
    "from ib_insync import IB, LimitOrder, util\n",
    "from loguru import logger\n",
    "\n",
    "from src.utils import Vars, get_pickle, create_target_opts, place_orders, quick_pf\n",
    "\n",
    "util.startLoop()\n",
    "\n",
    "# Set the root\n",
    "ROOT = from_root()\n",
    "_vars = Vars(MARKET)\n",
    "PORT = port = _vars.PORT\n",
    "DATAPATH = ROOT / 'data' / MARKET\n",
    "opt_cols = _vars.OPT_COLS[0]\n",
    "\n",
    "# set vscode path\n",
    "sys.path.append(str(ROOT / 'src'))\n",
    "\n",
    "# To import use \n",
    "# from src.<filename> import <function>"
   ]
  },
  {
   "cell_type": "code",
   "execution_count": 2,
   "metadata": {},
   "outputs": [],
   "source": [
    "df = create_target_opts(market=MARKET)"
   ]
  },
  {
   "cell_type": "code",
   "execution_count": 3,
   "metadata": {},
   "outputs": [],
   "source": [
    "# REMOVE PORTFOLIO SYMBOLS FROM TARGET\n",
    "# ====================================\n",
    "\n",
    "# Get the portfolio\n",
    "with IB().connect(port=PORT) as ib:\n",
    "    df_pf = quick_pf(ib)\n",
    "\n",
    "# Remove targets which are already in the portfolio\n",
    "try:\n",
    "    if df_pf.empty:\n",
    "        pass\n",
    "    else:\n",
    "        df = df[~df.symbol.isin(set(df_pf.symbol))]\n",
    "except:\n",
    "    pass"
   ]
  },
  {
   "cell_type": "code",
   "execution_count": 6,
   "metadata": {},
   "outputs": [],
   "source": [
    "# REMOVE OPEN ORDER SYMBOLS\n",
    "# =========================\n",
    "\n",
    "with IB().connect(port=PORT) as ib:\n",
    "    ib.reqAllOpenOrders()  # To kickstart collection of open orders\n",
    "    # ib.sleep(0.3)\n",
    "    trades = ib.trades()\n",
    "\n",
    "if trades:\n",
    "    all_trades_df = (util.df(t.contract for t in trades).join(\n",
    "        util.df(t.orderStatus\n",
    "                for t in trades)).join(util.df(t.order for t in trades),\n",
    "                                        lsuffix=\"_\"))\n",
    "\n",
    "    all_trades_df.rename({\"lastTradeDateOrContractMonth\": \"expiry\"},\n",
    "                            axis=\"columns\",\n",
    "                            inplace=True)\n",
    "    trades_cols = [\"conId\", \"symbol\", \"secType\", \"expiry\",\n",
    "        \"strike\", \"right\", \"orderId\", \"permId\", \"action\",\n",
    "        \"totalQuantity\", \"lmtPrice\", \"status\",]\n",
    "\n",
    "    dfo = all_trades_df[trades_cols]\n",
    "    df_openords = dfo[all_trades_df.status.isin(_vars. ACTIVE_STATUS)]\n",
    "\n",
    "else:\n",
    "    df_openords = pd.DataFrame([{'symbol': None}])\n",
    "    \n",
    "if ~df_openords.empty:  # There are some open orders\n",
    "    df = df[~df.symbol.isin(set(df_openords.symbol))]"
   ]
  },
  {
   "cell_type": "code",
   "execution_count": null,
   "metadata": {},
   "outputs": [],
   "source": [
    "# CLEAN UP FURTHER\n",
    "# ======================\n",
    "\n",
    "margins_only = ~df.margin.isnull()\n",
    "with_expPrice = ~df.expPrice.isnull()\n",
    "\n",
    "condition = margins_only & with_expPrice\n",
    "\n",
    "df = df[condition]"
   ]
  },
  {
   "cell_type": "code",
   "execution_count": null,
   "metadata": {},
   "outputs": [],
   "source": [
    "# Make (contract, order) tuple\n",
    "cos = [(contract , LimitOrder('Sell', qty, price))\n",
    "    for contract, qty, price in zip(df.contract, df.lot_size, df.expPrice)]\n",
    "len(cos)"
   ]
  },
  {
   "cell_type": "code",
   "execution_count": null,
   "metadata": {},
   "outputs": [],
   "source": [
    "df[opt_cols]"
   ]
  },
  {
   "cell_type": "raw",
   "metadata": {},
   "source": [
    "# PLACE ORDERS\n",
    "# +++++++++++++\n",
    "with IB().connect(port=PORT) as ib:\n",
    "\n",
    "    orders_placed = place_orders(ib, cos)\n",
    "\n",
    "    logger.info(f\"Successfully placed {len(orders_placed)} orders!\")"
   ]
  },
  {
   "cell_type": "raw",
   "metadata": {},
   "source": [
    "# CANCEL ORDERS\n",
    "# -------------\n",
    "\n",
    "open_orders = [t.order for t in trades if t.orderStatus.status in _vars. ACTIVE_STATUS]\n",
    "\n",
    "with IB().connect(port=_vars.MASTER) as ib:\n",
    "    cancelled_orders = [ib.cancelOrder(order) for order in open_orders]\n"
   ]
  },
  {
   "cell_type": "code",
   "execution_count": null,
   "metadata": {},
   "outputs": [],
   "source": []
  }
 ],
 "metadata": {
  "kernelspec": {
   "display_name": ".venv",
   "language": "python",
   "name": "python3"
  },
  "language_info": {
   "codemirror_mode": {
    "name": "ipython",
    "version": 3
   },
   "file_extension": ".py",
   "mimetype": "text/x-python",
   "name": "python",
   "nbconvert_exporter": "python",
   "pygments_lexer": "ipython3",
   "version": "3.11.5"
  }
 },
 "nbformat": 4,
 "nbformat_minor": 2
}
