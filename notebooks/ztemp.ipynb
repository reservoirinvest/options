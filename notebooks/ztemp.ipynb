{
 "cells": [
  {
   "cell_type": "code",
   "execution_count": null,
   "metadata": {},
   "outputs": [],
   "source": [
    "## THIS CELL SHOULD BE IN ALL VSCODE NOTEBOOKS ##\n",
    "\n",
    "MARKET = 'SNP'\n",
    "\n",
    "import sys\n",
    "\n",
    "import pandas as pd\n",
    "from from_root import from_root\n",
    "from ib_insync import IB, LimitOrder, util\n",
    "from loguru import logger\n",
    "\n",
    "from src.utils import Vars, get_pickle, place_orders, quick_pf\n",
    "\n",
    "util.startLoop()\n",
    "\n",
    "# Set the root\n",
    "ROOT = from_root()\n",
    "_vars = Vars(MARKET)\n",
    "PORT = port = _vars.PORT\n",
    "DATAPATH = ROOT / 'data' / MARKET\n",
    "\n",
    "# set vscode path\n",
    "sys.path.append(str(ROOT / 'src'))\n",
    "\n",
    "# To import use \n",
    "# from src.<filename> import <function>"
   ]
  },
  {
   "cell_type": "code",
   "execution_count": null,
   "metadata": {},
   "outputs": [],
   "source": [
    "df_naked_targets = get_pickle(DATAPATH / 'df_naked_targets.pkl')\n",
    "opt_cols = _vars.OPT_COLS\n",
    "MINEXPROM = _vars.MINEXPROM\n",
    "df = df_naked_targets[next(iter(opt_cols))]"
   ]
  },
  {
   "cell_type": "code",
   "execution_count": null,
   "metadata": {},
   "outputs": [],
   "source": [
    "list(df)"
   ]
  },
  {
   "cell_type": "code",
   "execution_count": null,
   "metadata": {},
   "outputs": [],
   "source": [
    "df = df.assign(optReturn=(df.optPrice*df.lot_size-df.comm)/df.margin*365/df.dte) \\\n",
    "                .dropna(subset=['optReturn'])"
   ]
  },
  {
   "cell_type": "code",
   "execution_count": null,
   "metadata": {},
   "outputs": [],
   "source": [
    "df[next(iter(opt_cols))+['optReturn']].sort_values('optReturn', ascending = False)"
   ]
  },
  {
   "cell_type": "code",
   "execution_count": null,
   "metadata": {},
   "outputs": [],
   "source": [
    "((MINEXPROM*df_naked_targets.dte/365*df_naked_targets.margin)+df_naked_targets.comm)/df_naked_targets.lot_size"
   ]
  },
  {
   "cell_type": "code",
   "execution_count": null,
   "metadata": {},
   "outputs": [],
   "source": [
    "(MINEXPROM*df_naked_targets.dte/365*df_naked_targets.margin) + \\\n",
    "        df_naked_targets.comm/df_naked_targets.lot_size"
   ]
  },
  {
   "cell_type": "code",
   "execution_count": null,
   "metadata": {},
   "outputs": [],
   "source": []
  }
 ],
 "metadata": {
  "kernelspec": {
   "display_name": ".venv",
   "language": "python",
   "name": "python3"
  },
  "language_info": {
   "codemirror_mode": {
    "name": "ipython",
    "version": 3
   },
   "file_extension": ".py",
   "mimetype": "text/x-python",
   "name": "python",
   "nbconvert_exporter": "python",
   "pygments_lexer": "ipython3",
   "version": "3.11.5"
  }
 },
 "nbformat": 4,
 "nbformat_minor": 2
}
