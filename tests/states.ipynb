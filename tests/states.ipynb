{
 "cells": [
  {
   "cell_type": "code",
   "execution_count": 1,
   "metadata": {},
   "outputs": [],
   "source": [
    "## THIS CELL SHOULD BE IN ALL VSCODE NOTEBOOKS ##\n",
    "\n",
    "MARKET = 'NSE'\n",
    "\n",
    "# Add `src` to _src.pth in .venv to allow imports in VS Code\n",
    "from sysconfig import get_path\n",
    "from pathlib import Path\n",
    "if 'src' not in Path.cwd().parts:\n",
    "    src_path = str(Path(get_path('purelib')) / '_src.pth')\n",
    "    with open(src_path, 'w') as f:\n",
    "        f.write(str(Path.cwd() / 'src\\n'))\n",
    "\n",
    "# Start the Jupyter loop\n",
    "from ib_insync import util, IB\n",
    "util.startLoop()"
   ]
  },
  {
   "cell_type": "code",
   "execution_count": 2,
   "metadata": {},
   "outputs": [],
   "source": [
    "# Set the root\n",
    "from from_root import from_root\n",
    "ROOT = from_root()\n",
    "\n",
    "from utils import Vars\n",
    "_vars = Vars(MARKET)\n",
    "PORT = _vars.PORT\n",
    "PAPER = _vars.PAPER \n",
    "OPT_COLS = _vars.OPT_COLS[0]\n",
    "DATAPATH = ROOT / 'data' / MARKET.lower()"
   ]
  },
  {
   "cell_type": "markdown",
   "metadata": {},
   "source": [
    "# Build `states`"
   ]
  },
  {
   "cell_type": "code",
   "execution_count": 3,
   "metadata": {},
   "outputs": [],
   "source": [
    "# Imports\n",
    "import asyncio\n",
    "\n",
    "import numpy as np\n",
    "import pandas as pd\n",
    "from ib_insync import MarketOrder\n",
    "\n",
    "from utils import (get_dte, get_open_orders, get_pickle,\n",
    "                   get_portfolio_with_margins, get_prices_with_ivs,\n",
    "                   make_ib_contracts, move_column, get_prec, trade_extracts)\n",
    "\n",
    "pd.options.display.max_columns = None"
   ]
  },
  {
   "cell_type": "markdown",
   "metadata": {},
   "source": [
    "## Get margins of pf positions"
   ]
  },
  {
   "cell_type": "code",
   "execution_count": 4,
   "metadata": {},
   "outputs": [
    {
     "name": "stderr",
     "output_type": "stream",
     "text": [
      "Qualifiying Portfolio: 100%|██████████| 25/25 [00:00<00:00, 77.45it/s] \n",
      "Getting margins:100%|███████████████████████████| 25/25 [00:01<00:00, 13.41it/s]\n"
     ]
    }
   ],
   "source": [
    "df_pfm = get_portfolio_with_margins(MARKET)"
   ]
  },
  {
   "cell_type": "markdown",
   "metadata": {},
   "source": [
    "## Get open orders"
   ]
  },
  {
   "cell_type": "code",
   "execution_count": 5,
   "metadata": {},
   "outputs": [],
   "source": [
    "# Get open orders\n",
    "with IB().connect(port=PORT) as ib:\n",
    "    df_openords = asyncio.run(get_open_orders(ib)).set_index('conId')"
   ]
  },
  {
   "cell_type": "markdown",
   "metadata": {},
   "source": [
    "## Combine positions and orders"
   ]
  },
  {
   "cell_type": "code",
   "execution_count": 18,
   "metadata": {},
   "outputs": [],
   "source": [
    "# Combine positions and orders\n",
    "df_p = df_pfm.reset_index()\n",
    "df_p.drop(columns=['contract', 'rePnL'], inplace=True)\n",
    "df_p.rename(columns={'multiplier': 'mult'}, inplace=True)\n",
    "df_p.insert(0, 'xnType', 'position')\n",
    "\n",
    "df_o = df_openords.reset_index()\n",
    "df_o.insert(0, 'xnType', 'order')\n",
    "df_o.drop(columns=['order'], inplace=True)\n",
    "df_o.rename(columns={'totalQuantity': 'qty'}, inplace=True)"
   ]
  },
  {
   "cell_type": "markdown",
   "metadata": {},
   "source": [
    "## Get underlying prices of portfolio option positions"
   ]
  },
  {
   "cell_type": "code",
   "execution_count": 19,
   "metadata": {},
   "outputs": [
    {
     "name": "stderr",
     "output_type": "stream",
     "text": [
      "Getting und prices100%|█████████████████████████| 22/22 [00:01<00:00, 16.89it/s]\n"
     ]
    }
   ],
   "source": [
    "df = pd.concat([df_p, df_o], ignore_index=True)\n",
    "df = df.sort_values(['symbol', 'expiry', 'xnType'], ascending=[True, True, False])\n",
    "\n",
    "# get days to expiry\n",
    "dte = df.expiry.apply(lambda x: get_dte(x, MARKET))\n",
    "dte[dte < 0] = 0\n",
    "df = df.assign(dte = dte)\n",
    "\n",
    "# for orders fill position with quantities\n",
    "df.position.fillna(df.qty, inplace=True)\n",
    "\n",
    "# insert `state` column\n",
    "df.insert(1, 'state', 'tbd')\n",
    "\n",
    "# get underlying prices\n",
    "undPrice = np.where(df.secType == 'OPT', np.nan, df.mktPrice)\n",
    "df.insert(4, 'undPrice', undPrice)\n",
    "prices_dict = df.dropna(subset='undPrice').set_index('symbol').mktPrice.to_dict()\n",
    "df.undPrice = df.symbol.map(prices_dict)\n",
    "\n",
    "# get prices for missing symbols\n",
    "symbols = set(df[df.undPrice.isnull()].symbol)\n",
    "und_contracts = make_ib_contracts(symbols, MARKET)\n",
    "und_prices = asyncio.run(get_prices_with_ivs(port=PORT, input_contracts = und_contracts, desc = \"Getting und prices\"))\n",
    "\n",
    "# merge prices dictionaries\n",
    "prices_dict = prices_dict | und_prices.set_index('symbol').price.to_dict()\n",
    "df.undPrice = df.symbol.map(prices_dict)"
   ]
  },
  {
   "cell_type": "markdown",
   "metadata": {},
   "source": [
    "# Unreaped\n",
    "### A naked call or put option that doesn't have an open order to reap. [light-yellow]"
   ]
  },
  {
   "cell_type": "code",
   "execution_count": 20,
   "metadata": {},
   "outputs": [],
   "source": [
    "# Get the reaped options\n",
    "reap_mask = df.groupby('conId').position.transform(lambda x: sum(x) == 0)\n",
    "df.loc[reap_mask, 'state'] = 'reaped'\n",
    "\n",
    "# Make remaining option positions `unreaped`\n",
    "unreap_state = (df.xnType == 'position') & (df.state != 'reaped') & (df.secType == 'OPT')\n",
    "df.loc[unreap_state, 'state'] = 'unreaped'"
   ]
  },
  {
   "cell_type": "code",
   "execution_count": 21,
   "metadata": {},
   "outputs": [],
   "source": [
    "# Generate the unreaped db\n",
    "df_unreaped = df[df.state == 'unreaped'].sort_values('mktPrice')"
   ]
  },
  {
   "cell_type": "markdown",
   "metadata": {},
   "source": [
    "### Check when the trades were made"
   ]
  },
  {
   "cell_type": "code",
   "execution_count": 22,
   "metadata": {},
   "outputs": [],
   "source": [
    "# check when the trades were registered\n",
    "reppath = f\"{MARKET.lower()}_ib_reports.pkl\"\n",
    "REPORTPATH = DATAPATH.parent / 'master' / reppath\n",
    "\n",
    "# reports = get_pickle(REPORTPATH)\n",
    "reports = trade_extracts(MARKET=MARKET)\n",
    "df_report = reports['trades'].sort_values('time', ascending = False)\n",
    "\n",
    "cond = df_report.symbol.isin(set(df_unreaped.symbol))\n",
    "df_rep = df_report[cond].groupby('symbol').head(2)\n",
    "\n",
    "df_rep.expiry = pd.to_datetime(df_rep.expiry, yearfirst=True)\n",
    "\n",
    "# merge to get order time\n",
    "merge_fields = ['symbol', 'strike', 'right', 'expiry']\n",
    "rep_fields = merge_fields + ['qty', 'time', 'code']\n",
    "\n",
    "df_r = df_unreaped.merge(df_rep[rep_fields], on = merge_fields, suffixes = [None, \"_ordered\"])\n",
    "df_r = df_r.rename(columns={'time': 'time_ordered'})\n",
    "df_reap = move_column(df_r, 'qty_ordered', 13)\n",
    "df_reap = move_column(df_reap, 'time_ordered', 6)\n",
    "df_reap.time_ordered = pd.to_datetime(df_reap.time_ordered).dt.date\n",
    "\n",
    "# determine the action and quantity\n",
    "action = np.where(df_reap.position < 1, 'BUY', 'SELL')\n",
    "qty = -df_reap.position\n",
    "df_reap = df_reap.assign(action = action, qty = qty)\n",
    "\n",
    "MAXOPTBUYPRICE = _vars.MAXOPTBUYPRICE\n",
    "PREC = _vars.PREC\n",
    "\n",
    "# set the minimum buy price for now\n",
    "xp = df_reap.mktPrice.apply(lambda x: get_prec(x, PREC))\n",
    "xp[xp > MAXOPTBUYPRICE] = MAXOPTBUYPRICE\n",
    "df_reap.lmtPrice= xp"
   ]
  },
  {
   "cell_type": "markdown",
   "metadata": {},
   "source": [
    "# Uncovered\n",
    "### A (long/short) stock with no covered (call/put) buy orders"
   ]
  },
  {
   "cell_type": "code",
   "execution_count": null,
   "metadata": {},
   "outputs": [],
   "source": [
    "df[['symbol', 'position', 'mult']]"
   ]
  },
  {
   "cell_type": "code",
   "execution_count": null,
   "metadata": {},
   "outputs": [],
   "source": [
    "# Get the covered options\n",
    "df.groupby('symbol')[['position', 'mult']].prod()"
   ]
  },
  {
   "cell_type": "code",
   "execution_count": null,
   "metadata": {},
   "outputs": [],
   "source": []
  },
  {
   "cell_type": "markdown",
   "metadata": {},
   "source": [
    "# Unsowed"
   ]
  },
  {
   "cell_type": "code",
   "execution_count": null,
   "metadata": {},
   "outputs": [],
   "source": [
    "# get unds, open orders and portfolio\n",
    "unds = set(get_pickle(DATAPATH / 'unds.pkl').keys())\n",
    "df_openorder, df_pf = asyncio.run(get_order_pf(PORT))"
   ]
  },
  {
   "cell_type": "code",
   "execution_count": null,
   "metadata": {},
   "outputs": [],
   "source": [
    "# No orders to sow and no existing positions\n",
    "\n",
    "options = df_pf.secType == 'OPT'\n",
    "stocks = df_pf.secType == 'STK'\n",
    "\n",
    "long = df_pf.position > 0\n",
    "long_options = long & options\n",
    "df_pf[long_options]\n",
    "\n",
    "unsowed = unds - set(df_openorder.symbol) - set(df_pf.symbol)\n",
    "unsowed"
   ]
  },
  {
   "cell_type": "markdown",
   "metadata": {},
   "source": [
    "# Orphaned"
   ]
  },
  {
   "cell_type": "code",
   "execution_count": null,
   "metadata": {},
   "outputs": [],
   "source": [
    "# Long calls or puts without any underlying stock position\n",
    "options = df.secType == 'OPT'\n",
    "stocks = df.secType == 'STK'\n",
    "long = df.position >= 1\n",
    "long_stocks = long & stocks\n",
    "long_options = long & options\n",
    "orphaned = long_stocks & long_options\n",
    "\n",
    "orphaned = df[orphaned]\n",
    "orphaned"
   ]
  },
  {
   "cell_type": "code",
   "execution_count": null,
   "metadata": {},
   "outputs": [],
   "source": []
  },
  {
   "cell_type": "code",
   "execution_count": null,
   "metadata": {},
   "outputs": [],
   "source": []
  },
  {
   "cell_type": "code",
   "execution_count": null,
   "metadata": {},
   "outputs": [],
   "source": []
  }
 ],
 "metadata": {
  "kernelspec": {
   "display_name": ".venv",
   "language": "python",
   "name": "python3"
  },
  "language_info": {
   "codemirror_mode": {
    "name": "ipython",
    "version": 3
   },
   "file_extension": ".py",
   "mimetype": "text/x-python",
   "name": "python",
   "nbconvert_exporter": "python",
   "pygments_lexer": "ipython3",
   "version": "3.11.5"
  }
 },
 "nbformat": 4,
 "nbformat_minor": 2
}
