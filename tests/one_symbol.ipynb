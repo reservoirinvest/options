{
 "cells": [
  {
   "cell_type": "markdown",
   "metadata": {},
   "source": [
    "# One symbol program\n",
    "## Run an entire cycle upto df_nakeds for one symbol\n",
    "- [x] Get chains\n",
    "- [x] Get a symbol\n",
    "- [x] Update its chain strikes\n",
    "- [x] Get its closest SD\n",
    "- [ ] Get its margin\n",
    "- [ ] Get its expPrice"
   ]
  },
  {
   "cell_type": "code",
   "execution_count": null,
   "metadata": {
    "jupyter": {
     "source_hidden": true
    }
   },
   "outputs": [],
   "source": [
    "## THIS CELL SHOULD BE IN ALL VSCODE NOTEBOOKS ##\n",
    "\n",
    "MARKET = 'SNP'.upper()\n",
    "symbol = 'SPY'\n",
    "\n",
    "import pandas as pd\n",
    "pd.options.display.max_columns=None\n",
    "\n",
    "# Add `src` to _src.pth in .venv to allow imports in VS Code\n",
    "from sysconfig import get_path\n",
    "from pathlib import Path\n",
    "if 'src' not in Path.cwd().parts:\n",
    "    src_path = str(Path(get_path('purelib')) / '_src.pth')\n",
    "    with open(src_path, 'w') as f:\n",
    "        f.write(str(Path.cwd() / 'src\\n'))\n",
    "\n",
    "# Start the Jupyter loop\n",
    "from ib_insync import util\n",
    "util.startLoop()"
   ]
  },
  {
   "cell_type": "code",
   "execution_count": null,
   "metadata": {},
   "outputs": [],
   "source": [
    "# Imports \n",
    "from utils import Vars, get_pickle\n",
    "\n",
    "# Set the root\n",
    "from from_root import from_root\n",
    "ROOT = from_root()\n",
    "\n",
    "_vars = Vars(MARKET)\n",
    "PORT = port = _vars.PORT\n",
    "OPT_COLS = _vars.OPT_COLS[0]\n",
    "COLS = _vars.COLS[0]\n",
    "DATAPATH = ROOT / 'data' / MARKET.lower()\n"
   ]
  },
  {
   "cell_type": "markdown",
   "metadata": {},
   "source": [
    "# One symbol chain"
   ]
  },
  {
   "cell_type": "code",
   "execution_count": null,
   "metadata": {},
   "outputs": [],
   "source": [
    "# Imports\n",
    "from utils import get_pickle, make_chains, get_strike_closest_to_und, get_margins, make_a_raw_contract, qualify_naked_opts, get_exchange_name\n",
    "from ib_insync import Option\n",
    "import asyncio"
   ]
  },
  {
   "cell_type": "code",
   "execution_count": null,
   "metadata": {},
   "outputs": [],
   "source": [
    "# Get one symbol\n",
    "UNDS_PATH = DATAPATH / 'unds.pkl'\n",
    "\n",
    "# Make chains for one symbol\n",
    "contract = get_pickle(UNDS_PATH)[symbol]\n"
   ]
  },
  {
   "cell_type": "code",
   "execution_count": null,
   "metadata": {},
   "outputs": [],
   "source": [
    "# Get all the chains of the symbol\n",
    "df_sym_chain = asyncio.run(make_chains(contracts=contract))\n",
    "\n",
    "# Remove fractional strikes from df_sym_chain\n",
    "only_whole = df_sym_chain.strike.apply(lambda x: x%1==0)\n",
    "df_sym_chain = df_sym_chain[only_whole]\n",
    "\n",
    "# Get the closest strikes to und\n",
    "df_ch = get_strike_closest_to_und(df_sym_chain, 1)"
   ]
  },
  {
   "cell_type": "code",
   "execution_count": null,
   "metadata": {},
   "outputs": [],
   "source": [
    "# Get margins and commissions from the options closest to und\n",
    "df_chq = qualify_naked_opts(df_ch)"
   ]
  },
  {
   "cell_type": "code",
   "execution_count": 17,
   "metadata": {},
   "outputs": [],
   "source": [
    "# SNP conditions for `mgnCompute`\n",
    "\n",
    "# ... margin_compute is 30% of value\n",
    "gt_16_67 = df_chq.undPrice > 16.67\n",
    "\n",
    "# ... margin_compute is 30% of $5 per share\n",
    "gt_5_lt_16_67 = (df_chq.undPrice > 5) & (df_chq.undPrice <= 16.67)\n",
    "\n",
    "# ... margin_compute is 100% of stock value\n",
    "lt_5 = (df_chq.undPrice > 2.5) & (df_chq.undPrice <= 5)\n",
    "\n",
    "# ... margin_compute is 100% of $2.5\n",
    "lt_2_5 = (df_chq.undPrice <= 2.5)\n"
   ]
  },
  {
   "cell_type": "code",
   "execution_count": 30,
   "metadata": {},
   "outputs": [],
   "source": [
    "def gt_16_67(df: pd.DataFrame) -> dict:\n",
    "    \"\"\"Computes margin for undPrice > 16.67. It is 30% of value\"\"\"\n",
    "\n",
    "    pct = 0.3\n",
    "\n",
    "    gt_16_67 = df.undPrice > 16.67\n",
    "    return dict(zip(df[gt_16_67].symbol, df[gt_16_67].undPrice * df[gt_16_67].lot * df[gt_16_67].multiplier * pct))"
   ]
  },
  {
   "cell_type": "code",
   "execution_count": null,
   "metadata": {},
   "outputs": [],
   "source": [
    "def gt_5_lt_16_67(df: pd.DataFrame) -> dict:\n",
    "    \"\"\"Computes margin for 5 > undPrice >= 16.67\"\"\"\n",
    "\n",
    "    pct = 0.3*5 # 30% of $5 per share\n",
    "\n",
    "    gt_5_lt_16_67 = (df_chq.undPrice > 5) & (df_chq.undPrice <= 16.67)\n",
    "\n",
    "    return dict(zip(df[gt_5_lt_16_67].symbol, df[gt_5_lt_16_67].lot * df[gt_5_lt_16_67].multiplier * pct))\n",
    "\n"
   ]
  },
  {
   "cell_type": "code",
   "execution_count": 31,
   "metadata": {},
   "outputs": [
    {
     "data": {
      "text/html": [
       "<div>\n",
       "<style scoped>\n",
       "    .dataframe tbody tr th:only-of-type {\n",
       "        vertical-align: middle;\n",
       "    }\n",
       "\n",
       "    .dataframe tbody tr th {\n",
       "        vertical-align: top;\n",
       "    }\n",
       "\n",
       "    .dataframe thead th {\n",
       "        text-align: right;\n",
       "    }\n",
       "</style>\n",
       "<table border=\"1\" class=\"dataframe\">\n",
       "  <thead>\n",
       "    <tr style=\"text-align: right;\">\n",
       "      <th></th>\n",
       "      <th>secType</th>\n",
       "      <th>conId</th>\n",
       "      <th>symbol</th>\n",
       "      <th>price</th>\n",
       "      <th>iv</th>\n",
       "    </tr>\n",
       "  </thead>\n",
       "  <tbody>\n",
       "    <tr>\n",
       "      <th>0</th>\n",
       "      <td>STK</td>\n",
       "      <td>9720</td>\n",
       "      <td>MMM</td>\n",
       "      <td>107.87</td>\n",
       "      <td>0.232968</td>\n",
       "    </tr>\n",
       "    <tr>\n",
       "      <th>1</th>\n",
       "      <td>STK</td>\n",
       "      <td>4065</td>\n",
       "      <td>ABT</td>\n",
       "      <td>111.51</td>\n",
       "      <td>0.200016</td>\n",
       "    </tr>\n",
       "    <tr>\n",
       "      <th>2</th>\n",
       "      <td>STK</td>\n",
       "      <td>118089500</td>\n",
       "      <td>ABBV</td>\n",
       "      <td>177.50</td>\n",
       "      <td>0.183263</td>\n",
       "    </tr>\n",
       "    <tr>\n",
       "      <th>3</th>\n",
       "      <td>STK</td>\n",
       "      <td>67889930</td>\n",
       "      <td>ACN</td>\n",
       "      <td>345.03</td>\n",
       "      <td>0.189971</td>\n",
       "    </tr>\n",
       "    <tr>\n",
       "      <th>4</th>\n",
       "      <td>STK</td>\n",
       "      <td>265768</td>\n",
       "      <td>ADBE</td>\n",
       "      <td>511.25</td>\n",
       "      <td>0.285920</td>\n",
       "    </tr>\n",
       "    <tr>\n",
       "      <th>...</th>\n",
       "      <td>...</td>\n",
       "      <td>...</td>\n",
       "      <td>...</td>\n",
       "      <td>...</td>\n",
       "      <td>...</td>\n",
       "    </tr>\n",
       "    <tr>\n",
       "      <th>237</th>\n",
       "      <td>IND</td>\n",
       "      <td>137851301</td>\n",
       "      <td>XSP</td>\n",
       "      <td>524.15</td>\n",
       "      <td>0.104484</td>\n",
       "    </tr>\n",
       "    <tr>\n",
       "      <th>238</th>\n",
       "      <td>IND</td>\n",
       "      <td>416863</td>\n",
       "      <td>OEX</td>\n",
       "      <td>2477.85</td>\n",
       "      <td>0.107482</td>\n",
       "    </tr>\n",
       "    <tr>\n",
       "      <th>239</th>\n",
       "      <td>IND</td>\n",
       "      <td>12793724</td>\n",
       "      <td>XEO</td>\n",
       "      <td>2477.85</td>\n",
       "      <td>0.103117</td>\n",
       "    </tr>\n",
       "    <tr>\n",
       "      <th>240</th>\n",
       "      <td>IND</td>\n",
       "      <td>13455763</td>\n",
       "      <td>VIX</td>\n",
       "      <td>12.92</td>\n",
       "      <td>0.711937</td>\n",
       "    </tr>\n",
       "    <tr>\n",
       "      <th>241</th>\n",
       "      <td>IND</td>\n",
       "      <td>416888</td>\n",
       "      <td>RUT</td>\n",
       "      <td>NaN</td>\n",
       "      <td>0.180738</td>\n",
       "    </tr>\n",
       "  </tbody>\n",
       "</table>\n",
       "<p>242 rows × 5 columns</p>\n",
       "</div>"
      ],
      "text/plain": [
       "    secType      conId symbol    price        iv\n",
       "0       STK       9720    MMM   107.87  0.232968\n",
       "1       STK       4065    ABT   111.51  0.200016\n",
       "2       STK  118089500   ABBV   177.50  0.183263\n",
       "3       STK   67889930    ACN   345.03  0.189971\n",
       "4       STK     265768   ADBE   511.25  0.285920\n",
       "..      ...        ...    ...      ...       ...\n",
       "237     IND  137851301    XSP   524.15  0.104484\n",
       "238     IND     416863    OEX  2477.85  0.107482\n",
       "239     IND   12793724    XEO  2477.85  0.103117\n",
       "240     IND   13455763    VIX    12.92  0.711937\n",
       "241     IND     416888    RUT      NaN  0.180738\n",
       "\n",
       "[242 rows x 5 columns]"
      ]
     },
     "execution_count": 31,
     "metadata": {},
     "output_type": "execute_result"
    }
   ],
   "source": [
    "from utils import get_pickle\n",
    "get_pickle(DATAPATH / 'df_und_prices.pkl')"
   ]
  },
  {
   "cell_type": "code",
   "execution_count": null,
   "metadata": {},
   "outputs": [],
   "source": [
    "# Compute margins from get_unds_with_prices.\n",
    "# TODO: Integrate `lots` and `multiplier` to output of `get_unds_with_prices`\n",
    "# TODO: Modify get_unds_with_prices to put the lot and multiplier fields."
   ]
  },
  {
   "cell_type": "code",
   "execution_count": null,
   "metadata": {},
   "outputs": [],
   "source": []
  },
  {
   "cell_type": "code",
   "execution_count": null,
   "metadata": {},
   "outputs": [],
   "source": []
  },
  {
   "cell_type": "code",
   "execution_count": 37,
   "metadata": {},
   "outputs": [
    {
     "name": "stderr",
     "output_type": "stream",
     "text": [
      "Qualifying SNP Unds: 100%|██████████| 241/241 [00:06<00:00, 36.68it/s]\n",
      "Mkt prices with IVs: 100%|██████████| 6/6 [00:54<00:00,  9.06s/it]\n"
     ]
    },
    {
     "data": {
      "text/html": [
       "<div>\n",
       "<style scoped>\n",
       "    .dataframe tbody tr th:only-of-type {\n",
       "        vertical-align: middle;\n",
       "    }\n",
       "\n",
       "    .dataframe tbody tr th {\n",
       "        vertical-align: top;\n",
       "    }\n",
       "\n",
       "    .dataframe thead th {\n",
       "        text-align: right;\n",
       "    }\n",
       "</style>\n",
       "<table border=\"1\" class=\"dataframe\">\n",
       "  <thead>\n",
       "    <tr style=\"text-align: right;\">\n",
       "      <th></th>\n",
       "      <th>secType</th>\n",
       "      <th>conId</th>\n",
       "      <th>symbol</th>\n",
       "      <th>price</th>\n",
       "      <th>iv</th>\n",
       "    </tr>\n",
       "  </thead>\n",
       "  <tbody>\n",
       "    <tr>\n",
       "      <th>0</th>\n",
       "      <td>STK</td>\n",
       "      <td>9720</td>\n",
       "      <td>MMM</td>\n",
       "      <td>91.400</td>\n",
       "      <td>0.294685</td>\n",
       "    </tr>\n",
       "    <tr>\n",
       "      <th>1</th>\n",
       "      <td>STK</td>\n",
       "      <td>4065</td>\n",
       "      <td>ABT</td>\n",
       "      <td>109.225</td>\n",
       "      <td>0.248582</td>\n",
       "    </tr>\n",
       "    <tr>\n",
       "      <th>2</th>\n",
       "      <td>STK</td>\n",
       "      <td>118089500</td>\n",
       "      <td>ABBV</td>\n",
       "      <td>162.435</td>\n",
       "      <td>0.283688</td>\n",
       "    </tr>\n",
       "    <tr>\n",
       "      <th>3</th>\n",
       "      <td>STK</td>\n",
       "      <td>67889930</td>\n",
       "      <td>ACN</td>\n",
       "      <td>315.600</td>\n",
       "      <td>0.227321</td>\n",
       "    </tr>\n",
       "    <tr>\n",
       "      <th>4</th>\n",
       "      <td>STK</td>\n",
       "      <td>265768</td>\n",
       "      <td>ADBE</td>\n",
       "      <td>475.470</td>\n",
       "      <td>0.284604</td>\n",
       "    </tr>\n",
       "    <tr>\n",
       "      <th>...</th>\n",
       "      <td>...</td>\n",
       "      <td>...</td>\n",
       "      <td>...</td>\n",
       "      <td>...</td>\n",
       "      <td>...</td>\n",
       "    </tr>\n",
       "    <tr>\n",
       "      <th>236</th>\n",
       "      <td>IND</td>\n",
       "      <td>12793724</td>\n",
       "      <td>XEO</td>\n",
       "      <td>2467.760</td>\n",
       "      <td>NaN</td>\n",
       "    </tr>\n",
       "    <tr>\n",
       "      <th>237</th>\n",
       "      <td>IND</td>\n",
       "      <td>13455763</td>\n",
       "      <td>VIX</td>\n",
       "      <td>14.910</td>\n",
       "      <td>2.455503</td>\n",
       "    </tr>\n",
       "    <tr>\n",
       "      <th>238</th>\n",
       "      <td>IND</td>\n",
       "      <td>416888</td>\n",
       "      <td>RUT</td>\n",
       "      <td>NaN</td>\n",
       "      <td>0.216991</td>\n",
       "    </tr>\n",
       "    <tr>\n",
       "      <th>239</th>\n",
       "      <td>STK</td>\n",
       "      <td>756733</td>\n",
       "      <td>SPY</td>\n",
       "      <td>511.700</td>\n",
       "      <td>NaN</td>\n",
       "    </tr>\n",
       "    <tr>\n",
       "      <th>240</th>\n",
       "      <td>STK</td>\n",
       "      <td>320227571</td>\n",
       "      <td>QQQ</td>\n",
       "      <td>439.140</td>\n",
       "      <td>0.190039</td>\n",
       "    </tr>\n",
       "  </tbody>\n",
       "</table>\n",
       "<p>241 rows × 5 columns</p>\n",
       "</div>"
      ],
      "text/plain": [
       "    secType      conId symbol     price        iv\n",
       "0       STK       9720    MMM    91.400  0.294685\n",
       "1       STK       4065    ABT   109.225  0.248582\n",
       "2       STK  118089500   ABBV   162.435  0.283688\n",
       "3       STK   67889930    ACN   315.600  0.227321\n",
       "4       STK     265768   ADBE   475.470  0.284604\n",
       "..      ...        ...    ...       ...       ...\n",
       "236     IND   12793724    XEO  2467.760       NaN\n",
       "237     IND   13455763    VIX    14.910  2.455503\n",
       "238     IND     416888    RUT       NaN  0.216991\n",
       "239     STK     756733    SPY   511.700       NaN\n",
       "240     STK  320227571    QQQ   439.140  0.190039\n",
       "\n",
       "[241 rows x 5 columns]"
      ]
     },
     "execution_count": 37,
     "metadata": {},
     "output_type": "execute_result"
    }
   ],
   "source": [
    "from utils import get_unds_with_prices\n",
    "get_unds_with_prices(MARKET)"
   ]
  },
  {
   "cell_type": "code",
   "execution_count": 35,
   "metadata": {},
   "outputs": [
    {
     "name": "stderr",
     "output_type": "stream",
     "text": [
      "Qualifying contracts: 100%|██████████| 1/1 [00:00<00:00,  1.94it/s]\n"
     ]
    }
   ],
   "source": [
    "from ib_insync import Stock, IB\n",
    "\n",
    "from utils import qualify_me\n",
    "import asyncio\n",
    "\n",
    "with IB().connect(port=PORT) as ib:\n",
    "    y = asyncio.run(qualify_me(ib=ib, contracts = Stock(symbol='QQQ', exchange='NYSE', currency='USD')))"
   ]
  },
  {
   "cell_type": "code",
   "execution_count": 36,
   "metadata": {},
   "outputs": [
    {
     "data": {
      "text/plain": [
       "[Stock(conId=320227571, symbol='QQQ', exchange='NYSE', primaryExchange='NASDAQ', currency='USD', localSymbol='QQQ', tradingClass='NMS')]"
      ]
     },
     "execution_count": 36,
     "metadata": {},
     "output_type": "execute_result"
    }
   ],
   "source": [
    "y"
   ]
  },
  {
   "cell_type": "code",
   "execution_count": null,
   "metadata": {},
   "outputs": [],
   "source": [
    "\n",
    "\n",
    "df_chq.loc[gt_16_67, 'mgnCompute'] = df_chq[gt_16_67].undprice * df_chq[gt_16_67].lot * 0.3\n"
   ]
  },
  {
   "cell_type": "code",
   "execution_count": null,
   "metadata": {},
   "outputs": [],
   "source": [
    "# Get the chain with the smallest dte\n",
    "df_ch_min_dte = df_chq[df_chq.dte == df_chq.dte.min()].reset_index(drop=True)\n",
    "df_ch_min_dte\n"
   ]
  },
  {
   "cell_type": "code",
   "execution_count": null,
   "metadata": {},
   "outputs": [],
   "source": []
  },
  {
   "cell_type": "code",
   "execution_count": null,
   "metadata": {},
   "outputs": [],
   "source": [
    "# make raw target options and qualify them\n",
    "from utils import raw_target_opts\n",
    "df_raw_opts = raw_target_opts(df_chains, 1)\n"
   ]
  },
  {
   "cell_type": "code",
   "execution_count": null,
   "metadata": {},
   "outputs": [],
   "source": [
    "df_raw_opts"
   ]
  },
  {
   "cell_type": "code",
   "execution_count": null,
   "metadata": {},
   "outputs": [],
   "source": [
    "df_opts = qualify_naked_opts(df_raw_opts)"
   ]
  },
  {
   "cell_type": "code",
   "execution_count": null,
   "metadata": {},
   "outputs": [],
   "source": [
    "df_opts"
   ]
  },
  {
   "cell_type": "code",
   "execution_count": null,
   "metadata": {},
   "outputs": [],
   "source": []
  },
  {
   "cell_type": "code",
   "execution_count": null,
   "metadata": {},
   "outputs": [],
   "source": [
    "# get expected price for the target options\n",
    "from utils import nakeds_with_expPrice\n",
    "df_n = nakeds_with_expPrice(df_opts)"
   ]
  },
  {
   "cell_type": "code",
   "execution_count": null,
   "metadata": {},
   "outputs": [],
   "source": [
    "df_n.head(3)"
   ]
  },
  {
   "cell_type": "code",
   "execution_count": null,
   "metadata": {},
   "outputs": [],
   "source": [
    "3.45*50/99697.63*365/11.344245"
   ]
  },
  {
   "cell_type": "code",
   "execution_count": null,
   "metadata": {},
   "outputs": [],
   "source": []
  }
 ],
 "metadata": {
  "kernelspec": {
   "display_name": "Python 3 (ipykernel)",
   "language": "python",
   "name": "python3"
  },
  "language_info": {
   "codemirror_mode": {
    "name": "ipython",
    "version": 3
   },
   "file_extension": ".py",
   "mimetype": "text/x-python",
   "name": "python",
   "nbconvert_exporter": "python",
   "pygments_lexer": "ipython3",
   "version": "3.11.5"
  }
 },
 "nbformat": 4,
 "nbformat_minor": 4
}
