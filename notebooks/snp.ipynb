{
 "cells": [
  {
   "cell_type": "code",
   "execution_count": null,
   "metadata": {},
   "outputs": [],
   "source": [
    "## THIS CELL SHOULD BE IN ALL VSCODE NOTEBOOKS ##\n",
    "\n",
    "MARKET = 'SNP'\n",
    "\n",
    "# Add `src` to _src.pth in .venv to allow imports in VS Code\n",
    "from sysconfig import get_path\n",
    "from pathlib import Path\n",
    "if 'src' not in Path.cwd().parts:\n",
    "    src_path = str(Path(get_path('purelib')) / '_src.pth')\n",
    "    with open(src_path, 'w') as f:\n",
    "        f.write(str(Path.cwd() / 'src\\n'))\n",
    "\n",
    "# Start the Jupyter loop\n",
    "from ib_insync import util, LimitOrder, IB\n",
    "util.startLoop()"
   ]
  },
  {
   "cell_type": "code",
   "execution_count": null,
   "metadata": {},
   "outputs": [],
   "source": [
    "# Set the root\n",
    "from from_root import from_root\n",
    "ROOT = from_root()\n",
    "\n",
    "# Imports \n",
    "from utils import Vars, get_pickle\n",
    "from loguru import logger\n",
    "\n",
    "_vars = Vars(MARKET)\n",
    "PORT = port = _vars.PORT\n",
    "OPT_COLS = _vars.OPT_COLS[0]\n",
    "DATAPATH = ROOT / 'data' / MARKET"
   ]
  },
  {
   "cell_type": "code",
   "execution_count": null,
   "metadata": {},
   "outputs": [],
   "source": []
  }
 ],
 "metadata": {
  "kernelspec": {
   "display_name": ".venv",
   "language": "python",
   "name": "python3"
  },
  "language_info": {
   "codemirror_mode": {
    "name": "ipython",
    "version": 3
   },
   "file_extension": ".py",
   "mimetype": "text/x-python",
   "name": "python",
   "nbconvert_exporter": "python",
   "pygments_lexer": "ipython3",
   "version": "3.11.5"
  }
 },
 "nbformat": 4,
 "nbformat_minor": 2
}
