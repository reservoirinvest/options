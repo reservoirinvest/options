{
 "cells": [
  {
   "cell_type": "code",
   "execution_count": 1,
   "metadata": {
    "jupyter": {
     "source_hidden": true
    }
   },
   "outputs": [],
   "source": [
    "## THIS CELL SHOULD BE IN ALL VSCODE NOTEBOOKS ##\n",
    "\n",
    "MARKET = 'SNP'\n",
    "\n",
    "import pandas as pd\n",
    "pd.options.display.max_columns=None\n",
    "\n",
    "# Add `src` to _src.pth in .venv to allow imports in VS Code\n",
    "from sysconfig import get_path\n",
    "from pathlib import Path\n",
    "if 'src' not in Path.cwd().parts:\n",
    "    src_path = str(Path(get_path('purelib')) / '_src.pth')\n",
    "    with open(src_path, 'w') as f:\n",
    "        f.write(str(Path.cwd() / 'src\\n'))\n",
    "\n",
    "# Start the Jupyter loop\n",
    "from ib_insync import util\n",
    "util.startLoop()"
   ]
  },
  {
   "cell_type": "code",
   "execution_count": 2,
   "metadata": {},
   "outputs": [],
   "source": [
    "# Imports \n",
    "from utils import Vars, get_pickle\n",
    "\n",
    "# Set the root\n",
    "from from_root import from_root\n",
    "ROOT = from_root()\n",
    "\n",
    "_vars = Vars(MARKET)\n",
    "PORT = port = _vars.PORT\n",
    "OPT_COLS = _vars.OPT_COLS[0]\n",
    "DATAPATH = ROOT / 'data' / MARKET.lower()\n"
   ]
  },
  {
   "cell_type": "markdown",
   "metadata": {},
   "source": [
    "# Build the Base"
   ]
  },
  {
   "cell_type": "code",
   "execution_count": 3,
   "metadata": {},
   "outputs": [],
   "source": [
    "# imports\n",
    "import glob\n",
    "\n",
    "from utils import delete_files, assemble_snp_underlyings, assemble_nse_underlyings, pickle_me, make_chains, pickle_with_age_check\n",
    "from loguru import logger\n",
    "import logging\n",
    "import asyncio"
   ]
  },
  {
   "cell_type": "code",
   "execution_count": 4,
   "metadata": {},
   "outputs": [],
   "source": [
    "# inputs\n",
    "PAPER = False"
   ]
  },
  {
   "cell_type": "code",
   "execution_count": 5,
   "metadata": {},
   "outputs": [
    {
     "name": "stderr",
     "output_type": "stream",
     "text": [
      "Qualifying SNP Unds: 100%|██████████| 241/241 [00:05<00:00, 40.63it/s]\n",
      "Getting SNP chains: 100%|██████████| 10/10 [04:18<00:00, 25.88s/it]\n"
     ]
    }
   ],
   "source": [
    "# Set variables\n",
    "MARKET = MARKET.upper()\n",
    "_vars = Vars(MARKET)\n",
    "\n",
    "if PAPER:\n",
    "    PORT = _vars.PAPER\n",
    "else:\n",
    "    PORT = _vars.PORT\n",
    "\n",
    "CALLSTDMULT = _vars.CALLSTDMULT\n",
    "PUTSTDMULT = _vars.PUTSTDMULT\n",
    "\n",
    "DTESTDEVLOW = _vars.DTESTDEVLOW\n",
    "DTESTDEVHI = _vars.DTESTDEVHI\n",
    "DECAYRATE = _vars.DECAYRATE\n",
    "\n",
    "# Set paths for nse pickles\n",
    "unds_path = ROOT / 'data' / MARKET / 'unds.pkl'\n",
    "chains_path = ROOT / 'data' / MARKET / 'df_chains.pkl'\n",
    "lots_path = ROOT / 'data' / MARKET / 'lots.pkl'\n",
    "\n",
    "qualified_puts_path = ROOT / 'data' / MARKET / 'df_qualified_puts.pkl'\n",
    "qualified_calls_path = ROOT / 'data' / MARKET / 'df_qualified_calls.pkl'\n",
    "\n",
    "opt_prices_path = ROOT / 'data' / MARKET / 'df_opt_prices.pkl'\n",
    "opt_margins_path = ROOT / 'data' / MARKET / 'df_opt_margins.pkl'\n",
    "\n",
    "naked_targets_path = ROOT / 'data' / MARKET / 'df_naked_targets.pkl'\n",
    "\n",
    "# Delete log files\n",
    "log_folder_path = ROOT / 'log' / str(MARKET.lower()+\"*.log\")\n",
    "file_pattern = glob.glob(str(log_folder_path))\n",
    "\n",
    "delete_files(file_pattern)\n",
    "\n",
    "# Set the logger with logpath\n",
    "IBI_LOGPATH = ROOT / 'log' / f'{MARKET.lower()}_ib.log'\n",
    "LOGURU_PATH = ROOT / 'log' / f'{MARKET.lower()}_app.log'\n",
    "\n",
    "util.logToFile(IBI_LOGPATH, level=logging.ERROR)\n",
    "logger.add(LOGURU_PATH, rotation='10 MB', compression='zip', mode='w')\n",
    "\n",
    "# Assemble underlyings\n",
    "if MARKET == 'SNP':\n",
    "    unds = asyncio.run(assemble_snp_underlyings(PORT))\n",
    "else:\n",
    "    unds = asyncio.run(assemble_nse_underlyings(PORT))\n",
    "\n",
    "# pickle underlyings\n",
    "# pickle_with_age_check(unds, unds_path, 0) # No need to age-check, for fresh base build\n",
    "pickle_me(unds, unds_path)\n",
    "\n",
    "# Make chains for underlyings and limit the dtes\n",
    "df_chains = asyncio.run(make_chains(port=PORT,\n",
    "                                    MARKET=MARKET, \n",
    "                                    contracts=list(unds.values())))\n",
    "df_chains = df_chains[df_chains.dte <= _vars.MAXDTE].reset_index(drop=True)\n",
    "pickle_with_age_check(df_chains, chains_path, 0)"
   ]
  }
 ],
 "metadata": {
  "kernelspec": {
   "display_name": "Python 3 (ipykernel)",
   "language": "python",
   "name": "python3"
  },
  "language_info": {
   "codemirror_mode": {
    "name": "ipython",
    "version": 3
   },
   "file_extension": ".py",
   "mimetype": "text/x-python",
   "name": "python",
   "nbconvert_exporter": "python",
   "pygments_lexer": "ipython3",
   "version": "3.11.5"
  }
 },
 "nbformat": 4,
 "nbformat_minor": 4
}
