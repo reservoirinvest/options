{
 "cells": [
  {
   "cell_type": "markdown",
   "metadata": {},
   "source": [
    "# Tests for `get_margins` and `get_a_margin`"
   ]
  },
  {
   "cell_type": "code",
   "execution_count": null,
   "metadata": {},
   "outputs": [],
   "source": [
    "## THIS CELL SHOULD BE IN ALL VSCODE NOTEBOOKS ##\n",
    "\n",
    "MARKET = 'SNP'\n",
    "\n",
    "# Add `src` to _src.pth in .venv to allow imports in VS Code\n",
    "from sysconfig import get_path\n",
    "from pathlib import Path\n",
    "if 'src' not in Path.cwd().parts:\n",
    "    src_path = str(Path(get_path('purelib')) / '_src.pth')\n",
    "    with open(src_path, 'w') as f:\n",
    "        f.write(str(Path.cwd() / 'src\\n'))\n",
    "\n",
    "# Start the Jupyter loop\n",
    "from ib_insync import util, IB\n",
    "util.startLoop()"
   ]
  },
  {
   "cell_type": "code",
   "execution_count": null,
   "metadata": {},
   "outputs": [],
   "source": [
    "# Set the root\n",
    "from from_root import from_root\n",
    "ROOT = from_root()\n",
    "\n",
    "from utils import Vars\n",
    "_vars = Vars(MARKET)\n",
    "PORT = _vars.PORT\n",
    "PAPER = _vars.PAPER \n",
    "OPT_COLS = _vars.OPT_COLS[0]\n",
    "DATAPATH = ROOT / 'data' / MARKET"
   ]
  },
  {
   "cell_type": "code",
   "execution_count": null,
   "metadata": {},
   "outputs": [],
   "source": [
    "# Imports \n",
    "from utils import get_pickle, get_order_pf, qualify_conIds, clean_ib_util_df, get_dte\n",
    "from ib_insync import MarketOrder\n",
    "import asyncio\n",
    "import pandas as pd\n",
    "import numpy as np"
   ]
  },
  {
   "cell_type": "markdown",
   "metadata": {},
   "source": [
    "## Fix `get_a_margin` function"
   ]
  },
  {
   "cell_type": "code",
   "execution_count": null,
   "metadata": {},
   "outputs": [],
   "source": [
    "from typing import Union\n",
    "from utils import BAR_FORMAT, get_lots, chunk_me, clean_ib_util_df\n",
    "from ib_insync import Contract, MarketOrder\n",
    "from tqdm import tqdm\n",
    "from loguru import logger"
   ]
  },
  {
   "cell_type": "code",
   "execution_count": null,
   "metadata": {},
   "outputs": [],
   "source": [
    "def clean_a_margin(wif, conId):\n",
    "    \"\"\"Clean up wif margins\"\"\"\n",
    "\n",
    "    d = dict()\n",
    "\n",
    "    df = util.df([wif])[[\"initMarginChange\", \"maxCommission\",\n",
    "                                \"commission\"]].astype('float')\n",
    "\n",
    "    df = df.assign(\n",
    "        comm=df[[\"commission\", \"maxCommission\"]].min(axis=1),\n",
    "        margin=df.initMarginChange,\n",
    "        conId = conId\n",
    "    )\n",
    "\n",
    "    # Correct unrealistic margin and commission\n",
    "    df = df.assign(conId=conId,\n",
    "        margin=np.where(df.initMarginChange > 1e7, np.nan, df.initMarginChange),\n",
    "        comm=np.where(df.comm > 1e7, np.nan, df.comm))\n",
    "\n",
    "    d[conId] = df[['margin', 'comm']].iloc[0].to_dict()\n",
    "\n",
    "    return d"
   ]
  },
  {
   "cell_type": "code",
   "execution_count": null,
   "metadata": {},
   "outputs": [],
   "source": [
    "def to_list(data):\n",
    "    \"\"\"Converts any iterable to a list, and non-iterables to a list with a single element.\n",
    "\n",
    "    Args:\n",
    "        data: The data to be converted.\n",
    "\n",
    "    Returns:\n",
    "        A list containing the elements of the iterable, or a list with the single element if the input is not iterable.\n",
    "    \"\"\"\n",
    "\n",
    "    try:\n",
    "        return list(data)\n",
    "    except TypeError:\n",
    "        return [data]"
   ]
  },
  {
   "cell_type": "code",
   "execution_count": null,
   "metadata": {},
   "outputs": [],
   "source": [
    "async def get_a_margin(ib: IB, \n",
    "                       contract,\n",
    "                       order: Union[MarketOrder, None]=None,\n",
    "                       lots_path: Path=None,\n",
    "                       ACTION: str='SELL',\n",
    "                       ):\n",
    "    \n",
    "    \"\"\"[async] Gets a margin\"\"\"\n",
    "\n",
    "    if lots_path: # For NSE\n",
    "        lot_size = get_lots(contract, lots_path)\n",
    "    else:\n",
    "        lot_size = get_lots(contract)\n",
    "\n",
    "    if not order: # Uses ACTION instead of order\n",
    "        order = MarketOrder(ACTION, lot_size)\n",
    "\n",
    "    def onError(reqId, errorCode, errorString, contract):\n",
    "        logger.error(f\"{contract.localSymbol} with reqId: {reqId} has errorCode: {errorCode} error: {errorString}\")\n",
    "\n",
    "    ib.errorEvent += onError\n",
    "    wif = await ib.whatIfOrderAsync(contract, order)\n",
    "    ib.errorEvent -= onError\n",
    "    logger.remove()\n",
    "\n",
    "    try:\n",
    "        output = clean_a_margin(wif, contract.conId)\n",
    "    except KeyError:\n",
    "        output = {contract.conId: {\n",
    "                  'margin': None,\n",
    "                  'comm': None}}\n",
    "        \n",
    "        logger.error(f\"{contract.localSymbol} has no margin and commission\")\n",
    "\n",
    "    output[contract.conId]['lot_size'] = lot_size\n",
    "    return output\n"
   ]
  },
  {
   "cell_type": "code",
   "execution_count": null,
   "metadata": {},
   "outputs": [],
   "source": [
    "async def get_margins(port: int, \n",
    "                      contracts: Union[pd.Series, list, Contract],\n",
    "                      orders: Union[pd.Series, list, MarketOrder, None]=None,                      \n",
    "                      lots_path: Path=None,\n",
    "                      ACTION: str='SELL', \n",
    "                      chunk_size: int=100,\n",
    "                      CID: int=0):\n",
    "    \"\"\"\n",
    "    [async] Gets margins for options contracts with `orders` or `ACTION`\n",
    "\n",
    "    Parameters\n",
    "    ---\n",
    "    contracts: df with `contract` field | list\n",
    "    order: list of `MarketOrder` | `None` requires an `ACTION`\n",
    "    ACTION: `BUY` or `SELL` needed if no `orders` are provided. Defaults to `SELL`\n",
    "\n",
    "    \"\"\"\n",
    "    \n",
    "    opt_contracts = to_list(contracts)\n",
    "\n",
    "    pbar = tqdm(total=len(opt_contracts),\n",
    "                    desc=\"Getting margins:\",\n",
    "                    bar_format = BAR_FORMAT,\n",
    "                    ncols=80,\n",
    "                    leave=True,\n",
    "                )\n",
    "    \n",
    "    # prepare orders\n",
    "    if orders:\n",
    "        orders = to_list(orders)\n",
    "\n",
    "        if len(orders) == 1: # single order\n",
    "            orders = orders*len(opt_contracts)\n",
    "\n",
    "    else:\n",
    "        orders = [None]*len(opt_contracts)\n",
    "    \n",
    "    results = list()\n",
    "\n",
    "    df_contracts = clean_ib_util_df(opt_contracts)\n",
    "\n",
    "    df_contracts = df_contracts.assign(conId=[c.conId for c in opt_contracts], order = orders)\\\n",
    "                                .set_index('conId')\n",
    "\n",
    "    cos = list(zip(df_contracts.contract, df_contracts.order))\n",
    "\n",
    "    chunks = chunk_me(cos, chunk_size)\n",
    "\n",
    "    with await IB().connectAsync(port=port, clientId=CID) as ib:\n",
    "        \n",
    "        for cts in chunks:\n",
    "\n",
    "            tasks = [asyncio.create_task(get_a_margin(ib=ib, \n",
    "                                                        contract=contract,\n",
    "                                                        order=order,\n",
    "                                                        ACTION=ACTION,\n",
    "                                                        lots_path=lots_path), \n",
    "                                                        name= contract.localSymbol) \n",
    "                        for contract, order in cts]        \n",
    "\n",
    "\n",
    "            margin = await asyncio.gather(*tasks)\n",
    "\n",
    "            results += margin\n",
    "            pbar.update(len(cts))\n",
    "            pbar.refresh()\n",
    "\n",
    "    flat_results ={k: v for r in results for k, v in r.items()}\n",
    "    df_mgncomm = pd.DataFrame(flat_results).T\n",
    "    df_out = df_contracts.join(df_mgncomm).reset_index()\n",
    "\n",
    "    pbar.close()\n",
    "\n",
    "    return df_out"
   ]
  },
  {
   "cell_type": "code",
   "execution_count": null,
   "metadata": {},
   "outputs": [],
   "source": [
    "# contract types\n",
    "\n",
    "lots_path = DATAPATH.parent / 'nse' / 'lots.pkl'\n",
    "# nse_option = get_pickle(DATAPATH.parent / 'nse' / 'df_qualified_calls.pkl').contract.sample(1).iloc[0]\n",
    "# nse_stock = get_pickle(DATAPATH.parent / 'nse' / 'unds.pkl').get('RELIANCE')\n",
    "# nse_index = get_pickle(DATAPATH.parent / 'nse' / 'unds.pkl').get('NIFTY50')\n",
    "\n",
    "snp_option = get_pickle(DATAPATH.parent / 'snp' / 'df_qualified_calls.pkl').contract.sample(1).iloc[0]\n",
    "snp_stock = get_pickle(DATAPATH.parent / 'snp' / 'unds.pkl').get('IBM')\n",
    "snp_index = get_pickle(DATAPATH.parent / 'snp' / 'unds.pkl').get('VIX')\n"
   ]
  },
  {
   "cell_type": "code",
   "execution_count": null,
   "metadata": {},
   "outputs": [],
   "source": [
    "# many contracts\n",
    "from ib_insync import Index\n",
    "\n",
    "# many_nse_options = get_pickle(DATAPATH.parent / 'nse' / 'df_qualified_calls.pkl').qualified_opts.sample(3)\n",
    "# many_nse_stocks = [get_pickle(DATAPATH.parent / 'nse' / 'unds.pkl').get(s) for s in ['RELIANCE', 'PNB']]\n",
    "# many_nse_indexes = [get_pickle(DATAPATH.parent / 'nse' / 'unds.pkl').get(i) for i in ['NIFTY50', 'BANKNIFTY']]\n",
    "\n",
    "many_snp_options = get_pickle(DATAPATH.parent / 'snp' / 'df_qualified_calls.pkl').contract.sample(5)\n",
    "many_snp_stocks = [get_pickle(DATAPATH.parent / 'snp' / 'unds.pkl').get(s) for s in ['INTC', 'TSLA', 'NVDA']]\n",
    "many_snp_indexes = [v for k, v in get_pickle(DATAPATH.parent / 'snp' / 'unds.pkl').items() if isinstance(v, Index)]"
   ]
  },
  {
   "cell_type": "code",
   "execution_count": null,
   "metadata": {},
   "outputs": [],
   "source": [
    "# contracts = many_snp_options\n",
    "# contract = contracts.to_list()[0]\n"
   ]
  },
  {
   "cell_type": "code",
   "execution_count": null,
   "metadata": {},
   "outputs": [],
   "source": [
    "from utils import get_order_pf, qualify_conIds\n",
    "order, pf = asyncio.run(get_order_pf(PORT))"
   ]
  },
  {
   "cell_type": "code",
   "execution_count": null,
   "metadata": {},
   "outputs": [],
   "source": [
    "contracts = asyncio.run(qualify_conIds(PORT, pf.conId.to_list()))"
   ]
  },
  {
   "cell_type": "code",
   "execution_count": null,
   "metadata": {},
   "outputs": [],
   "source": []
  },
  {
   "cell_type": "raw",
   "metadata": {},
   "source": [
    "with IB().connect(port=PORT) as ib:\n",
    "    a_margin = asyncio.run(get_a_margin(ib, contract, order=None))\n",
    "\n",
    "a_margin"
   ]
  },
  {
   "cell_type": "code",
   "execution_count": null,
   "metadata": {},
   "outputs": [],
   "source": [
    "margins = asyncio.run(get_margins(PORT, contracts))"
   ]
  },
  {
   "cell_type": "code",
   "execution_count": null,
   "metadata": {},
   "outputs": [],
   "source": [
    "margins"
   ]
  },
  {
   "cell_type": "code",
   "execution_count": null,
   "metadata": {},
   "outputs": [],
   "source": []
  }
 ],
 "metadata": {
  "kernelspec": {
   "display_name": ".venv",
   "language": "python",
   "name": "python3"
  },
  "language_info": {
   "codemirror_mode": {
    "name": "ipython",
    "version": 3
   },
   "file_extension": ".py",
   "mimetype": "text/x-python",
   "name": "python",
   "nbconvert_exporter": "python",
   "pygments_lexer": "ipython3",
   "version": "3.11.5"
  }
 },
 "nbformat": 4,
 "nbformat_minor": 2
}
