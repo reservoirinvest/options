{
 "cells": [
  {
   "cell_type": "code",
   "execution_count": null,
   "metadata": {},
   "outputs": [],
   "source": [
    "## THIS CELL SHOULD BE IN ALL VSCODE NOTEBOOKS ##\n",
    "\n",
    "MARKET = 'NSE'\n",
    "\n",
    "# Add `src` to _src.pth in .venv to allow imports in VS Code\n",
    "from sysconfig import get_path\n",
    "from pathlib import Path\n",
    "if 'src' not in Path.cwd().parts:\n",
    "    src_path = str(Path(get_path('purelib')) / '_src.pth')\n",
    "    with open(src_path, 'w') as f:\n",
    "        f.write(str(Path.cwd() / 'src\\n'))\n",
    "\n",
    "# Start the Jupyter loop\n",
    "from ib_insync import util, LimitOrder, IB\n",
    "util.startLoop()"
   ]
  },
  {
   "cell_type": "code",
   "execution_count": null,
   "metadata": {},
   "outputs": [],
   "source": [
    "# Set the root\n",
    "from from_root import from_root\n",
    "ROOT = from_root()\n",
    "\n",
    "# Imports \n",
    "from utils import Vars, prepare_to_sow, place_orders, quick_pf, cancel_all_api_orders, create_target_opts, get_pickle\n",
    "from loguru import logger\n",
    "\n",
    "_vars = Vars(MARKET)\n",
    "PORT = port = _vars.PORT\n",
    "OPT_COLS = _vars.OPT_COLS[0]\n",
    "DATAPATH = ROOT / 'data' / MARKET"
   ]
  },
  {
   "cell_type": "markdown",
   "metadata": {},
   "source": [
    "# Correct `infinity ROM` mistake!!!"
   ]
  },
  {
   "cell_type": "code",
   "execution_count": null,
   "metadata": {},
   "outputs": [],
   "source": [
    "import numpy as np\n",
    "import asyncio \n",
    "from utils import get_order_pf, get_prec\n",
    "\n",
    "df = get_pickle(DATAPATH / 'df_sow.pkl')\n",
    "\n",
    "condition = df.rom == np.inf\n",
    "df[condition][OPT_COLS]\n",
    "\n",
    "df_wrong_rom = df[df.rom == np.inf]"
   ]
  },
  {
   "cell_type": "code",
   "execution_count": null,
   "metadata": {},
   "outputs": [],
   "source": [
    "\n",
    "order, df_pf = asyncio.run(get_order_pf(PORT))"
   ]
  },
  {
   "cell_type": "code",
   "execution_count": null,
   "metadata": {},
   "outputs": [],
   "source": [
    "wrong_rom = set(df_pf.conId.to_list()).intersection(set(df.conId.to_list()))\n",
    "\n",
    "df_wronged = df_pf[df_pf.conId.isin(wrong_rom)]"
   ]
  },
  {
   "cell_type": "code",
   "execution_count": null,
   "metadata": {},
   "outputs": [],
   "source": [
    "# get price of df_wronged\n",
    "from utils import get_opt_price_ivs, qualify_conIds, clean_ib_util_df\n",
    "\n",
    "contracts = asyncio.run(qualify_conIds(PORT, df_wronged.conId.to_list(), f\"Qualifying {MARKET} which are WRONGED\"))\n",
    "\n",
    "with IB().connect(port=PORT) as ib:\n",
    "    df_prices = asyncio.run(get_opt_price_ivs(port=PORT, qualified_opts=contracts, HIGHEST=False))"
   ]
  },
  {
   "cell_type": "code",
   "execution_count": null,
   "metadata": {},
   "outputs": [],
   "source": [
    "# integrate the prices of wronged df into portfolio\n",
    "cols = list(df_prices.columns[:7]) + ['contract', 'bid', 'ask', 'last', 'close','optPrice']\n",
    "df_p = df_prices[cols]"
   ]
  },
  {
   "cell_type": "code",
   "execution_count": null,
   "metadata": {},
   "outputs": [],
   "source": [
    "p_cols = df_p.columns.difference(df_pf.columns)\n",
    "df_pf1 = df_pf.set_index('conId').join(df_p.set_index('conId')[p_cols])"
   ]
  },
  {
   "cell_type": "code",
   "execution_count": null,
   "metadata": {},
   "outputs": [],
   "source": [
    "# extract conIds without contracts and update\n",
    "condition = df_pf1.contract.isnull()\n",
    "conIds = df_pf1[condition].index\n",
    "contracts = asyncio.run(qualify_conIds(PORT, list(conIds)))\n",
    "df_good = clean_ib_util_df(contracts).set_index('conId')[['multiplier', 'contract']]\n",
    "df_pf1.update(df_good)"
   ]
  },
  {
   "cell_type": "code",
   "execution_count": null,
   "metadata": {},
   "outputs": [],
   "source": [
    "# integrate the prices for missing contracts\n",
    "with IB().connect(port=PORT) as ib:\n",
    "    df_good_price = asyncio.run(get_opt_price_ivs(port=PORT, qualified_opts=contracts, HIGHEST=False))\n",
    "df_good_price = df_good_price.set_index('conId').optPrice\n",
    "\n",
    "df_pf1.update(df_good_price)"
   ]
  },
  {
   "cell_type": "code",
   "execution_count": null,
   "metadata": {},
   "outputs": [],
   "source": [
    "cols1 = [c for c in cols + ['avgCost'] if c not in ['conId', 'contract']]\n",
    "df_pf2 = df_pf1.loc[df_pf1.optPrice.div(df_pf1.avgCost).sort_values(ascending=False).index]"
   ]
  },
  {
   "cell_type": "code",
   "execution_count": null,
   "metadata": {},
   "outputs": [],
   "source": [
    "expPrice = np.where(df_pf2.optPrice > df_pf2.avgCost, (df_pf2.optPrice + df_pf2.avgCost)/2, df_pf2.optPrice)\n",
    "series_expPrice = df_pf2.assign(expPrice = expPrice).expPrice.apply(lambda x: get_prec(x - _vars.PREC, _vars.PREC))"
   ]
  },
  {
   "cell_type": "code",
   "execution_count": null,
   "metadata": {},
   "outputs": [],
   "source": [
    "df_pf3 = df_pf2.join(series_expPrice)"
   ]
  },
  {
   "cell_type": "code",
   "execution_count": null,
   "metadata": {},
   "outputs": [],
   "source": [
    "cos = list(zip(df_pf3.contract, [LimitOrder('BUY', qty, price) for qty, price in zip(abs(df_pf3.position), df_pf3.expPrice)]))"
   ]
  },
  {
   "cell_type": "raw",
   "metadata": {},
   "source": [
    "from utils import place_orders_async\n",
    "orders = asyncio.run(place_orders_async(MARKET=MARKET, cos=cos, PAPER=False))"
   ]
  },
  {
   "cell_type": "code",
   "execution_count": null,
   "metadata": {},
   "outputs": [],
   "source": [
    "df_pf3[cols1 + ['expPrice']]"
   ]
  },
  {
   "cell_type": "code",
   "execution_count": null,
   "metadata": {},
   "outputs": [],
   "source": []
  }
 ],
 "metadata": {
  "kernelspec": {
   "display_name": ".venv",
   "language": "python",
   "name": "python3"
  },
  "language_info": {
   "codemirror_mode": {
    "name": "ipython",
    "version": 3
   },
   "file_extension": ".py",
   "mimetype": "text/x-python",
   "name": "python",
   "nbconvert_exporter": "python",
   "pygments_lexer": "ipython3",
   "version": "3.11.5"
  }
 },
 "nbformat": 4,
 "nbformat_minor": 2
}
