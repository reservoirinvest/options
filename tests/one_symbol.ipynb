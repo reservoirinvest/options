{
 "cells": [
  {
   "cell_type": "markdown",
   "metadata": {},
   "source": [
    "# One symbol program\n",
    "## Run an entire cycle upto df_nakeds for one symbol\n",
    "- [x] Get chains\n",
    "- [x] Get a symbol\n",
    "- [x] Update its chain strikes\n",
    "- [x] Get its closest SD\n",
    "- [ ] Get its margin\n",
    "- [ ] Get its expPrice"
   ]
  },
  {
   "cell_type": "code",
   "execution_count": 1,
   "metadata": {
    "jupyter": {
     "source_hidden": true
    }
   },
   "outputs": [],
   "source": [
    "## THIS CELL SHOULD BE IN ALL VSCODE NOTEBOOKS ##\n",
    "\n",
    "MARKET = 'NSE'.upper()\n",
    "symbol = 'NIFTY50'\n",
    "\n",
    "import pandas as pd\n",
    "pd.options.display.max_columns=None\n",
    "\n",
    "# Add `src` to _src.pth in .venv to allow imports in VS Code\n",
    "from sysconfig import get_path\n",
    "from pathlib import Path\n",
    "if 'src' not in Path.cwd().parts:\n",
    "    src_path = str(Path(get_path('purelib')) / '_src.pth')\n",
    "    with open(src_path, 'w') as f:\n",
    "        f.write(str(Path.cwd() / 'src\\n'))\n",
    "\n",
    "# Start the Jupyter loop\n",
    "from ib_insync import util\n",
    "util.startLoop()"
   ]
  },
  {
   "cell_type": "code",
   "execution_count": 2,
   "metadata": {},
   "outputs": [],
   "source": [
    "# Imports \n",
    "from utils import Vars, get_pickle\n",
    "\n",
    "# Set the root\n",
    "from from_root import from_root\n",
    "ROOT = from_root()\n",
    "\n",
    "_vars = Vars(MARKET)\n",
    "PORT = port = _vars.PORT\n",
    "OPT_COLS = _vars.OPT_COLS[0]\n",
    "COLS = _vars.COLS[0]\n",
    "DATAPATH = ROOT / 'data' / MARKET.lower()\n"
   ]
  },
  {
   "cell_type": "markdown",
   "metadata": {},
   "source": [
    "# One symbol chain"
   ]
  },
  {
   "cell_type": "code",
   "execution_count": 3,
   "metadata": {},
   "outputs": [],
   "source": [
    "# Imports\n",
    "from utils import get_pickle, make_chains, get_strike_closest_to_und, get_margins, make_a_raw_contract, qualify_naked_opts, get_exchange_name\n",
    "from ib_insync import Option\n",
    "import asyncio"
   ]
  },
  {
   "cell_type": "code",
   "execution_count": 4,
   "metadata": {},
   "outputs": [],
   "source": [
    "# Get one symbol\n",
    "UNDS_PATH = DATAPATH / 'unds.pkl'\n",
    "\n",
    "# Get the underling contract for the symbol\n",
    "contract = get_pickle(UNDS_PATH)[symbol]\n"
   ]
  },
  {
   "cell_type": "code",
   "execution_count": 5,
   "metadata": {},
   "outputs": [
    {
     "name": "stderr",
     "output_type": "stream",
     "text": [
      "Getting NSE chains: 100%|██████████| 1/1 [00:09<00:00,  9.73s/it]\n"
     ]
    }
   ],
   "source": [
    "# Get all the chains of the symbol\n",
    "df_sym_chain = asyncio.run(make_chains(contracts=contract))\n",
    "\n",
    "# Remove fractional strikes from df_sym_chain\n",
    "only_whole = df_sym_chain.strike.apply(lambda x: x%1==0)\n",
    "df_sym_chain = df_sym_chain[only_whole]\n",
    "\n",
    "# Get the closest strikes to und\n",
    "df_ch = get_strike_closest_to_und(df_sym_chain, 1)"
   ]
  },
  {
   "cell_type": "code",
   "execution_count": 6,
   "metadata": {},
   "outputs": [
    {
     "name": "stderr",
     "output_type": "stream",
     "text": [
      "NSE naked quals:   0%|          | 0/18 [00:00<?, ?it/s]"
     ]
    },
    {
     "name": "stderr",
     "output_type": "stream",
     "text": [
      "NSE naked quals:   6%|▌         | 1/18 [00:00<00:10,  1.68it/s]Error 200, reqId 43430: No security definition has been found for the request, contract: Contract(secType='OPT', symbol='NIFTY50', lastTradeDateOrContractMonth='20240926', strike=22150.0, right='C', multiplier=1, exchange='NSE', currency='INR')\n",
      "Error 200, reqId 43432: No security definition has been found for the request, contract: Contract(secType='OPT', symbol='NIFTY50', lastTradeDateOrContractMonth='20250327', strike=22150.0, right='C', multiplier=1, exchange='NSE', currency='INR')\n",
      "Error 200, reqId 43431: No security definition has been found for the request, contract: Contract(secType='OPT', symbol='NIFTY50', lastTradeDateOrContractMonth='20241226', strike=22150.0, right='C', multiplier=1, exchange='NSE', currency='INR')\n",
      "Error 200, reqId 43434: No security definition has been found for the request, contract: Contract(secType='OPT', symbol='NIFTY50', lastTradeDateOrContractMonth='20251224', strike=22150.0, right='C', multiplier=1, exchange='NSE', currency='INR')\n",
      "Error 200, reqId 43433: No security definition has been found for the request, contract: Contract(secType='OPT', symbol='NIFTY50', lastTradeDateOrContractMonth='20250626', strike=22150.0, right='C', multiplier=1, exchange='NSE', currency='INR')\n",
      "Error 200, reqId 43436: No security definition has been found for the request, contract: Contract(secType='OPT', symbol='NIFTY50', lastTradeDateOrContractMonth='20261231', strike=22150.0, right='C', multiplier=1, exchange='NSE', currency='INR')\n",
      "Error 200, reqId 43435: No security definition has been found for the request, contract: Contract(secType='OPT', symbol='NIFTY50', lastTradeDateOrContractMonth='20260625', strike=22150.0, right='C', multiplier=1, exchange='NSE', currency='INR')\n",
      "Error 200, reqId 43437: No security definition has been found for the request, contract: Contract(secType='OPT', symbol='NIFTY50', lastTradeDateOrContractMonth='20270624', strike=22150.0, right='C', multiplier=1, exchange='NSE', currency='INR')\n",
      "Error 200, reqId 43438: No security definition has been found for the request, contract: Contract(secType='OPT', symbol='NIFTY50', lastTradeDateOrContractMonth='20271230', strike=22150.0, right='C', multiplier=1, exchange='NSE', currency='INR')\n",
      "Unknown contract: Contract(secType='OPT', symbol='NIFTY50', lastTradeDateOrContractMonth='20240926', strike=22150.0, right='C', multiplier=1, exchange='NSE', currency='INR')\n",
      "Error 200, reqId 43439: No security definition has been found for the request, contract: Contract(secType='OPT', symbol='NIFTY50', lastTradeDateOrContractMonth='20280629', strike=22150.0, right='C', multiplier=1, exchange='NSE', currency='INR')\n",
      "Error 200, reqId 43440: No security definition has been found for the request, contract: Contract(secType='OPT', symbol='NIFTY50', lastTradeDateOrContractMonth='20281228', strike=22150.0, right='C', multiplier=1, exchange='NSE', currency='INR')\n",
      "Unknown contract: Contract(secType='OPT', symbol='NIFTY50', lastTradeDateOrContractMonth='20250327', strike=22150.0, right='C', multiplier=1, exchange='NSE', currency='INR')\n",
      "Unknown contract: Contract(secType='OPT', symbol='NIFTY50', lastTradeDateOrContractMonth='20241226', strike=22150.0, right='C', multiplier=1, exchange='NSE', currency='INR')\n",
      "Unknown contract: Contract(secType='OPT', symbol='NIFTY50', lastTradeDateOrContractMonth='20251224', strike=22150.0, right='C', multiplier=1, exchange='NSE', currency='INR')\n",
      "Unknown contract: Contract(secType='OPT', symbol='NIFTY50', lastTradeDateOrContractMonth='20250626', strike=22150.0, right='C', multiplier=1, exchange='NSE', currency='INR')\n",
      "Unknown contract: Contract(secType='OPT', symbol='NIFTY50', lastTradeDateOrContractMonth='20261231', strike=22150.0, right='C', multiplier=1, exchange='NSE', currency='INR')\n",
      "Unknown contract: Contract(secType='OPT', symbol='NIFTY50', lastTradeDateOrContractMonth='20260625', strike=22150.0, right='C', multiplier=1, exchange='NSE', currency='INR')\n",
      "Unknown contract: Contract(secType='OPT', symbol='NIFTY50', lastTradeDateOrContractMonth='20270624', strike=22150.0, right='C', multiplier=1, exchange='NSE', currency='INR')\n",
      "Unknown contract: Contract(secType='OPT', symbol='NIFTY50', lastTradeDateOrContractMonth='20271230', strike=22150.0, right='C', multiplier=1, exchange='NSE', currency='INR')\n",
      "Unknown contract: Contract(secType='OPT', symbol='NIFTY50', lastTradeDateOrContractMonth='20280629', strike=22150.0, right='C', multiplier=1, exchange='NSE', currency='INR')\n",
      "Unknown contract: Contract(secType='OPT', symbol='NIFTY50', lastTradeDateOrContractMonth='20281228', strike=22150.0, right='C', multiplier=1, exchange='NSE', currency='INR')\n",
      "NSE naked quals: 100%|██████████| 18/18 [00:01<00:00, 16.53it/s]\n",
      "NSE naked opt margins100%|████████████████████████| 7/7 [00:03<00:00,  2.14it/s]\n"
     ]
    }
   ],
   "source": [
    "# Get margins and commissions from the options closest to und\n",
    "df_chq = qualify_naked_opts(df_ch)"
   ]
  },
  {
   "cell_type": "code",
   "execution_count": 8,
   "metadata": {},
   "outputs": [],
   "source": [
    "# REplace nan | Zero values of margin with mgnCompute\n",
    "from utils import snp_margin_compute\n",
    "\n",
    "if MARKET == 'SNP':\n",
    "    df = snp_margin_compute(df_chq)\n",
    "    bad_margin = df.margin == 0 | df.margin.isnull()\n",
    "    df_chqm = df.loc[bad_margin, 'margin'] = df[bad_margin].mgnCompute\n",
    "    "
   ]
  },
  {
   "cell_type": "markdown",
   "metadata": {},
   "source": [
    "# NSE margin compute"
   ]
  },
  {
   "cell_type": "code",
   "execution_count": null,
   "metadata": {},
   "outputs": [],
   "source": []
  },
  {
   "cell_type": "code",
   "execution_count": null,
   "metadata": {},
   "outputs": [],
   "source": []
  },
  {
   "cell_type": "code",
   "execution_count": null,
   "metadata": {},
   "outputs": [],
   "source": []
  },
  {
   "cell_type": "code",
   "execution_count": null,
   "metadata": {},
   "outputs": [],
   "source": [
    "from utils import get_pickle\n",
    "get_pickle(DATAPATH / 'df_und_prices.pkl')"
   ]
  },
  {
   "cell_type": "code",
   "execution_count": null,
   "metadata": {},
   "outputs": [],
   "source": [
    "# Compute margins from get_unds_with_prices.\n",
    "# TODO: Integrate `lots` and `multiplier` to output of `get_unds_with_prices`\n",
    "# TODO: Modify get_unds_with_prices to put the lot and multiplier fields."
   ]
  },
  {
   "cell_type": "code",
   "execution_count": 9,
   "metadata": {},
   "outputs": [
    {
     "data": {
      "text/html": [
       "<div>\n",
       "<style scoped>\n",
       "    .dataframe tbody tr th:only-of-type {\n",
       "        vertical-align: middle;\n",
       "    }\n",
       "\n",
       "    .dataframe tbody tr th {\n",
       "        vertical-align: top;\n",
       "    }\n",
       "\n",
       "    .dataframe thead th {\n",
       "        text-align: right;\n",
       "    }\n",
       "</style>\n",
       "<table border=\"1\" class=\"dataframe\">\n",
       "  <thead>\n",
       "    <tr style=\"text-align: right;\">\n",
       "      <th></th>\n",
       "      <th>conId</th>\n",
       "      <th>symbol</th>\n",
       "      <th>dte</th>\n",
       "      <th>expiry</th>\n",
       "      <th>strike</th>\n",
       "      <th>multiplier</th>\n",
       "      <th>undPrice</th>\n",
       "      <th>iv</th>\n",
       "      <th>sigma</th>\n",
       "      <th>strike_sdev</th>\n",
       "      <th>right</th>\n",
       "      <th>market</th>\n",
       "      <th>lot</th>\n",
       "      <th>strk_near_und</th>\n",
       "      <th>contract</th>\n",
       "      <th>margin</th>\n",
       "      <th>comm</th>\n",
       "    </tr>\n",
       "  </thead>\n",
       "  <tbody>\n",
       "    <tr>\n",
       "      <th>0</th>\n",
       "      <td>680592042</td>\n",
       "      <td>NIFTY50</td>\n",
       "      <td>6.035213</td>\n",
       "      <td>20240425</td>\n",
       "      <td>22150.0</td>\n",
       "      <td>1</td>\n",
       "      <td>22144.95</td>\n",
       "      <td>0.131166</td>\n",
       "      <td>373.505295</td>\n",
       "      <td>0.013521</td>\n",
       "      <td>C</td>\n",
       "      <td>NSE</td>\n",
       "      <td>50.0</td>\n",
       "      <td>[22150.0]</td>\n",
       "      <td>Contract(secType='OPT', conId=680592042, symbo...</td>\n",
       "      <td>153542.47</td>\n",
       "      <td>20.0</td>\n",
       "    </tr>\n",
       "    <tr>\n",
       "      <th>1</th>\n",
       "      <td>692768220</td>\n",
       "      <td>NIFTY50</td>\n",
       "      <td>13.035213</td>\n",
       "      <td>20240502</td>\n",
       "      <td>22150.0</td>\n",
       "      <td>1</td>\n",
       "      <td>22144.95</td>\n",
       "      <td>0.131166</td>\n",
       "      <td>548.920601</td>\n",
       "      <td>0.009200</td>\n",
       "      <td>C</td>\n",
       "      <td>NSE</td>\n",
       "      <td>50.0</td>\n",
       "      <td>[22150.0]</td>\n",
       "      <td>Contract(secType='OPT', conId=692768220, symbo...</td>\n",
       "      <td>150312.22</td>\n",
       "      <td>20.0</td>\n",
       "    </tr>\n",
       "    <tr>\n",
       "      <th>2</th>\n",
       "      <td>695293931</td>\n",
       "      <td>NIFTY50</td>\n",
       "      <td>20.035213</td>\n",
       "      <td>20240509</td>\n",
       "      <td>22150.0</td>\n",
       "      <td>1</td>\n",
       "      <td>22144.95</td>\n",
       "      <td>0.131166</td>\n",
       "      <td>680.530269</td>\n",
       "      <td>0.007421</td>\n",
       "      <td>C</td>\n",
       "      <td>NSE</td>\n",
       "      <td>50.0</td>\n",
       "      <td>[22150.0]</td>\n",
       "      <td>Contract(secType='OPT', conId=695293931, symbo...</td>\n",
       "      <td>148280.97</td>\n",
       "      <td>20.0</td>\n",
       "    </tr>\n",
       "    <tr>\n",
       "      <th>3</th>\n",
       "      <td>696186822</td>\n",
       "      <td>NIFTY50</td>\n",
       "      <td>27.035213</td>\n",
       "      <td>20240516</td>\n",
       "      <td>22150.0</td>\n",
       "      <td>1</td>\n",
       "      <td>22144.95</td>\n",
       "      <td>0.131166</td>\n",
       "      <td>790.524553</td>\n",
       "      <td>0.006388</td>\n",
       "      <td>C</td>\n",
       "      <td>NSE</td>\n",
       "      <td>50.0</td>\n",
       "      <td>[22150.0]</td>\n",
       "      <td>Contract(secType='OPT', conId=696186822, symbo...</td>\n",
       "      <td>146989.09</td>\n",
       "      <td>20.0</td>\n",
       "    </tr>\n",
       "    <tr>\n",
       "      <th>4</th>\n",
       "      <td>698202823</td>\n",
       "      <td>NIFTY50</td>\n",
       "      <td>34.035213</td>\n",
       "      <td>20240523</td>\n",
       "      <td>22150.0</td>\n",
       "      <td>1</td>\n",
       "      <td>22144.95</td>\n",
       "      <td>0.131166</td>\n",
       "      <td>886.981787</td>\n",
       "      <td>0.005693</td>\n",
       "      <td>C</td>\n",
       "      <td>NSE</td>\n",
       "      <td>50.0</td>\n",
       "      <td>[22150.0]</td>\n",
       "      <td>Contract(secType='OPT', conId=698202823, symbo...</td>\n",
       "      <td>NaN</td>\n",
       "      <td>NaN</td>\n",
       "    </tr>\n",
       "    <tr>\n",
       "      <th>5</th>\n",
       "      <td>687901540</td>\n",
       "      <td>NIFTY50</td>\n",
       "      <td>41.035213</td>\n",
       "      <td>20240530</td>\n",
       "      <td>22150.0</td>\n",
       "      <td>1</td>\n",
       "      <td>22144.95</td>\n",
       "      <td>0.131166</td>\n",
       "      <td>973.932396</td>\n",
       "      <td>0.005185</td>\n",
       "      <td>C</td>\n",
       "      <td>NSE</td>\n",
       "      <td>50.0</td>\n",
       "      <td>[22150.0]</td>\n",
       "      <td>Contract(secType='OPT', conId=687901540, symbo...</td>\n",
       "      <td>145661.59</td>\n",
       "      <td>20.0</td>\n",
       "    </tr>\n",
       "    <tr>\n",
       "      <th>6</th>\n",
       "      <td>694229717</td>\n",
       "      <td>NIFTY50</td>\n",
       "      <td>69.035213</td>\n",
       "      <td>20240627</td>\n",
       "      <td>22150.0</td>\n",
       "      <td>1</td>\n",
       "      <td>22144.95</td>\n",
       "      <td>0.131166</td>\n",
       "      <td>1263.239802</td>\n",
       "      <td>0.003998</td>\n",
       "      <td>C</td>\n",
       "      <td>NSE</td>\n",
       "      <td>50.0</td>\n",
       "      <td>[22150.0]</td>\n",
       "      <td>Contract(secType='OPT', conId=694229717, symbo...</td>\n",
       "      <td>145237.84</td>\n",
       "      <td>20.0</td>\n",
       "    </tr>\n",
       "  </tbody>\n",
       "</table>\n",
       "</div>"
      ],
      "text/plain": [
       "       conId   symbol        dte    expiry   strike  multiplier  undPrice  \\\n",
       "0  680592042  NIFTY50   6.035213  20240425  22150.0           1  22144.95   \n",
       "1  692768220  NIFTY50  13.035213  20240502  22150.0           1  22144.95   \n",
       "2  695293931  NIFTY50  20.035213  20240509  22150.0           1  22144.95   \n",
       "3  696186822  NIFTY50  27.035213  20240516  22150.0           1  22144.95   \n",
       "4  698202823  NIFTY50  34.035213  20240523  22150.0           1  22144.95   \n",
       "5  687901540  NIFTY50  41.035213  20240530  22150.0           1  22144.95   \n",
       "6  694229717  NIFTY50  69.035213  20240627  22150.0           1  22144.95   \n",
       "\n",
       "         iv        sigma  strike_sdev right market   lot strk_near_und  \\\n",
       "0  0.131166   373.505295     0.013521     C    NSE  50.0     [22150.0]   \n",
       "1  0.131166   548.920601     0.009200     C    NSE  50.0     [22150.0]   \n",
       "2  0.131166   680.530269     0.007421     C    NSE  50.0     [22150.0]   \n",
       "3  0.131166   790.524553     0.006388     C    NSE  50.0     [22150.0]   \n",
       "4  0.131166   886.981787     0.005693     C    NSE  50.0     [22150.0]   \n",
       "5  0.131166   973.932396     0.005185     C    NSE  50.0     [22150.0]   \n",
       "6  0.131166  1263.239802     0.003998     C    NSE  50.0     [22150.0]   \n",
       "\n",
       "                                            contract     margin  comm  \n",
       "0  Contract(secType='OPT', conId=680592042, symbo...  153542.47  20.0  \n",
       "1  Contract(secType='OPT', conId=692768220, symbo...  150312.22  20.0  \n",
       "2  Contract(secType='OPT', conId=695293931, symbo...  148280.97  20.0  \n",
       "3  Contract(secType='OPT', conId=696186822, symbo...  146989.09  20.0  \n",
       "4  Contract(secType='OPT', conId=698202823, symbo...        NaN   NaN  \n",
       "5  Contract(secType='OPT', conId=687901540, symbo...  145661.59  20.0  \n",
       "6  Contract(secType='OPT', conId=694229717, symbo...  145237.84  20.0  "
      ]
     },
     "execution_count": 9,
     "metadata": {},
     "output_type": "execute_result"
    }
   ],
   "source": [
    "df_chq"
   ]
  },
  {
   "cell_type": "code",
   "execution_count": null,
   "metadata": {},
   "outputs": [],
   "source": []
  },
  {
   "cell_type": "code",
   "execution_count": 10,
   "metadata": {},
   "outputs": [
    {
     "name": "stderr",
     "output_type": "stream",
     "text": [
      "Qualifying NSE Unds:   0%|          | 0/179 [00:00<?, ?it/s]Error 200, reqId 43432: No security definition has been found for the request, contract: Stock(symbol='MIDCPNIFT', exchange='NSE', currency='INR')\n",
      "Unknown contract: Stock(symbol='MIDCPNIFT', exchange='NSE', currency='INR')\n",
      "Qualifying NSE Unds: 100%|██████████| 179/179 [00:05<00:00, 35.65it/s]\n",
      "Mkt prices with IVs: 100%|██████████| 5/5 [00:35<00:00,  7.16s/it]\n"
     ]
    },
    {
     "data": {
      "text/html": [
       "<div>\n",
       "<style scoped>\n",
       "    .dataframe tbody tr th:only-of-type {\n",
       "        vertical-align: middle;\n",
       "    }\n",
       "\n",
       "    .dataframe tbody tr th {\n",
       "        vertical-align: top;\n",
       "    }\n",
       "\n",
       "    .dataframe thead th {\n",
       "        text-align: right;\n",
       "    }\n",
       "</style>\n",
       "<table border=\"1\" class=\"dataframe\">\n",
       "  <thead>\n",
       "    <tr style=\"text-align: right;\">\n",
       "      <th></th>\n",
       "      <th>secType</th>\n",
       "      <th>conId</th>\n",
       "      <th>symbol</th>\n",
       "      <th>price</th>\n",
       "      <th>iv</th>\n",
       "    </tr>\n",
       "  </thead>\n",
       "  <tbody>\n",
       "    <tr>\n",
       "      <th>0</th>\n",
       "      <td>IND</td>\n",
       "      <td>56994300</td>\n",
       "      <td>BANKNIFTY</td>\n",
       "      <td>47421.50</td>\n",
       "      <td>0.156918</td>\n",
       "    </tr>\n",
       "    <tr>\n",
       "      <th>1</th>\n",
       "      <td>IND</td>\n",
       "      <td>51497778</td>\n",
       "      <td>NIFTY50</td>\n",
       "      <td>22121.55</td>\n",
       "      <td>0.130965</td>\n",
       "    </tr>\n",
       "    <tr>\n",
       "      <th>2</th>\n",
       "      <td>STK</td>\n",
       "      <td>44652129</td>\n",
       "      <td>AMBUJACEM</td>\n",
       "      <td>611.15</td>\n",
       "      <td>0.320177</td>\n",
       "    </tr>\n",
       "    <tr>\n",
       "      <th>3</th>\n",
       "      <td>STK</td>\n",
       "      <td>166947150</td>\n",
       "      <td>ASTRAL</td>\n",
       "      <td>1942.60</td>\n",
       "      <td>0.286062</td>\n",
       "    </tr>\n",
       "    <tr>\n",
       "      <th>4</th>\n",
       "      <td>STK</td>\n",
       "      <td>269577540</td>\n",
       "      <td>BEL</td>\n",
       "      <td>233.05</td>\n",
       "      <td>0.365450</td>\n",
       "    </tr>\n",
       "    <tr>\n",
       "      <th>...</th>\n",
       "      <td>...</td>\n",
       "      <td>...</td>\n",
       "      <td>...</td>\n",
       "      <td>...</td>\n",
       "      <td>...</td>\n",
       "    </tr>\n",
       "    <tr>\n",
       "      <th>124</th>\n",
       "      <td>STK</td>\n",
       "      <td>56987148</td>\n",
       "      <td>RAMCOCEM</td>\n",
       "      <td>800.10</td>\n",
       "      <td>0.269863</td>\n",
       "    </tr>\n",
       "    <tr>\n",
       "      <th>125</th>\n",
       "      <td>STK</td>\n",
       "      <td>44652015</td>\n",
       "      <td>TCS</td>\n",
       "      <td>3840.55</td>\n",
       "      <td>0.213945</td>\n",
       "    </tr>\n",
       "    <tr>\n",
       "      <th>126</th>\n",
       "      <td>STK</td>\n",
       "      <td>217227809</td>\n",
       "      <td>ALKEM</td>\n",
       "      <td>4605.60</td>\n",
       "      <td>0.299605</td>\n",
       "    </tr>\n",
       "    <tr>\n",
       "      <th>127</th>\n",
       "      <td>STK</td>\n",
       "      <td>360973395</td>\n",
       "      <td>POLYCAB</td>\n",
       "      <td>5280.05</td>\n",
       "      <td>0.386013</td>\n",
       "    </tr>\n",
       "    <tr>\n",
       "      <th>128</th>\n",
       "      <td>STK</td>\n",
       "      <td>187395599</td>\n",
       "      <td>TECHM</td>\n",
       "      <td>1199.00</td>\n",
       "      <td>0.308863</td>\n",
       "    </tr>\n",
       "  </tbody>\n",
       "</table>\n",
       "<p>129 rows × 5 columns</p>\n",
       "</div>"
      ],
      "text/plain": [
       "    secType      conId     symbol     price        iv\n",
       "0       IND   56994300  BANKNIFTY  47421.50  0.156918\n",
       "1       IND   51497778    NIFTY50  22121.55  0.130965\n",
       "2       STK   44652129  AMBUJACEM    611.15  0.320177\n",
       "3       STK  166947150     ASTRAL   1942.60  0.286062\n",
       "4       STK  269577540        BEL    233.05  0.365450\n",
       "..      ...        ...        ...       ...       ...\n",
       "124     STK   56987148   RAMCOCEM    800.10  0.269863\n",
       "125     STK   44652015        TCS   3840.55  0.213945\n",
       "126     STK  217227809      ALKEM   4605.60  0.299605\n",
       "127     STK  360973395    POLYCAB   5280.05  0.386013\n",
       "128     STK  187395599      TECHM   1199.00  0.308863\n",
       "\n",
       "[129 rows x 5 columns]"
      ]
     },
     "execution_count": 10,
     "metadata": {},
     "output_type": "execute_result"
    }
   ],
   "source": [
    "from utils import get_unds_with_prices\n",
    "get_unds_with_prices(MARKET)"
   ]
  },
  {
   "cell_type": "code",
   "execution_count": null,
   "metadata": {},
   "outputs": [],
   "source": []
  },
  {
   "cell_type": "code",
   "execution_count": null,
   "metadata": {},
   "outputs": [],
   "source": [
    "# make raw target options and qualify them\n",
    "from utils import raw_target_opts\n",
    "df_raw_opts = raw_target_opts(df_chains, 1)\n"
   ]
  },
  {
   "cell_type": "code",
   "execution_count": null,
   "metadata": {},
   "outputs": [],
   "source": [
    "df_raw_opts"
   ]
  },
  {
   "cell_type": "code",
   "execution_count": null,
   "metadata": {},
   "outputs": [],
   "source": [
    "df_opts = qualify_naked_opts(df_raw_opts)"
   ]
  },
  {
   "cell_type": "code",
   "execution_count": null,
   "metadata": {},
   "outputs": [],
   "source": [
    "df_opts"
   ]
  },
  {
   "cell_type": "code",
   "execution_count": null,
   "metadata": {},
   "outputs": [],
   "source": []
  },
  {
   "cell_type": "code",
   "execution_count": null,
   "metadata": {},
   "outputs": [],
   "source": [
    "# get expected price for the target options\n",
    "from utils import nakeds_with_expPrice\n",
    "df_n = nakeds_with_expPrice(df_opts)"
   ]
  },
  {
   "cell_type": "code",
   "execution_count": null,
   "metadata": {},
   "outputs": [],
   "source": [
    "df_n.head(3)"
   ]
  },
  {
   "cell_type": "code",
   "execution_count": null,
   "metadata": {},
   "outputs": [],
   "source": [
    "3.45*50/99697.63*365/11.344245"
   ]
  },
  {
   "cell_type": "code",
   "execution_count": null,
   "metadata": {},
   "outputs": [],
   "source": []
  }
 ],
 "metadata": {
  "kernelspec": {
   "display_name": "Python 3 (ipykernel)",
   "language": "python",
   "name": "python3"
  },
  "language_info": {
   "codemirror_mode": {
    "name": "ipython",
    "version": 3
   },
   "file_extension": ".py",
   "mimetype": "text/x-python",
   "name": "python",
   "nbconvert_exporter": "python",
   "pygments_lexer": "ipython3",
   "version": "3.11.5"
  }
 },
 "nbformat": 4,
 "nbformat_minor": 4
}
