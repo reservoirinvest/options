{
 "cells": [
  {
   "cell_type": "code",
   "execution_count": null,
   "metadata": {},
   "outputs": [],
   "source": [
    "## THIS CELL SHOULD BE IN ALL VSCODE NOTEBOOKS ##\n",
    "\n",
    "MARKET = 'SNP'\n",
    "\n",
    "# Add `src` to _src.pth in .venv to allow imports in VS Code\n",
    "from sysconfig import get_path\n",
    "from pathlib import Path\n",
    "if 'src' not in Path.cwd().parts:\n",
    "    src_path = str(Path(get_path('purelib')) / '_src.pth')\n",
    "    with open(src_path, 'w') as f:\n",
    "        f.write(str(Path.cwd() / 'src\\n'))\n",
    "\n",
    "# Start the Jupyter loop\n",
    "from ib_insync import util, IB\n",
    "util.startLoop()"
   ]
  },
  {
   "cell_type": "code",
   "execution_count": null,
   "metadata": {},
   "outputs": [],
   "source": [
    "# Set the root\n",
    "from from_root import from_root\n",
    "ROOT = from_root()\n",
    "\n",
    "from utils import Vars\n",
    "_vars = Vars(MARKET)\n",
    "PORT = _vars.PORT\n",
    "PAPER = _vars.PAPER \n",
    "OPT_COLS = _vars.OPT_COLS[0]\n",
    "DATAPATH = ROOT / 'data' / MARKET"
   ]
  },
  {
   "cell_type": "markdown",
   "metadata": {},
   "source": [
    "# Build `states`"
   ]
  },
  {
   "cell_type": "code",
   "execution_count": null,
   "metadata": {},
   "outputs": [],
   "source": [
    "# Imports\n",
    "from utils import get_pickle, get_order_pf, qualify_conIds, clean_ib_util_df, get_dte, get_margins\n",
    "import asyncio\n",
    "import numpy as np\n",
    "import pandas as pd\n",
    "from ib_insync import MarketOrder"
   ]
  },
  {
   "cell_type": "code",
   "execution_count": null,
   "metadata": {},
   "outputs": [],
   "source": [
    "# get unds, open orders and portfolio\n",
    "unds = set(get_pickle(DATAPATH / 'unds.pkl').keys())\n",
    "df_openorder, df_pf = asyncio.run(get_order_pf(PORT))"
   ]
  },
  {
   "cell_type": "code",
   "execution_count": null,
   "metadata": {},
   "outputs": [],
   "source": [
    "# Get margins of all positions\n",
    "\n",
    "CID = _vars.CID\n",
    "desc = \"Qualifiying Reap Contracts\"\n",
    "conId_list = df_pf.conId.to_list()\n",
    "\n",
    "# ... qualify portfolio contracts\n",
    "pf_contracts = asyncio.run(qualify_conIds(PORT, conId_list, f\"Qualifying {MARKET} conIds\"))"
   ]
  },
  {
   "cell_type": "code",
   "execution_count": null,
   "metadata": {},
   "outputs": [],
   "source": [
    "# ...integrate df_pf with multiplier\n",
    "\n",
    "df1 = clean_ib_util_df(pf_contracts).set_index('conId')\n",
    "df2 = df_pf.set_index('conId')\n",
    "\n",
    "cols_to_use = df2.columns.difference(df1.columns)\n",
    "df_pf = df1.join(df2[cols_to_use])\n",
    "\n",
    "# join the multiplier\n",
    "s = pd.to_numeric(df_pf.multiplier)\n",
    "s.fillna(1, inplace=True)\n",
    "df_pf = df_pf.assign(multiplier=s)"
   ]
  },
  {
   "cell_type": "code",
   "execution_count": null,
   "metadata": {},
   "outputs": [],
   "source": [
    "# Get DTEs\n",
    "df_pf.insert(4, 'dte', df_pf.expiry.apply(lambda x: get_dte(x, MARKET)))\n",
    "df_pf.loc[df_pf.dte <=0, \"dte\"] = 0\n",
    "\n",
    "# Get the costPrice\n",
    "df_pf.insert(9, 'costPrice', abs(df_pf.avgCost/df_pf.position))\n",
    "\n",
    "# Assign the actions\n",
    "df_pf = df_pf.assign(action=np.where(df_pf.position < 0, \"BUY\", \"SELL\"))"
   ]
  },
  {
   "cell_type": "code",
   "execution_count": null,
   "metadata": {},
   "outputs": [],
   "source": [
    "# build the orders\n",
    "wif_order = [MarketOrder(action, totalQuantity) \n",
    "             for action, totalQuantity \n",
    "             in zip(df_pf.action, abs(df_pf.position*df_pf.multiplier))]\n",
    "df_pf = df_pf.assign(wif_order = wif_order)"
   ]
  },
  {
   "cell_type": "code",
   "execution_count": null,
   "metadata": {},
   "outputs": [],
   "source": [
    "from utils import get_margins"
   ]
  },
  {
   "cell_type": "code",
   "execution_count": null,
   "metadata": {},
   "outputs": [],
   "source": [
    "df_pf"
   ]
  },
  {
   "cell_type": "code",
   "execution_count": null,
   "metadata": {},
   "outputs": [],
   "source": [
    "with IB().connect(port=PORT) as ib:\n",
    "    df_margins = asyncio.run(get_margins(port=PORT, contracts=df_pf.contract, orders = df_pf.wif_order))"
   ]
  },
  {
   "cell_type": "code",
   "execution_count": null,
   "metadata": {},
   "outputs": [],
   "source": []
  },
  {
   "cell_type": "code",
   "execution_count": null,
   "metadata": {},
   "outputs": [],
   "source": []
  },
  {
   "cell_type": "code",
   "execution_count": null,
   "metadata": {},
   "outputs": [],
   "source": [
    "get_pickle(DATAPATH / 'lots.pkl')"
   ]
  },
  {
   "cell_type": "code",
   "execution_count": null,
   "metadata": {},
   "outputs": [],
   "source": [
    "from utils import get_margins\n",
    "df_pf_m = asyncio.run(get_margins(PORT, df_pf, DATAPATH / 'lots.pkl', 'BUY'))"
   ]
  },
  {
   "cell_type": "code",
   "execution_count": null,
   "metadata": {},
   "outputs": [],
   "source": [
    "df_pf_m.margin.sum()"
   ]
  },
  {
   "cell_type": "code",
   "execution_count": null,
   "metadata": {},
   "outputs": [],
   "source": [
    "async def get_margins(port: int, \n",
    "                      contracts: Union[pd.DataFrame, list],\n",
    "                      orders: Union[MarketOrder, None],                      \n",
    "                      lots_path: Path=None,\n",
    "                      ACTION: str='SELL', \n",
    "                      chunk_size: int=100,\n",
    "                      CID: int=0):\n",
    "    \"\"\"\n",
    "    Gets margins for options contracts with `orders` or `ACTION`\n",
    "\n",
    "    Parameters\n",
    "    ---\n",
    "    contracts: df with `contract` field | list\n",
    "    orders: list of `MarketOrder` | `None` reuqires an `ACTION`\n",
    "    ACTION: `BUY` or `SELL` needed if no `orders` are provided\n",
    "\n",
    "    \"\"\"\n",
    "\n",
    "    try:\n",
    "        opt_contracts = contracts.contract.to_list()\n",
    "    except AttributeError:\n",
    "        contracts = clean_ib_util_df(contracts)\n",
    "        opt_contracts = contracts.contract.to_list()\n",
    "\n",
    "\n",
    "    results = list()\n",
    "\n",
    "    pbar = tqdm(total=len(opt_contracts),\n",
    "                    desc=\"Getting margins:\",\n",
    "                    bar_format = BAR_FORMAT,\n",
    "                    ncols=80,\n",
    "                    leave=True,\n",
    "                )\n",
    "\n",
    "    contracts = contracts.assign(conId=[c.conId for c in opt_contracts]).\\\n",
    "                set_index('conId')\n",
    "\n",
    "    chunks = chunk_me(opt_contracts, chunk_size)\n",
    "\n",
    "    with await IB().connectAsync(port=port, clientId=CID) as ib:\n",
    "        \n",
    "        for cts in chunks:\n",
    "\n",
    "            if orders:\n",
    "\n",
    "                tasks = [asyncio.create_task(get_a_margin(ib=ib, \n",
    "                                                          contract=contract,\n",
    "                                                          order=orders,\n",
    "                                                          lots_path=lots_path), \n",
    "                                                            name= contract.localSymbol) \n",
    "                            for contract in cts]     \n",
    "\n",
    "            else:\n",
    "                tasks = [asyncio.create_task(get_a_margin(ib=ib, \n",
    "                                                          contract=contract, \n",
    "                                                          lots_path=lots_path, \n",
    "                                                          ACTION=ACTION), \n",
    "                                                            name= contract.localSymbol) \n",
    "                            for contract in cts]            \n",
    "\n",
    "\n",
    "            margin = await asyncio.gather(*tasks)\n",
    "\n",
    "            results += margin\n",
    "            pbar.update(len(cts))\n",
    "            pbar.refresh()\n",
    "\n",
    "    flat_results ={k: v for r in results for k, v in r.items()}\n",
    "    df_mgncomm = pd.DataFrame(flat_results).T\n",
    "    df_out = contracts.join(df_mgncomm).reset_index()\n",
    "\n",
    "    pbar.close()\n",
    "\n",
    "    return df_out"
   ]
  },
  {
   "cell_type": "markdown",
   "metadata": {},
   "source": [
    "## Unsowed"
   ]
  },
  {
   "cell_type": "code",
   "execution_count": null,
   "metadata": {},
   "outputs": [],
   "source": [
    "# No orders to sow and no existing positions\n",
    "\n",
    "options = df_pf.secType == 'OPT'\n",
    "stocks = df_pf.secType == 'STK'\n",
    "\n",
    "long = df_pf.position > 0\n",
    "long_options = long & options\n",
    "df_pf[long_options]\n",
    "\n",
    "unsowed = unds - set(df_openorder.symbol) - set(df_pf.symbol)\n",
    "unsowed"
   ]
  },
  {
   "cell_type": "markdown",
   "metadata": {},
   "source": [
    "# Orphaned"
   ]
  },
  {
   "cell_type": "code",
   "execution_count": null,
   "metadata": {},
   "outputs": [],
   "source": [
    "# Long calls or puts without any underlying stock position\n",
    "options = df_pf.secType == 'OPT'\n",
    "stocks = df_pf.secType == 'STK'\n",
    "long = df_pf.position >= 1\n",
    "long_stocks = long & stocks\n",
    "long_options = long & options\n",
    "orphaned = long_stocks & long_options\n",
    "\n",
    "orphaned = df_pf[orphaned]\n",
    "orphaned"
   ]
  },
  {
   "cell_type": "markdown",
   "metadata": {},
   "source": [
    "## Unreaped"
   ]
  },
  {
   "cell_type": "code",
   "execution_count": null,
   "metadata": {},
   "outputs": [],
   "source": [
    "# Open position without a reap order\n",
    "df_reap = df_pf[options]"
   ]
  },
  {
   "cell_type": "code",
   "execution_count": null,
   "metadata": {},
   "outputs": [],
   "source": []
  },
  {
   "cell_type": "code",
   "execution_count": null,
   "metadata": {},
   "outputs": [],
   "source": []
  },
  {
   "cell_type": "code",
   "execution_count": null,
   "metadata": {},
   "outputs": [],
   "source": []
  }
 ],
 "metadata": {
  "kernelspec": {
   "display_name": ".venv",
   "language": "python",
   "name": "python3"
  },
  "language_info": {
   "codemirror_mode": {
    "name": "ipython",
    "version": 3
   },
   "file_extension": ".py",
   "mimetype": "text/x-python",
   "name": "python",
   "nbconvert_exporter": "python",
   "pygments_lexer": "ipython3",
   "version": "3.11.5"
  }
 },
 "nbformat": 4,
 "nbformat_minor": 2
}
