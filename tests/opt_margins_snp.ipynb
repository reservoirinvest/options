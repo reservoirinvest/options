{
 "cells": [
  {
   "cell_type": "markdown",
   "metadata": {},
   "source": [
    "# Margins for SNP\n",
    "-[ ] Build / Extract the chains    \n",
    "-[ ] Get undPrices   \n",
    "-[ ] Integrate undPrices to the chains   \n",
    "\n",
    "-[ ] Get the lots   \n",
    "-[ ] Get margins for with qty as the lot   \n",
    "-[ ] Make logic for margins from SNP rules   \n",
    "-[ ] For margins with NaN, replace margins with the one derived from logic   \n",
    "-[ ] Integrate margins to chains"
   ]
  },
  {
   "cell_type": "code",
   "execution_count": null,
   "metadata": {},
   "outputs": [],
   "source": [
    "## THIS CELL SHOULD BE IN ALL VSCODE NOTEBOOKS ##\n",
    "\n",
    "MARKET = 'SNP'\n",
    "\n",
    "import pandas as pd\n",
    "pd.options.display.max_columns=None\n",
    "\n",
    "# Add `src` to _src.pth in .venv to allow imports in VS Code\n",
    "from sysconfig import get_path\n",
    "from pathlib import Path\n",
    "if 'src' not in Path.cwd().parts:\n",
    "    src_path = str(Path(get_path('purelib')) / '_src.pth')\n",
    "    with open(src_path, 'w') as f:\n",
    "        f.write(str(Path.cwd() / 'src\\n'))\n",
    "\n",
    "# Start the Jupyter loop\n",
    "from ib_insync import util, IB\n",
    "util.startLoop()"
   ]
  },
  {
   "cell_type": "code",
   "execution_count": null,
   "metadata": {},
   "outputs": [],
   "source": [
    "# Set the root\n",
    "from from_root import from_root\n",
    "ROOT = from_root()\n",
    "\n",
    "from utils import Vars\n",
    "_vars = Vars(MARKET)\n",
    "PORT = _vars.PORT\n",
    "PAPER = _vars.PAPER \n",
    "OPT_COLS = _vars.OPT_COLS[0]\n",
    "DATAPATH = ROOT / 'data' / MARKET.lower()\n",
    "\n",
    "# Suppress Errors\n",
    "util.logToFile(DATAPATH.parent.parent / 'log' / 'ztest.log')"
   ]
  },
  {
   "cell_type": "markdown",
   "metadata": {},
   "source": [
    "## Get underlying contracts and prices"
   ]
  },
  {
   "cell_type": "code",
   "execution_count": null,
   "metadata": {},
   "outputs": [],
   "source": [
    "# imports\n",
    "import asyncio\n",
    "from utils import get_pickle, get_mkt_prices, pickle_me, get_file_age, assemble_snp_underlyings, assemble_nse_underlyings"
   ]
  },
  {
   "cell_type": "code",
   "execution_count": null,
   "metadata": {},
   "outputs": [],
   "source": [
    "# Get unds\n",
    "UNDS_PATH = DATAPATH / 'unds.pkl'\n",
    "unds = get_pickle(UNDS_PATH)\n",
    "\n",
    "#... check file age\n",
    "MIN_UND_DAYS = 1\n",
    "unds_file_age = get_file_age(UNDS_PATH)\n",
    "if not unds_file_age:\n",
    "    unds_age_in_days = MIN_UND_DAYS\n",
    "else:\n",
    "    unds_age_in_days = unds_file_age.td.total_seconds()/60/60/12 \n",
    "\n",
    "if unds_age_in_days >= MIN_UND_DAYS:\n",
    "    # Assemble underlyings\n",
    "    if MARKET == 'SNP':\n",
    "        unds = asyncio.run(assemble_snp_underlyings(PORT))\n",
    "    else:\n",
    "        unds = asyncio.run(assemble_nse_underlyings(PORT))\n",
    "\n",
    "    # pickle underlyings\n",
    "    # pickle_with_age_check(unds, unds_path, 0) # No need to age-check, for fresh base build\n",
    "    pickle_me(unds, UNDS_PATH)"
   ]
  },
  {
   "cell_type": "code",
   "execution_count": null,
   "metadata": {},
   "outputs": [],
   "source": [
    "# Make df from unds\n",
    "df_unds = pd.DataFrame.from_dict(unds.items())\n",
    "df_unds.columns = ['symbol', 'contract']\n",
    "\n",
    "# Get und prices\n",
    "# ... check file age.\n",
    "UND_PRICE_PATH = DATAPATH / 'df_und_prices.pkl'\n",
    "und_price_file_age = get_file_age(UND_PRICE_PATH)\n",
    "if not und_price_file_age:\n",
    "    age_in_mins = 30\n",
    "else:\n",
    "    age_in_mins = und_price_file_age.td.total_seconds()/60\n",
    "\n",
    "if age_in_mins >= 30:\n",
    "    df_und_prices = asyncio.run(get_mkt_prices(port=PORT, contracts=df_unds.contract))\n",
    "    pickle_me(df_und_prices, UND_PRICE_PATH)\n",
    "else:\n",
    "    df_und_prices = get_pickle(UND_PRICE_PATH)"
   ]
  },
  {
   "cell_type": "markdown",
   "metadata": {},
   "source": [
    "## Build / Extract the chains"
   ]
  },
  {
   "cell_type": "code",
   "execution_count": null,
   "metadata": {},
   "outputs": [],
   "source": [
    "# imports\n",
    "import asyncio\n",
    "from utils import make_chains, pickle_me\n",
    "\n",
    "# inputs\n",
    "contracts = df_unds.contract"
   ]
  },
  {
   "cell_type": "code",
   "execution_count": null,
   "metadata": {},
   "outputs": [],
   "source": [
    "# Get chains\n",
    "CHAIN_PATH = DATAPATH / 'df_chains.pkl'\n",
    "chains_file_age = get_file_age(CHAIN_PATH)\n",
    "\n",
    "if not chains_file_age:\n",
    "    age_in_days = 1\n",
    "else:\n",
    "    age_in_days = chains_file_age.td.total_seconds()/60/60/12\n",
    "    \n",
    "if age_in_days >= 1:\n",
    "    df_chains = asyncio.run(make_chains(port=PORT, contracts=contracts, MARKET=MARKET))\n",
    "    pickle_me(df_chains, CHAIN_PATH)\n",
    "else:\n",
    "    df_chains = get_pickle(CHAIN_PATH)"
   ]
  },
  {
   "cell_type": "code",
   "execution_count": null,
   "metadata": {},
   "outputs": [],
   "source": [
    "df_chains"
   ]
  },
  {
   "cell_type": "markdown",
   "metadata": {},
   "source": [
    "## Integrate undPrices and undIV to the chains"
   ]
  },
  {
   "cell_type": "code",
   "execution_count": null,
   "metadata": {},
   "outputs": [],
   "source": [
    "und_price_dict = df_und_prices.set_index('symbol').price.dropna().to_dict()\n",
    "und_iv_dict = df_und_prices.set_index('symbol').iv.dropna().to_dict()\n",
    "\n",
    "# Replace undPrice and ivs where available\n",
    "df_chains.undPrice = df_chains.symbol.map(und_price_dict).fillna(df_chains.undPrice)\n",
    "df_chains.iv = df_chains.symbol.map(und_iv_dict).fillna(df_chains.iv)"
   ]
  },
  {
   "cell_type": "markdown",
   "metadata": {},
   "source": [
    "## Re-calculate `sigma` and `strike_sdev`"
   ]
  },
  {
   "cell_type": "code",
   "execution_count": null,
   "metadata": {},
   "outputs": [],
   "source": [
    "from utils import compute_strike_sd_right\n",
    "\n",
    "df_chains = compute_strike_sd_right(df_chains)"
   ]
  },
  {
   "cell_type": "markdown",
   "metadata": {},
   "source": [
    "## Get chains with closest strike price to underlying"
   ]
  },
  {
   "cell_type": "code",
   "execution_count": null,
   "metadata": {},
   "outputs": [],
   "source": [
    "# imports\n",
    "from utils import get_strike_closest_to_und"
   ]
  },
  {
   "cell_type": "raw",
   "metadata": {},
   "source": [
    "def get_strike_closest_to_und(df_chains: pd.DataFrame, \n",
    "                              how_many: int= -1) -> pd.DataFrame:\n",
    "    \n",
    "    \"\"\"\n",
    "    Gets option contracts closest to strike for every expiry\\n\n",
    "    For SNP only the lowest dte is taken\\n\n",
    "    Useful to get reference margins.\n",
    "    int: -1 for closest Put\n",
    "    \"\"\"\n",
    "\n",
    "    if set(df_chains.exchange.to_numpy()).pop() == 'SNP':\n",
    "        df_chains = df_chains.loc[df_chains.groupby(['symbol', 'right', 'strike']).dte.idxmin()]\\\n",
    "                            .reset_index(drop=True)\n",
    "\n",
    "    strk_near_und = df_chains.groupby(['symbol', 'dte'])[['strike', 'undPrice']]\\\n",
    "        .apply(lambda x: get_closest_values(x.strike, \n",
    "                                            x.undPrice.min(), \n",
    "                                            how_many))\n",
    "    strk_near_und.name = 'strk_near_und'\n",
    "\n",
    "    df_ch1 = df_chains.set_index(['symbol', 'dte']).join(strk_near_und)\n",
    "    df_ch = df_ch1[df_ch1.apply(lambda x: x.strike in x.strk_near_und, axis=1)] \\\n",
    "                            .reset_index()\n",
    "    \n",
    "    return df_ch"
   ]
  },
  {
   "cell_type": "code",
   "execution_count": null,
   "metadata": {},
   "outputs": [],
   "source": [
    "df_ch = get_strike_closest_to_und(df_chains)"
   ]
  },
  {
   "cell_type": "markdown",
   "metadata": {},
   "source": [
    "## Get the lots"
   ]
  },
  {
   "cell_type": "code",
   "execution_count": null,
   "metadata": {},
   "outputs": [],
   "source": [
    "from utils import get_lots\n",
    "\n",
    "lots_dict = dict()\n",
    "\n",
    "for k, v in unds.items():\n",
    "    if v.exchange.upper() == 'NSE':\n",
    "        lots_dict[k] = get_lots(v)\n",
    "    else:\n",
    "        lots_dict[k] = 1\n",
    "        \n",
    "# integrate with df_ch\n",
    "df_ch['lot'] = df_ch.symbol.map(lots_dict)"
   ]
  },
  {
   "cell_type": "markdown",
   "metadata": {},
   "source": [
    "## Get margins for with qty as the lot"
   ]
  },
  {
   "cell_type": "code",
   "execution_count": null,
   "metadata": {},
   "outputs": [],
   "source": [
    "# imports\n",
    "from utils import opt_margins_with_lot_check\n",
    "import numpy as np\n"
   ]
  },
  {
   "cell_type": "code",
   "execution_count": null,
   "metadata": {},
   "outputs": [],
   "source": [
    "# First run for margins with multiply lots\n",
    "df_margins = opt_margins_with_lot_check(df_ch)"
   ]
  },
  {
   "cell_type": "code",
   "execution_count": null,
   "metadata": {},
   "outputs": [],
   "source": [
    "# For remaining do a second run without multiply lots\n",
    "\n",
    "from utils import join_my_df_with_another\n",
    "df_rem = df_margins[df_margins.margin.isnull()]\n",
    "df_remaining = join_my_df_with_another(df_ch, df_rem, ['symbol', 'expiry', 'strike', 'right'])\\\n",
    "                    .dropna(subset=['secType'])\\\n",
    "                        .reset_index()\n",
    "\n",
    "df_r = opt_margins_with_lot_check(df_remaining, multiply_lot=False)\n",
    "df_r = df_r.dropna(subset=['margin'])\n",
    "\n",
    "cols = ['symbol', 'expiry', 'strike', 'right']\n",
    "df_margins = df_margins.set_index(cols).fillna(df_r.set_index(cols), axis=1).reset_index()"
   ]
  },
  {
   "cell_type": "markdown",
   "metadata": {},
   "source": [
    "## Integrate with maximum margin, wherever possible"
   ]
  },
  {
   "cell_type": "code",
   "execution_count": null,
   "metadata": {},
   "outputs": [],
   "source": [
    "# Integration of margins and commissions\n",
    "\n",
    "cols = ['symbol', 'expiry', 'strike', 'right']\n",
    "mgn_cols = cols + ['margin', 'comm']\n",
    "df_chm = pd.merge(df_ch, df_margins[mgn_cols], on=cols, suffixes=[False, '_y']).\\\n",
    "           drop(columns=['strk_near_und'], errors='ignore')\n",
    "\n",
    "chain_cols = ['symbol', 'expiry']\n",
    "ch_cols = chain_cols + ['lot', 'margin', 'comm']\n",
    "\n",
    "df_out = pd.merge(df_chains, df_chm[ch_cols], on=chain_cols, suffixes=[False, '_y'])\n",
    "\n",
    "# fill missing commissions with max per symbol\n",
    "commissions = df_chm.groupby('symbol').comm.max().to_dict()\n",
    "df_out.comm = df_out.comm.fillna(df_out.symbol.map(commissions))\n",
    "\n",
    "# fill remaining commissions\n",
    "df_out.comm = df_out.comm.fillna(max(commissions.values()))\n",
    "\n",
    "# fill margins\n",
    "mgn_dict = df_out.groupby('symbol').margin.max().to_dict()\n",
    "cond = df_out.margin.isnull()\n",
    "df_out.loc[cond, 'margin'] = df_out[cond].symbol.map(mgn_dict)\n",
    "\n",
    "# make zero margin as nan\n",
    "zero_margin_condition = df_out.margin == 0\n",
    "df_out.loc[zero_margin_condition, 'margin'] = np.nan"
   ]
  },
  {
   "cell_type": "markdown",
   "metadata": {},
   "source": [
    "## Make logic for margins from SNP rules"
   ]
  },
  {
   "cell_type": "code",
   "execution_count": null,
   "metadata": {},
   "outputs": [],
   "source": [
    "df_comp = df_out[df_out.margin.isnull()]"
   ]
  },
  {
   "cell_type": "code",
   "execution_count": null,
   "metadata": {},
   "outputs": [],
   "source": []
  },
  {
   "cell_type": "markdown",
   "metadata": {},
   "source": [
    "## Replace `nan` margins with the one derived from logic"
   ]
  }
 ],
 "metadata": {
  "kernelspec": {
   "display_name": ".venv",
   "language": "python",
   "name": "python3"
  },
  "language_info": {
   "codemirror_mode": {
    "name": "ipython",
    "version": 3
   },
   "file_extension": ".py",
   "mimetype": "text/x-python",
   "name": "python",
   "nbconvert_exporter": "python",
   "pygments_lexer": "ipython3",
   "version": "3.11.5"
  }
 },
 "nbformat": 4,
 "nbformat_minor": 2
}
