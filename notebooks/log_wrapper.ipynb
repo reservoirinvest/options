{
 "cells": [
  {
   "cell_type": "code",
   "execution_count": 1,
   "metadata": {},
   "outputs": [],
   "source": [
    "from ib_insync import IB\n",
    "from loguru import logger\n",
    "import logging"
   ]
  },
  {
   "cell_type": "code",
   "execution_count": 2,
   "metadata": {},
   "outputs": [
    {
     "name": "stdout",
     "output_type": "stream",
     "text": [
      "\u001b[1;31mType:\u001b[0m        Logger\n",
      "\u001b[1;31mString form:\u001b[0m <loguru.logger handlers=[(id=0, level=10, sink=stderr)]>\n",
      "\u001b[1;31mFile:\u001b[0m        c:\\users\\kashi\\python\\options\\.venv\\lib\\site-packages\\loguru\\_logger.py\n",
      "\u001b[1;31mDocstring:\u001b[0m  \n",
      "An object to dispatch logging messages to configured handlers.\n",
      "\n",
      "The |Logger| is the core object of ``loguru``, every logging configuration and usage pass\n",
      "through a call to one of its methods. There is only one logger, so there is no need to retrieve\n",
      "one before usage.\n",
      "\n",
      "Once the ``logger`` is imported, it can be used to write messages about events happening in your\n",
      "code. By reading the output logs of your application, you gain a better understanding of the\n",
      "flow of your program and you more easily track and debug unexpected behaviors.\n",
      "\n",
      "Handlers to which the logger sends log messages are added using the |add| method. Note that you\n",
      "can use the |Logger| right after import as it comes pre-configured (logs are emitted to\n",
      "|sys.stderr| by default). Messages can be logged with different severity levels and they can be\n",
      "formatted using curly braces (it uses |str.format| under the hood).\n",
      "\n",
      "When a message is logged, a \"record\" is associated with it. This record is a dict which contains\n",
      "information about the logging context: time, function, file, line, thread, level... It also\n",
      "contains the ``__name__`` of the module, this is why you don't need named loggers.\n",
      "\n",
      "You should not instantiate a |Logger| by yourself, use ``from loguru import logger`` instead."
     ]
    }
   ],
   "source": [
    "logger?"
   ]
  },
  {
   "cell_type": "code",
   "execution_count": 4,
   "metadata": {},
   "outputs": [
    {
     "data": {
      "text/plain": [
       "<function logging.getLogger(name=None)>"
      ]
     },
     "execution_count": 4,
     "metadata": {},
     "output_type": "execute_result"
    }
   ],
   "source": [
    "logging.getLogger"
   ]
  },
  {
   "cell_type": "code",
   "execution_count": null,
   "metadata": {},
   "outputs": [],
   "source": []
  }
 ],
 "metadata": {
  "kernelspec": {
   "display_name": ".venv",
   "language": "python",
   "name": "python3"
  },
  "language_info": {
   "codemirror_mode": {
    "name": "ipython",
    "version": 3
   },
   "file_extension": ".py",
   "mimetype": "text/x-python",
   "name": "python",
   "nbconvert_exporter": "python",
   "pygments_lexer": "ipython3",
   "version": "3.11.5"
  }
 },
 "nbformat": 4,
 "nbformat_minor": 2
}
