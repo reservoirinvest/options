{
 "cells": [
  {
   "cell_type": "markdown",
   "metadata": {},
   "source": [
    "# For NSE"
   ]
  },
  {
   "cell_type": "markdown",
   "metadata": {},
   "source": [
    "- [x] Make a list of .DAT files for extraction\n",
    "   ... it would be like `C_VAR1_22042024_1.DAT`. There are 6 files in a day.\n",
    "\n",
    "- [x] Download latest .DAT file from data-link `https://nsearchives.nseindia.com/archives/nsccl/var/C_VAR1_22042024_1.DAT`\n",
    "- [ ] Extract the margin for the symbols. This should include NIFTY.\n",
    "- [ ] Convert symbols to ib format\n",
    "- [ ] Store the margin percentage for each symbol in `.pkl`\n"
   ]
  },
  {
   "cell_type": "markdown",
   "metadata": {},
   "source": [
    "## get all report dump"
   ]
  },
  {
   "cell_type": "code",
   "execution_count": null,
   "metadata": {},
   "outputs": [],
   "source": [
    "from utils import get_nse_payload\n",
    "import io\n",
    "import pandas as pd\n",
    "from typing import Union\n",
    "import requests"
   ]
  },
  {
   "cell_type": "code",
   "execution_count": null,
   "metadata": {},
   "outputs": [],
   "source": [
    "def get_parsed_response_df(response: requests.models.Response) -> pd.DataFrame:\n",
    "    \"\"\"Parses responses from `get_nse_payload` and returns df\"\"\"\n",
    "\n",
    "    try:\n",
    "        out = pd.read_csv(io.StringIO(response.text))\n",
    "    except pd.errors.ParserError:\n",
    "        out = pd.DataFrame([])\n",
    "\n",
    "    return out"
   ]
  },
  {
   "cell_type": "code",
   "execution_count": null,
   "metadata": {},
   "outputs": [],
   "source": [
    "def get_raw_nse_margin_df() -> pd.DataFrame:\n",
    "    \"\"\"Returns raw df of margins from nse website\"\"\"\n",
    "\n",
    "    base_url = 'https://nsearchives.nseindia.com/archives/nsccl/var/C_VAR1_'\n",
    "    date_url = '22042024' # Loop through formatted_dates\n",
    "    hyphen = '_'\n",
    "    serial = str(1) # loop through `reversed(range(1, 7))`\n",
    "    end_url = '.DAT'\n",
    "\n",
    "    date_range = pd.date_range(end=pd.Timestamp.today()+pd.Timedelta(days=3), periods=7)\n",
    "    formatted_dates = [date.strftime(\"%d%m%Y\") for date in reversed(date_range)]\n",
    "\n",
    "    serial_range = [i for i in reversed(range(1, 7))]\n",
    "\n",
    "    for date in formatted_dates:\n",
    "        date_url = date\n",
    "        for i in serial_range:\n",
    "            serial = str(i)\n",
    "            url = base_url+date_url+hyphen+serial+end_url\n",
    "            \n",
    "            response = get_nse_payload(url)\n",
    "            df = get_parsed_response_df(response)\n",
    "            if not df.empty:\n",
    "                # print(url)\n",
    "                # print(f\"got df! {df.head(1)}\")\n",
    "                return df\n"
   ]
  },
  {
   "cell_type": "raw",
   "metadata": {
    "vscode": {
     "languageId": "raw"
    }
   },
   "source": [
    "base_url = 'https://nsearchives.nseindia.com/archives/nsccl/var/C_VAR1_'\n",
    "date_url = '22042024' # Loop through formatted_dates\n",
    "hyphen = '_'\n",
    "serial = str(1) # loop through `reversed(range(1, 7))`\n",
    "end_url = '.DAT'\n",
    "date_range = pd.date_range(end=pd.Timestamp.today()+pd.Timedelta(days=3), periods=7)\n",
    "formatted_dates = [date.strftime(\"%d%m%Y\") for date in reversed(date_range)]\n",
    "serial_range = [i for i in reversed(range(1, 7))]"
   ]
  },
  {
   "cell_type": "code",
   "execution_count": null,
   "metadata": {},
   "outputs": [],
   "source": [
    "raw_df = get_raw_nse_margin_df()"
   ]
  },
  {
   "cell_type": "code",
   "execution_count": null,
   "metadata": {},
   "outputs": [],
   "source": [
    "df = raw_df.reset_index().iloc[:, [1, 2, 6, 8]]\n",
    "df.columns = ['symbol', 'type', 'pct1', 'pct2']\n"
   ]
  },
  {
   "cell_type": "code",
   "execution_count": null,
   "metadata": {},
   "outputs": [],
   "source": [
    "from utils import get_nse_native_fno_list\n",
    "\n",
    "fno_list = get_nse_native_fno_list()\n",
    "m = df.symbol.isin(fno_list) & (df.type == 'EQ')\n",
    "df = df[m].reset_index(drop=True)"
   ]
  },
  {
   "cell_type": "markdown",
   "metadata": {},
   "source": [
    "## Computing margins from SAMCO"
   ]
  },
  {
   "cell_type": "code",
   "execution_count": null,
   "metadata": {},
   "outputs": [],
   "source": [
    "# variable\n",
    "underlying = \"AARTIIND\"\n",
    "expiry = \"25APR\"\n",
    "strike_price = 720\n",
    "\n",
    "# calculated\n",
    "qty = 1000\n",
    "quantity = qty\n",
    "\n",
    "\n",
    "# fixed:\n",
    "exchange = \"NFO\"\n",
    "product = \"OPT\"\n",
    "option = \"PE\"\n",
    "buy_sell = \"sell\""
   ]
  },
  {
   "cell_type": "code",
   "execution_count": null,
   "metadata": {},
   "outputs": [],
   "source": [
    "import requests\n",
    "import json\n"
   ]
  },
  {
   "cell_type": "code",
   "execution_count": null,
   "metadata": {},
   "outputs": [],
   "source": [
    "data = {\n",
    "    \"underlying\": underlying,\n",
    "    \"expiry\": expiry,\n",
    "    \"strike_price\": strike_price,\n",
    "    \"qty\": qty,\n",
    "    \"quantity\": quantity,\n",
    "    \"exchange\": exchange,\n",
    "    \"product\": product,\n",
    "    \"option\": option,\n",
    "    \"buy_sell\": buy_sell\n",
    "}"
   ]
  },
  {
   "cell_type": "code",
   "execution_count": null,
   "metadata": {},
   "outputs": [],
   "source": [
    "from utils import get_lots_from_nse"
   ]
  },
  {
   "cell_type": "raw",
   "metadata": {
    "vscode": {
     "languageId": "raw"
    }
   },
   "source": [
    "headers = {\n",
    "    # 'User-Agent': 'python-requests/2.31.0', \n",
    "    'User-agent': 'Mozilla/5.0',\n",
    "    # 'Accept-Encoding': 'gzip, deflate', \n",
    "    'Accept': '/', \n",
    "    'Connection': 'keep-alive', \n",
    "    # \"Referer\": \"https://www.nseindia.com/resources/exchange-communication-holidays\"\n",
    "    }"
   ]
  },
  {
   "cell_type": "raw",
   "metadata": {
    "vscode": {
     "languageId": "raw"
    }
   },
   "source": [
    "import requests\n",
    "import io\n",
    "import json\n",
    "import pandas as pd\n",
    "\n",
    "from utils import get_nse_payload\n",
    "\n",
    "url = \"https://www.nseindia.com/api/holiday-master?type=trading\"\n",
    "\n",
    "\n",
    "r = get_nse_payload(url)\n",
    "\n",
    "holiday_dict = json.loads(r.text).get('CBM')\n",
    "df_nse_holidays = pd.DataFrame.from_records(holiday_dict)"
   ]
  },
  {
   "cell_type": "raw",
   "metadata": {
    "vscode": {
     "languageId": "raw"
    }
   },
   "source": [
    "import pendulum\n",
    "from pendulum.date import Date"
   ]
  },
  {
   "cell_type": "raw",
   "metadata": {
    "vscode": {
     "languageId": "raw"
    }
   },
   "source": [
    "listOfNseHolidays = set(pd.to_datetime(df_nse_holidays.tradingDate).dt.date.apply(pendulum.instance))"
   ]
  },
  {
   "cell_type": "raw",
   "metadata": {
    "vscode": {
     "languageId": "raw"
    }
   },
   "source": [
    "def getNearestWeeklyExpiryDate():\n",
    "    expiryDate = None\n",
    "    if(pendulum.now().date().day_of_week is pendulum.THURSDAY):\n",
    "        expiryDate = pendulum.now()\n",
    "    else:\n",
    "        expiryDate = pendulum.now().next(pendulum.THURSDAY)\n",
    "    return __considerHolidayList(expiryDate).date()\n",
    "\n",
    "\n",
    "def getNextWeeklyExpiryDate():\n",
    "    expiryDate = None\n",
    "    if(pendulum.now().date().day_of_week is pendulum.THURSDAY):\n",
    "        expiryDate = pendulum.now().next(pendulum.THURSDAY)\n",
    "    else:\n",
    "        expiryDate = pendulum.now().next(pendulum.THURSDAY).next(pendulum.THURSDAY)\n",
    "    return __considerHolidayList(expiryDate).date()\n",
    "\n",
    "\n",
    "def getNearestMonthlyExpiryDate():\n",
    "    expiryDate = pendulum.now().last_of('month', pendulum.THURSDAY)\n",
    "    if(pendulum.now().date() > expiryDate.date()):\n",
    "        expiryDate = pendulum.now().add(months=1).last_of('month', pendulum.THURSDAY)\n",
    "    return __considerHolidayList(expiryDate).date()\n",
    "\n",
    "\n",
    "def getNextMonthlyExpiryDate():\n",
    "    expiryDate = pendulum.now().last_of('month', pendulum.THURSDAY)\n",
    "    if(pendulum.now().date() > expiryDate.date()):\n",
    "        expiryDate = pendulum.now().add(months=2).last_of('month', pendulum.THURSDAY)\n",
    "    else:\n",
    "        expiryDate = pendulum.now().add(months=1).last_of('month', pendulum.THURSDAY)\n",
    "    return __considerHolidayList(expiryDate).date()\n",
    "\n",
    "\n",
    "# utility method to be used only by this module\n",
    "def __considerHolidayList(expiryDate: Date):\n",
    "    if(expiryDate.date() in listOfNseHolidays):\n",
    "        return __considerHolidayList(expiryDate.subtract(days=1))\n",
    "    else:\n",
    "        return expiryDate"
   ]
  },
  {
   "cell_type": "markdown",
   "metadata": {},
   "source": [
    "## !!! Complete this !!!"
   ]
  },
  {
   "cell_type": "code",
   "execution_count": 1,
   "metadata": {},
   "outputs": [],
   "source": [
    "from utils import get_nearest_weekly_expiry_nse, get_nearest_monthly_expiry_nse\n",
    "\n",
    "expiry = get_nearest_weekly_expiry_nse()"
   ]
  },
  {
   "cell_type": "code",
   "execution_count": 2,
   "metadata": {},
   "outputs": [
    {
     "data": {
      "text/plain": [
       "Date(2024, 4, 25)"
      ]
     },
     "execution_count": 2,
     "metadata": {},
     "output_type": "execute_result"
    }
   ],
   "source": [
    "expiry"
   ]
  },
  {
   "cell_type": "code",
   "execution_count": null,
   "metadata": {},
   "outputs": [],
   "source": [
    "def get_margin_from_samco(underlying: str, *arg, **kwargs):\n",
    "\n",
    "    \"\"\"\n",
    "    Gets margin from samco.in\n",
    "    \n",
    "    \"\"\"\n",
    "\n",
    "    url = \"https://www.samco.in/span/get_span_value\"\n",
    "\n",
    "    headers = {\n",
    "        'User-Agent': 'python-requests/2.31.0', \n",
    "        'Accept-Encoding': 'gzip, deflate', \n",
    "        'Accept': '*/*', \n",
    "        'Connection': 'keep-alive', \n",
    "        \"Referer\": \"https://www.samco.in/calculators/span-margin-calculator\"}\n",
    "\n",
    "    expiry =  kwargs.get('expiry', False)\n",
    "\n",
    "    if not expiry:\n",
    "\n",
    "        if 'NIFTY' in underlying:\n",
    "            expiry = get_nearest_weekly_expiry_nse()\n",
    "        else:\n",
    "            expiry = get_nearest_monthly_expiry_nse ()\n",
    "\n",
    "\n",
    "    strike_price = kwargs.get('strike_price', False)\n",
    "    qty = kwargs.get('qty', False)\n",
    "    buy_sell = kwargs.get('buy_sell', 'sell')\n",
    "\n",
    "\n",
    "    \n",
    "    \n",
    "    if not data['qty']:\n",
    "        qty = get_lots_from_nse().get(underlying, 0)\n",
    "\n",
    "    quantity = qty\n",
    "\n",
    "    exchange = \"NFO\"\n",
    "    product = \"OPT\"\n",
    "    option = \"PE\"\n",
    "    buy_sell = \"sell\"\n"
   ]
  },
  {
   "cell_type": "code",
   "execution_count": null,
   "metadata": {},
   "outputs": [],
   "source": [
    "with requests.session() as s:\n",
    "    s.get(headers['Referer'])\n",
    "    response = s.post(url, data=data, headers=headers)"
   ]
  },
  {
   "cell_type": "code",
   "execution_count": null,
   "metadata": {},
   "outputs": [],
   "source": [
    "m_dict = json.loads(response.text)\n",
    "  "
   ]
  },
  {
   "cell_type": "code",
   "execution_count": null,
   "metadata": {},
   "outputs": [],
   "source": [
    "if m_dict[\"success\"]:\n",
    "    mgnCompute = m_dict['margin']['totalrequirement']\n",
    "else:\n",
    "    mgnCompute = None"
   ]
  },
  {
   "cell_type": "code",
   "execution_count": null,
   "metadata": {},
   "outputs": [],
   "source": []
  }
 ],
 "metadata": {
  "kernelspec": {
   "display_name": ".venv",
   "language": "python",
   "name": "python3"
  },
  "language_info": {
   "codemirror_mode": {
    "name": "ipython",
    "version": 3
   },
   "file_extension": ".py",
   "mimetype": "text/x-python",
   "name": "python",
   "nbconvert_exporter": "python",
   "pygments_lexer": "ipython3",
   "version": "3.11.5"
  }
 },
 "nbformat": 4,
 "nbformat_minor": 2
}
