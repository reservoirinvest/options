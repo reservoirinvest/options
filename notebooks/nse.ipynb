{
 "cells": [
  {
   "cell_type": "code",
   "execution_count": 1,
   "metadata": {},
   "outputs": [],
   "source": [
    "## THIS CELL SHOULD BE IN ALL VSCODE NOTEBOOKS ##\n",
    "\n",
    "MARKET = 'NSE'\n",
    "\n",
    "# Add `src` to _src.pth in .venv to allow imports in VS Code\n",
    "from sysconfig import get_path\n",
    "from pathlib import Path\n",
    "if 'src' not in Path.cwd().parts:\n",
    "    src_path = str(Path(get_path('purelib')) / '_src.pth')\n",
    "    with open(src_path, 'w') as f:\n",
    "        f.write(str(Path.cwd() / 'src\\n'))\n",
    "\n",
    "# Start the Jupyter loop\n",
    "from ib_insync import util, LimitOrder, IB\n",
    "util.startLoop()"
   ]
  },
  {
   "cell_type": "code",
   "execution_count": 3,
   "metadata": {},
   "outputs": [],
   "source": [
    "# Set the root\n",
    "from from_root import from_root\n",
    "ROOT = from_root()\n",
    "\n",
    "# Imports \n",
    "from utils import Vars, get_pickle\n",
    "from loguru import logger\n",
    "\n",
    "_vars = Vars(MARKET)\n",
    "PORT = port = _vars.PORT\n",
    "OPT_COLS = _vars.OPT_COLS[0]\n",
    "DATAPATH = ROOT / 'data' / MARKET"
   ]
  },
  {
   "cell_type": "markdown",
   "metadata": {},
   "source": [
    "# Straegy Check of `NSE`"
   ]
  },
  {
   "cell_type": "code",
   "execution_count": 5,
   "metadata": {},
   "outputs": [],
   "source": [
    "df = get_pickle(DATAPATH / 'df_sow.pkl')"
   ]
  },
  {
   "cell_type": "code",
   "execution_count": 11,
   "metadata": {},
   "outputs": [
    {
     "data": {
      "text/html": [
       "<div>\n",
       "<style scoped>\n",
       "    .dataframe tbody tr th:only-of-type {\n",
       "        vertical-align: middle;\n",
       "    }\n",
       "\n",
       "    .dataframe tbody tr th {\n",
       "        vertical-align: top;\n",
       "    }\n",
       "\n",
       "    .dataframe thead th {\n",
       "        text-align: right;\n",
       "    }\n",
       "</style>\n",
       "<table border=\"1\" class=\"dataframe\">\n",
       "  <thead>\n",
       "    <tr style=\"text-align: right;\">\n",
       "      <th></th>\n",
       "      <th>conId</th>\n",
       "      <th>symbol</th>\n",
       "      <th>undPrice</th>\n",
       "      <th>expiry</th>\n",
       "      <th>strike</th>\n",
       "      <th>right</th>\n",
       "      <th>dte</th>\n",
       "      <th>sdev</th>\n",
       "      <th>lot_size</th>\n",
       "      <th>margin</th>\n",
       "      <th>comm</th>\n",
       "      <th>ask</th>\n",
       "      <th>bid</th>\n",
       "      <th>last</th>\n",
       "      <th>optPrice</th>\n",
       "      <th>expPrice</th>\n",
       "      <th>prop</th>\n",
       "      <th>rom</th>\n",
       "    </tr>\n",
       "  </thead>\n",
       "  <tbody>\n",
       "    <tr>\n",
       "      <th>17</th>\n",
       "      <td>674978772</td>\n",
       "      <td>ALKEM</td>\n",
       "      <td>5095.35</td>\n",
       "      <td>20240328</td>\n",
       "      <td>4050.0</td>\n",
       "      <td>P</td>\n",
       "      <td>45.24802</td>\n",
       "      <td>-1.371205</td>\n",
       "      <td>200.0</td>\n",
       "      <td>68277.05</td>\n",
       "      <td>20.0</td>\n",
       "      <td>-1.0</td>\n",
       "      <td>0.15</td>\n",
       "      <td>NaN</td>\n",
       "      <td>0.05</td>\n",
       "      <td>59.35</td>\n",
       "      <td>-0.829689</td>\n",
       "      <td>1.400029</td>\n",
       "    </tr>\n",
       "  </tbody>\n",
       "</table>\n",
       "</div>"
      ],
      "text/plain": [
       "        conId symbol  undPrice    expiry  strike right       dte      sdev  \\\n",
       "17  674978772  ALKEM   5095.35  20240328  4050.0     P  45.24802 -1.371205   \n",
       "\n",
       "    lot_size    margin  comm  ask   bid  last  optPrice  expPrice      prop  \\\n",
       "17     200.0  68277.05  20.0 -1.0  0.15   NaN      0.05     59.35 -0.829689   \n",
       "\n",
       "         rom  \n",
       "17  1.400029  "
      ]
     },
     "execution_count": 11,
     "metadata": {},
     "output_type": "execute_result"
    }
   ],
   "source": [
    "condition = (df.symbol == 'ALKEM') & (df.right == 'P')\n",
    "df[condition][OPT_COLS]"
   ]
  },
  {
   "cell_type": "code",
   "execution_count": null,
   "metadata": {},
   "outputs": [],
   "source": []
  }
 ],
 "metadata": {
  "kernelspec": {
   "display_name": ".venv",
   "language": "python",
   "name": "python3"
  },
  "language_info": {
   "codemirror_mode": {
    "name": "ipython",
    "version": 3
   },
   "file_extension": ".py",
   "mimetype": "text/x-python",
   "name": "python",
   "nbconvert_exporter": "python",
   "pygments_lexer": "ipython3",
   "version": "3.11.5"
  }
 },
 "nbformat": 4,
 "nbformat_minor": 2
}
