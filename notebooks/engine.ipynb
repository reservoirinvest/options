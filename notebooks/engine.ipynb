{
 "cells": [
  {
   "cell_type": "code",
   "execution_count": null,
   "metadata": {},
   "outputs": [],
   "source": [
    "## THIS CELL SHOULD BE IN ALL VSCODE NOTEBOOKS ##\n",
    "\n",
    "from ib_insync import util\n",
    "util.startLoop()\n",
    "\n",
    "# Set the root\n",
    "from from_root import from_root\n",
    "ROOT = from_root()\n",
    "\n",
    "# set vscode path\n",
    "import sys\n",
    "sys.path.append(str(ROOT / 'src'))\n",
    "\n",
    "# To import use \n",
    "# from src.<filename> import <function>"
   ]
  },
  {
   "cell_type": "code",
   "execution_count": null,
   "metadata": {},
   "outputs": [],
   "source": [
    "import asyncio\n",
    "from ib_insync import IB\n",
    "from src.utils import (get_pickle, make_naked_puts,\n",
    "                       Vars)\n",
    "# from tqdm.asyncio import tqdm\n",
    "import pandas as pd\n",
    "import numpy as np\n",
    "\n",
    "_vars = Vars('NSE')"
   ]
  },
  {
   "cell_type": "code",
   "execution_count": null,
   "metadata": {},
   "outputs": [],
   "source": [
    "# fiddling with logger\n",
    "from loguru import logger\n",
    "import logging\n",
    "\n",
    "class LoguruHandler(logging.Handler):\n",
    "    def emit(self, record):\n",
    "        loguru_logger = logger.bind(source='ib_insync')\n",
    "        loguru_logger.opt(record.levelno).log(record.levelno, record.getMessage())\n",
    "\n",
    "ib_insync_logger = logging.getLogger('ib_insync.wrapper')\n",
    "ib_insync_logger.addHandler(LoguruHandler())\n",
    "\n"
   ]
  },
  {
   "cell_type": "code",
   "execution_count": null,
   "metadata": {},
   "outputs": [],
   "source": [
    "unds_path = ROOT / 'data' / 'nse' / 'unds.pkl'\n",
    "unds = get_pickle(unds_path)"
   ]
  },
  {
   "cell_type": "code",
   "execution_count": null,
   "metadata": {},
   "outputs": [],
   "source": [
    "contracts = unds.values()\n",
    "contract = list(contracts)[5]\n",
    "contracts = list(contracts)\n",
    "\n",
    "chains_path = ROOT / 'data' / 'nse' / 'df_chains.pkl'\n",
    "df_chains = get_pickle(chains_path)"
   ]
  },
  {
   "cell_type": "code",
   "execution_count": null,
   "metadata": {},
   "outputs": [],
   "source": [
    "from src.utils import make_naked_puts, qualify_me"
   ]
  },
  {
   "cell_type": "code",
   "execution_count": null,
   "metadata": {},
   "outputs": [],
   "source": [
    "with await IB().connectAsync(port=_vars.PORT) as ib:\n",
    "    df = asyncio.run(make_naked_puts(ib, df_chains, MARKET='nse', how_many=-2))\n",
    "    # options = asyncio.run(qualify_me(ib, df))\n"
   ]
  },
  {
   "cell_type": "code",
   "execution_count": null,
   "metadata": {},
   "outputs": [],
   "source": [
    "nakeds_path = ROOT / 'data' / 'nse' / 'df_nakeds.pkl'\n",
    "df_nakeds = get_pickle(nakeds_path)"
   ]
  },
  {
   "cell_type": "code",
   "execution_count": null,
   "metadata": {},
   "outputs": [],
   "source": [
    "df_nakeds"
   ]
  },
  {
   "cell_type": "code",
   "execution_count": null,
   "metadata": {},
   "outputs": [],
   "source": [
    "from loguru import logger\n",
    "import logging"
   ]
  },
  {
   "cell_type": "code",
   "execution_count": null,
   "metadata": {},
   "outputs": [],
   "source": [
    "logging.getLogger('ib_insync.wrapper')"
   ]
  },
  {
   "cell_type": "code",
   "execution_count": null,
   "metadata": {},
   "outputs": [],
   "source": []
  }
 ],
 "metadata": {
  "kernelspec": {
   "display_name": ".venv",
   "language": "python",
   "name": "python3"
  },
  "language_info": {
   "codemirror_mode": {
    "name": "ipython",
    "version": 3
   },
   "file_extension": ".py",
   "mimetype": "text/x-python",
   "name": "python",
   "nbconvert_exporter": "python",
   "pygments_lexer": "ipython3",
   "version": "3.11.5"
  }
 },
 "nbformat": 4,
 "nbformat_minor": 2
}
