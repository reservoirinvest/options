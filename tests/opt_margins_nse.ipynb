{
 "cells": [
  {
   "cell_type": "markdown",
   "metadata": {},
   "source": [
    "# Margins for NSE\n",
    "-[ ] Build / Extract the chains    \n",
    "-[ ] Get undPrices   \n",
    "-[ ] Integrate undPrices to the chains   \n",
    "\n",
    "-[ ] Get the lots   \n",
    "-[ ] Get margins for with qty as the lot   \n",
    "-[ ] Make logic for margins from NSE rules   \n",
    "-[ ] For margins with NaN, replace margins with the one derived from logic   \n",
    "-[ ] Integrate margins to chains"
   ]
  },
  {
   "cell_type": "code",
   "execution_count": 3,
   "metadata": {},
   "outputs": [],
   "source": [
    "## THIS CELL SHOULD BE IN ALL VSCODE NOTEBOOKS ##\n",
    "\n",
    "MARKET = 'NSE'\n",
    "\n",
    "import pandas as pd\n",
    "pd.options.display.max_columns=None\n",
    "\n",
    "# Add `src` to _src.pth in .venv to allow imports in VS Code\n",
    "from sysconfig import get_path\n",
    "from pathlib import Path\n",
    "if 'src' not in Path.cwd().parts:\n",
    "    src_path = str(Path(get_path('purelib')) / '_src.pth')\n",
    "    with open(src_path, 'w') as f:\n",
    "        f.write(str(Path.cwd() / 'src\\n'))\n",
    "\n",
    "# Start the Jupyter loop\n",
    "from ib_insync import util, IB\n",
    "util.startLoop()"
   ]
  },
  {
   "cell_type": "code",
   "execution_count": 4,
   "metadata": {},
   "outputs": [],
   "source": [
    "# Set the root\n",
    "from from_root import from_root\n",
    "ROOT = from_root()\n",
    "\n",
    "from utils import Vars\n",
    "_vars = Vars(MARKET)\n",
    "PORT = _vars.PORT\n",
    "PAPER = _vars.PAPER \n",
    "OPT_COLS = _vars.OPT_COLS[0]\n",
    "DATAPATH = ROOT / 'data' / MARKET.lower()\n",
    "\n",
    "# Suppress Errors\n",
    "util.logToFile(DATAPATH.parent.parent / 'log' / 'ztest.log')"
   ]
  },
  {
   "cell_type": "markdown",
   "metadata": {},
   "source": [
    "# Bringing it all together"
   ]
  },
  {
   "cell_type": "code",
   "execution_count": 5,
   "metadata": {},
   "outputs": [
    {
     "name": "stderr",
     "output_type": "stream",
     "text": [
      "Qualifying Unds: 100%|██████████| 185/185 [00:05<00:00, 33.58it/s]\n",
      "Getting chains: 100%|██████████| 8/8 [01:44<00:00, 13.01s/it]\n",
      "Getting market prices with IVs: 100%|██████████| 5/5 [00:35<00:00,  7.07s/it]\n",
      "Getting margins:100%|█████████████████████████| 573/573 [00:29<00:00, 19.59it/s]\n",
      "Getting margins:100%|█████████████████████████| 138/138 [00:06<00:00, 22.39it/s]\n"
     ]
    }
   ],
   "source": [
    "from utils import make_chains_with_margins, get_strike_closest_to_und\n",
    "df_chains = make_chains_with_margins(MARKET=MARKET)\n",
    "df = get_strike_closest_to_und(df_chains)"
   ]
  },
  {
   "cell_type": "code",
   "execution_count": 9,
   "metadata": {},
   "outputs": [
    {
     "data": {
      "text/plain": [
       "array(['ABFRL', 'NATIONALU', 'PEL', 'RBLBANK', 'SAIL', 'TATACHEM', 'ZEEL',\n",
       "       'HINDCOPPE', 'MANAPPURA'], dtype=object)"
      ]
     },
     "execution_count": 9,
     "metadata": {},
     "output_type": "execute_result"
    }
   ],
   "source": [
    "df_chains[df_chains.margin.isnull()].symbol.unique()"
   ]
  },
  {
   "cell_type": "markdown",
   "metadata": {},
   "source": [
    "## Get underlying contracts and prices"
   ]
  },
  {
   "cell_type": "code",
   "execution_count": null,
   "metadata": {},
   "outputs": [],
   "source": [
    "from utils import fnolist, nse2ib, make_unqualified_nse_underlyings, qualify_me, make_dict_of_qualified_contracts, get_nse_native_fno_list, get_nse_payload\n",
    "import yaml\n",
    "import re"
   ]
  },
  {
   "cell_type": "raw",
   "metadata": {},
   "source": [
    "\"\"\"Makes lots for NSE on cleansed IB symbols without BLACKLIST\"\"\"\n",
    "\n",
    "MARKET = 'NSE'\n",
    "DATAPATH = ROOT / 'data' / MARKET.lower()\n",
    "\n",
    "nselist = get_nse_native_fno_list()\n",
    "\n",
    "path_to_yaml_file = ROOT / 'data' / 'master' / 'nse2ibkr.yml'\n",
    "\n",
    "# get substitutions from YAML file\n",
    "with open(path_to_yaml_file, 'r') as f:\n",
    "    subs = yaml.load(f, Loader=yaml.FullLoader)\n",
    "\n",
    "list_without_percent_sign = list(map(subs.get, nselist, nselist))\n",
    "\n",
    "# fix length to 9 characters\n",
    "nse_symbols = [s[:9] for s in list_without_percent_sign]\n",
    "\n",
    "# make a dictionary to map nse symbols to ib friendly symbols\n",
    "nse2ibsymdict = dict(zip(nselist, nse_symbols))"
   ]
  },
  {
   "cell_type": "raw",
   "metadata": {},
   "source": [
    "def get_lots_from_nse() -> dict:\n",
    "    \"\"\"\n",
    "    Gets lots from nse site without any symbol cleansing\n",
    "    \"\"\"\n",
    "\n",
    "    MKT_LOTS_URL = 'https://archives.nseindia.com/content/fo/fo_mktlots.csv'\n",
    "\n",
    "    response = get_nse_payload(MKT_LOTS_URL).text\n",
    "\n",
    "    res_dict = {} # unclean symbol results dictionary\n",
    "\n",
    "    for line in response.split('\\n'):\n",
    "        if line != '' and re.search(',', line) and (line.casefold().find('symbol') == -1):\n",
    "            (code, name) = [x.strip() for x in line.split(',')[1:3]]\n",
    "            res_dict[code] = int(name)\n",
    "    \n",
    "    return res_dict"
   ]
  },
  {
   "cell_type": "code",
   "execution_count": null,
   "metadata": {},
   "outputs": [],
   "source": [
    "res_dict = get_lots_from_nse()"
   ]
  },
  {
   "cell_type": "code",
   "execution_count": null,
   "metadata": {},
   "outputs": [],
   "source": [
    "# # correct the nse symbols\n",
    "# result = {nse2ibsymdict[k]: v for k, v in res_dict.items()}\n",
    "\n",
    "# remove BLACKLIST\n",
    "BLACKLIST = Vars(MARKET).BLACKLIST\n",
    "\n",
    "clean_lots = {k: v for k, v \n",
    "                in res_dict.items() \n",
    "                if k not in BLACKLIST} "
   ]
  },
  {
   "cell_type": "code",
   "execution_count": null,
   "metadata": {},
   "outputs": [],
   "source": [
    "clean_lots"
   ]
  },
  {
   "cell_type": "code",
   "execution_count": null,
   "metadata": {},
   "outputs": [],
   "source": [
    "# get FNO list\n",
    "fnos = fnolist()\n"
   ]
  },
  {
   "cell_type": "code",
   "execution_count": null,
   "metadata": {},
   "outputs": [],
   "source": [
    "\n",
    "# remove blacklisted symbols - like NIFTYIT that doesn't have options\n",
    "nselist = [n for n in fnos if n not in Vars('NSE').BLACKLIST]\n",
    "\n",
    "# clean to get IB FNOs\n",
    "# nse2ib_yml_path = ROOT / 'data' / 'master' / 'nse2ibkr.yml'\n",
    "ib_fnos = nse2ib(nselist)\n",
    "\n",
    "# make raw underlying fnos\n",
    "raw_nse_contracts = make_unqualified_nse_underlyings(ib_fnos)\n",
    "\n",
    "with await IB().connectAsync(port=PORT) as ib:\n",
    "\n",
    "    # qualify underlyings\n",
    "    qualified_unds = await qualify_me(ib, raw_nse_contracts, desc='Qualifying Unds')\n",
    "\n",
    "unds_dict = make_dict_of_qualified_contracts(qualified_unds)"
   ]
  },
  {
   "cell_type": "code",
   "execution_count": null,
   "metadata": {},
   "outputs": [],
   "source": []
  },
  {
   "cell_type": "code",
   "execution_count": null,
   "metadata": {},
   "outputs": [],
   "source": [
    "# imports\n",
    "import asyncio\n",
    "from utils import get_pickle, get_mkt_prices, pickle_me, get_file_age"
   ]
  },
  {
   "cell_type": "code",
   "execution_count": null,
   "metadata": {},
   "outputs": [],
   "source": [
    "# Get unds\n",
    "unds = get_pickle(DATAPATH / 'unds.pkl')\n",
    "df_unds = pd.DataFrame.from_dict(unds.items())\n",
    "df_unds.columns = ['symbol', 'contract']\n",
    "\n",
    "# Get und prices\n",
    "# ... check file age.\n",
    "UND_PRICE_PATH = DATAPATH / 'df_und_prices.pkl'\n",
    "und_price_file_age = get_file_age(UND_PRICE_PATH)\n",
    "if not und_price_file_age:\n",
    "    age_in_mins = 30\n",
    "else:\n",
    "    age_in_mins = und_price_file_age.td.total_seconds()/60\n",
    "\n",
    "if age_in_mins >= 30:\n",
    "    df_und_prices = asyncio.run(get_mkt_prices(port=PORT, contracts=df_unds.contract))\n",
    "    pickle_me(df_und_prices, UND_PRICE_PATH)\n",
    "else:\n",
    "    df_und_prices = get_pickle(UND_PRICE_PATH)"
   ]
  },
  {
   "cell_type": "markdown",
   "metadata": {},
   "source": [
    "## Build / Extract the chains"
   ]
  },
  {
   "cell_type": "code",
   "execution_count": null,
   "metadata": {},
   "outputs": [],
   "source": [
    "# imports\n",
    "import asyncio\n",
    "from utils import make_chains, pickle_me\n",
    "\n",
    "# inputs\n",
    "contracts = df_unds.contract"
   ]
  },
  {
   "cell_type": "code",
   "execution_count": null,
   "metadata": {},
   "outputs": [],
   "source": [
    "# Get chains\n",
    "CHAIN_PATH = DATAPATH / 'df_chains.pkl'\n",
    "chains_file_age = get_file_age(CHAIN_PATH)\n",
    "\n",
    "if not chains_file_age:\n",
    "    age_in_days = 1\n",
    "else:\n",
    "    age_in_days = chains_file_age.td.total_seconds()/60/60/12\n",
    "    \n",
    "if age_in_days >= 1:\n",
    "    df_chains = asyncio.run(make_chains(port=PORT, contracts=contracts, MARKET=MARKET))\n",
    "    pickle_me(df_chains, CHAIN_PATH)\n",
    "else:\n",
    "    df_chains = get_pickle(CHAIN_PATH)"
   ]
  },
  {
   "cell_type": "code",
   "execution_count": null,
   "metadata": {},
   "outputs": [],
   "source": [
    "df_chains"
   ]
  },
  {
   "cell_type": "markdown",
   "metadata": {},
   "source": [
    "## Integrate undPrices and undIV to the chains"
   ]
  },
  {
   "cell_type": "code",
   "execution_count": null,
   "metadata": {},
   "outputs": [],
   "source": [
    "und_price_dict = df_und_prices.set_index('symbol').price.dropna().to_dict()\n",
    "und_iv_dict = df_und_prices.set_index('symbol').iv.dropna().to_dict()\n",
    "\n",
    "# Replace undPrice and ivs where available\n",
    "df_chains.undPrice = df_chains.symbol.map(und_price_dict).fillna(df_chains.undPrice)\n",
    "df_chains.iv = df_chains.symbol.map(und_iv_dict).fillna(df_chains.iv)"
   ]
  },
  {
   "cell_type": "markdown",
   "metadata": {},
   "source": [
    "## Re-calculate `sigma` and `strike_sdev`"
   ]
  },
  {
   "cell_type": "code",
   "execution_count": null,
   "metadata": {},
   "outputs": [],
   "source": [
    "from utils import compute_strike_sd_right\n",
    "\n",
    "df_chains = compute_strike_sd_right(df_chains)"
   ]
  },
  {
   "cell_type": "markdown",
   "metadata": {},
   "source": [
    "## Get chains with closest strike price to underlying"
   ]
  },
  {
   "cell_type": "code",
   "execution_count": null,
   "metadata": {},
   "outputs": [],
   "source": [
    "# imports\n",
    "from utils import get_closest_values"
   ]
  },
  {
   "cell_type": "code",
   "execution_count": null,
   "metadata": {},
   "outputs": [],
   "source": [
    "def get_strike_closest_to_und(df_chains: pd.DataFrame, \n",
    "                              how_many: int= -1) -> pd.DataFrame:\n",
    "    \n",
    "    \"\"\"\n",
    "    Gets option contracts closest to strike for every expiry\\n\n",
    "    For SNP only the lowest dte is taken\\n\n",
    "    Useful to get reference margins.\n",
    "    int: -1 for closest Put\n",
    "    \"\"\"\n",
    "\n",
    "    if set(df_chains.exchange.to_numpy()).pop() == 'SNP':\n",
    "        df_chains = df_chains.loc[df_chains.groupby(['symbol', 'right', 'strike']).dte.idxmin()]\\\n",
    "                            .reset_index(drop=True)\n",
    "\n",
    "    strk_near_und = df_chains.groupby(['symbol', 'dte'])[['strike', 'undPrice']]\\\n",
    "        .apply(lambda x: get_closest_values(x.strike, \n",
    "                                            x.undPrice.min(), \n",
    "                                            how_many))\n",
    "    strk_near_und.name = 'strk_near_und'\n",
    "\n",
    "    df_ch1 = df_chains.set_index(['symbol', 'dte']).join(strk_near_und)\n",
    "    df_ch = df_ch1[df_ch1.apply(lambda x: x.strike in x.strk_near_und, axis=1)] \\\n",
    "                            .reset_index()\n",
    "    \n",
    "    return df_ch"
   ]
  },
  {
   "cell_type": "code",
   "execution_count": null,
   "metadata": {},
   "outputs": [],
   "source": [
    "df_ch = get_strike_closest_to_und(df_chains)"
   ]
  },
  {
   "cell_type": "markdown",
   "metadata": {},
   "source": [
    "## Get the lots"
   ]
  },
  {
   "cell_type": "code",
   "execution_count": null,
   "metadata": {},
   "outputs": [],
   "source": [
    "from utils import get_lots\n",
    "\n",
    "lots_dict = dict()\n",
    "\n",
    "for k, v in unds.items():\n",
    "    if v.exchange.upper() == 'NSE':\n",
    "        lots_dict[k] = get_lots(v)\n",
    "    else:\n",
    "        lots_dict[k] = 1\n",
    "        \n",
    "# integrate with df_ch\n",
    "df_ch['lot'] = df_ch.symbol.map(lots_dict)"
   ]
  },
  {
   "cell_type": "markdown",
   "metadata": {},
   "source": [
    "## Get margins for with qty as the lot"
   ]
  },
  {
   "cell_type": "code",
   "execution_count": null,
   "metadata": {},
   "outputs": [],
   "source": [
    "# imports\n",
    "import asyncio\n",
    "\n",
    "from ib_insync import MarketOrder\n",
    "\n",
    "from utils import get_margins, make_a_raw_contract\n",
    "\n",
    "opt_contracts = [make_a_raw_contract(symbol=symbol, MARKET=MARKET, secType='OPT', strike=strike, right=right, expiry=expiry)\n",
    " for symbol, strike, right, expiry in zip(df_ch.symbol, df_ch.strike, df_ch.right, df_ch.expiry)]\n",
    "\n",
    "orders = [MarketOrder(action='SELL', totalQuantity=qty) for qty in df_ch.lot]"
   ]
  },
  {
   "cell_type": "code",
   "execution_count": null,
   "metadata": {},
   "outputs": [],
   "source": [
    "df_margins = asyncio.run(get_margins(port=PORT, contracts=opt_contracts, orders=orders))"
   ]
  },
  {
   "cell_type": "markdown",
   "metadata": {},
   "source": [
    "## Integrate with maximum margin, wherever possible"
   ]
  },
  {
   "cell_type": "code",
   "execution_count": null,
   "metadata": {},
   "outputs": [],
   "source": [
    "import numpy as np"
   ]
  },
  {
   "cell_type": "code",
   "execution_count": null,
   "metadata": {},
   "outputs": [],
   "source": [
    "# Integration of margins and commissions\n",
    "\n",
    "cols = ['symbol', 'expiry', 'strike', 'right']\n",
    "mgn_cols = cols + ['margin', 'comm']\n",
    "df_chm = pd.merge(df_ch, df_margins[mgn_cols], on=cols, suffixes=[False, '_y']).\\\n",
    "           drop(columns=['strk_near_und'], errors='ignore')\n",
    "\n",
    "chain_cols = ['symbol', 'expiry']\n",
    "ch_cols = chain_cols + ['lot', 'margin', 'comm']\n",
    "\n",
    "df_out = pd.merge(df_chains, df_chm[ch_cols], on=chain_cols, suffixes=[False, '_y'])\n",
    "\n",
    "# fill missing commissions with max per symbol\n",
    "commissions = df_chm.groupby('symbol').comm.max().to_dict()\n",
    "df_out.comm = df_out.comm.fillna(df_out.symbol.map(commissions))\n",
    "\n",
    "# fill remaining commissions\n",
    "df_out.comm = df_out.comm.fillna(max(commissions.values()))\n",
    "\n",
    "# fill margins\n",
    "mgn_dict = df_out.groupby('symbol').margin.max().to_dict()\n",
    "cond = df_out.margin.isnull()\n",
    "df_out.loc[cond, 'margin'] = df_out[cond].symbol.map(mgn_dict)\n",
    "\n",
    "# make zero margin as nan\n",
    "zero_margin_condition = df_out.margin == 0\n",
    "df_out.loc[zero_margin_condition, 'margin'] = np.nan"
   ]
  },
  {
   "cell_type": "raw",
   "metadata": {},
   "source": [
    "# Integration of margins\n",
    "\n",
    "cols = ['symbol', 'expiry', 'strike', 'right']\n",
    "mgn_cols = cols + ['margin', 'comm']\n",
    "df_ch = pd.merge(df_ch, df_margins[mgn_cols], on=cols, suffixes=[False, '_y']).\\\n",
    "           drop(columns=['strk_near_und'], errors='ignore')\n",
    "\n",
    "# fill missing margins and commissions\n",
    "df_ch.comm = df_ch.comm.max() # !!! For NSE only.\n",
    "\n",
    "mgn_dict = df_ch.groupby('symbol').margin.max().to_dict()\n",
    "cond = df_ch.margin.isnull()\n",
    "df_ch.loc[cond, 'margin'] = df_ch[cond].symbol.map(mgn_dict)\n",
    "\n",
    "# make zero margin as nan\n",
    "zero_margin_condition = df_ch.margin == 0\n",
    "df_ch.loc[zero_margin_condition, 'margin'] = np.nan\n",
    "\n",
    "# finally integrate market margins\n",
    "chain_cols = ['symbol', 'expiry']\n",
    "ch_cols = chain_cols + ['lot', 'margin', 'comm']\n",
    "\n",
    "df_out = pd.merge(df_chains, df_ch[ch_cols], on=chain_cols, suffixes=[False, '_y'])"
   ]
  },
  {
   "cell_type": "markdown",
   "metadata": {},
   "source": [
    "## Make logic for margins from NSE rules"
   ]
  },
  {
   "cell_type": "code",
   "execution_count": null,
   "metadata": {},
   "outputs": [],
   "source": [
    "# list of options without margins\n",
    "df1 = df_chm[df_chm.margin.isnull()]\n",
    "df1.head()\n"
   ]
  },
  {
   "cell_type": "code",
   "execution_count": null,
   "metadata": {},
   "outputs": [],
   "source": [
    "# Get missing margin percentages from zerodha margin calculator\n",
    "\n",
    "from io import StringIO\n",
    "from requests import Session\n",
    "import re\n",
    "\n",
    "from utils import get_nse_native_fno_list\n",
    "from icecream import ic"
   ]
  },
  {
   "cell_type": "code",
   "execution_count": null,
   "metadata": {},
   "outputs": [],
   "source": [
    "\n",
    "\n",
    "# get nse native list\n",
    "nselist = get_nse_native_fno_list()"
   ]
  },
  {
   "cell_type": "code",
   "execution_count": null,
   "metadata": {},
   "outputs": [],
   "source": [
    "# !!! NO NEED FOR THIS ALREADY THERE IN `localSymbol` field!!!\n",
    "# create nse symbols for missing margin list\n",
    "\n",
    "ib2nse = dict()\n",
    "\n",
    "for ibs in df1.symbol.unique():\n",
    "    for s in nselist:        \n",
    "        if ibs in s:\n",
    "            nsesym = nselist[nselist.index(s)]\n",
    "            ib2nse[ibs] = s\n",
    "            \n",
    "df2 = df1.assign(nse_symbol=df1.symbol.map(ib2nse))"
   ]
  },
  {
   "cell_type": "code",
   "execution_count": null,
   "metadata": {},
   "outputs": [],
   "source": [
    "df2.assign(nse_expiry =df2.nse_symbol + pd.to_datetime(df2.expiry, yearfirst=True).dt.strftime('%d%b').str.upper())"
   ]
  },
  {
   "cell_type": "code",
   "execution_count": null,
   "metadata": {},
   "outputs": [],
   "source": [
    "def zerodah_margin(scrip: str,\n",
    "                   strike_price: int, \n",
    "                   qty: int, \n",
    "                   option_type: str = 'PE', \n",
    "                   trade: str='sell') -> dict:\n",
    "    \n",
    "    \"\"\"Gets zerodah margins for NSE\n",
    "    scrip: symbol should be as per NSE eg. `ZEEL24MAR`\n",
    "    \"\"\"\n",
    "\n",
    "    BASE_URL = 'https://zerodha.com/margin-calculator/SPAN'\n",
    "\n",
    "    payload = {'action': 'calculate',\n",
    "                'exchange[]': 'NFO',\n",
    "                'product[]': 'FUT',\n",
    "                'scrip[]': scrip,   # in `ZEEL24MAR` format\n",
    "                'option_type[]': 'PE',\n",
    "                'strike_price[]':280, \n",
    "                'qty[]': 2925,\n",
    "                'trade[]': 'sell'   # 'buy' or 'sell'\n",
    "    }\n",
    "\n",
    "    session = Session()\n",
    "\n",
    "    res = session.post(BASE_URL, data=payload)\n",
    "\n",
    "    data = res.json()\n",
    "\n",
    "    return data"
   ]
  },
  {
   "cell_type": "markdown",
   "metadata": {},
   "source": [
    "## Replace `nan` margins with the one derived from logic"
   ]
  }
 ],
 "metadata": {
  "kernelspec": {
   "display_name": ".venv",
   "language": "python",
   "name": "python3"
  },
  "language_info": {
   "codemirror_mode": {
    "name": "ipython",
    "version": 3
   },
   "file_extension": ".py",
   "mimetype": "text/x-python",
   "name": "python",
   "nbconvert_exporter": "python",
   "pygments_lexer": "ipython3",
   "version": "3.11.5"
  }
 },
 "nbformat": 4,
 "nbformat_minor": 2
}
