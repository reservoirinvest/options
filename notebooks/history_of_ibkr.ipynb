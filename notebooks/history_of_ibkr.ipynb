{
 "cells": [
  {
   "cell_type": "markdown",
   "metadata": {},
   "source": [
    "# Generate position, trades and dividends `dfs` from ibkr history\n",
    "- Go to `Performance & Reports` -> `Custom Statements` -> `history`. \n",
    "- Choose appropriate custom date range. Max is 365 days\n",
    "- Remove account number from the CSV file\n",
    "- recast the file name to `<MARKET>_<DATE_FROM>_<DATE_TO>.csv`. e.g. `SNP_20230102_20231229.csv`\n",
    "- move the files to `<root>\\data\\raw` folder\n",
    "- run this notebook by selecting the right `MARKET`\n",
    "\n",
    "## Note\n",
    "`history` is a standard activity report with the following selected:\n",
    " - Open Positions\n",
    " - Option Exercises/Assignments\n",
    " - Trades\n",
    " - Dividends"
   ]
  },
  {
   "cell_type": "code",
   "execution_count": 1,
   "metadata": {},
   "outputs": [],
   "source": [
    "## THIS CELL SHOULD BE IN ALL VSCODE NOTEBOOKS ##\n",
    "\n",
    "MARKET = 'NSE'\n",
    "\n",
    "# Add `src` to _src.pth in .venv to allow imports in VS Code\n",
    "from sysconfig import get_path\n",
    "from pathlib import Path\n",
    "if 'src' not in Path.cwd().parts:\n",
    "    src_path = str(Path(get_path('purelib')) / '_src.pth')\n",
    "    with open(src_path, 'w') as f:\n",
    "        f.write(str(Path.cwd() / 'src\\n'))\n",
    "\n",
    "# Start the Jupyter loop\n",
    "from ib_insync import util, LimitOrder, IB\n",
    "util.startLoop()"
   ]
  },
  {
   "cell_type": "code",
   "execution_count": 2,
   "metadata": {},
   "outputs": [],
   "source": [
    "# Set the root\n",
    "from from_root import from_root\n",
    "ROOT = from_root()\n",
    "\n",
    "# Imports \n",
    "from utils import Vars\n",
    "\n",
    "_vars = Vars(MARKET)\n",
    "PORT = port = _vars.PORT\n",
    "OPT_COLS = _vars.OPT_COLS[0]"
   ]
  },
  {
   "cell_type": "code",
   "execution_count": 3,
   "metadata": {},
   "outputs": [],
   "source": [
    "import numpy as np\n",
    "import pandas as pd\n",
    "from loguru import logger\n",
    "\n",
    "from utils import trade_extracts\n",
    "\n",
    "pd.options.display.max_columns =None\n",
    "\n",
    "ib_reports = trade_extracts(MARKET)"
   ]
  },
  {
   "cell_type": "markdown",
   "metadata": {},
   "source": [
    "# Analysis\n",
    "### So, how much money have you made trading in IBKR so far?\n",
    " - Check df_trades\n",
    " - Remove secType == 'OPT' and code having \"A\" for Assignments"
   ]
  },
  {
   "cell_type": "code",
   "execution_count": 22,
   "metadata": {},
   "outputs": [
    {
     "data": {
      "text/plain": [
       "'Made INR 3,442,536.96 in NSE from 19-Jul-2017 to 15-Feb-2024'"
      ]
     },
     "execution_count": 22,
     "metadata": {},
     "output_type": "execute_result"
    }
   ],
   "source": [
    "df = ib_reports['trades']\n",
    "cond = (df.secType == 'OPT') & df.code.str.contains('A')\n",
    "\n",
    "net_amt = df[~cond].pnl.sum()\n",
    "\n",
    "f\"Made {'INR' if MARKET == 'NSE' else 'US$'} {net_amt:,.2f} in {MARKET} from {df.time.min().date():%d-%b-%Y} to {df.time.max().date():%d-%b-%Y}\""
   ]
  }
 ],
 "metadata": {
  "kernelspec": {
   "display_name": ".venv",
   "language": "python",
   "name": "python3"
  },
  "language_info": {
   "codemirror_mode": {
    "name": "ipython",
    "version": 3
   },
   "file_extension": ".py",
   "mimetype": "text/x-python",
   "name": "python",
   "nbconvert_exporter": "python",
   "pygments_lexer": "ipython3",
   "version": "3.11.5"
  }
 },
 "nbformat": 4,
 "nbformat_minor": 2
}
