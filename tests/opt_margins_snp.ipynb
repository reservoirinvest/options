{
 "cells": [
  {
   "cell_type": "markdown",
   "metadata": {},
   "source": [
    "# Margins for SNP\n",
    "-[ ] Build / Extract the chains    \n",
    "-[ ] Get undPrices   \n",
    "-[ ] Integrate undPrices to the chains   \n",
    "\n",
    "-[ ] Get the lots   \n",
    "-[ ] Get margins for with qty as the lot   \n",
    "-[ ] Make logic for margins from SNP rules   \n",
    "-[ ] For margins with NaN, replace margins with the one derived from logic   \n",
    "-[ ] Integrate margins to chains"
   ]
  },
  {
   "cell_type": "code",
   "execution_count": 1,
   "metadata": {},
   "outputs": [],
   "source": [
    "## THIS CELL SHOULD BE IN ALL VSCODE NOTEBOOKS ##\n",
    "\n",
    "MARKET = 'SNP'\n",
    "\n",
    "import pandas as pd\n",
    "pd.options.display.max_columns=None\n",
    "\n",
    "# Add `src` to _src.pth in .venv to allow imports in VS Code\n",
    "from sysconfig import get_path\n",
    "from pathlib import Path\n",
    "if 'src' not in Path.cwd().parts:\n",
    "    src_path = str(Path(get_path('purelib')) / '_src.pth')\n",
    "    with open(src_path, 'w') as f:\n",
    "        f.write(str(Path.cwd() / 'src\\n'))\n",
    "\n",
    "# Start the Jupyter loop\n",
    "from ib_insync import util, IB\n",
    "util.startLoop()"
   ]
  },
  {
   "cell_type": "code",
   "execution_count": 2,
   "metadata": {},
   "outputs": [],
   "source": [
    "# Set the root\n",
    "from from_root import from_root\n",
    "ROOT = from_root()\n",
    "\n",
    "from utils import Vars\n",
    "_vars = Vars(MARKET)\n",
    "PORT = _vars.PORT\n",
    "PAPER = _vars.PAPER \n",
    "OPT_COLS = _vars.OPT_COLS[0]\n",
    "DATAPATH = ROOT / 'data' / MARKET.lower()\n",
    "\n",
    "# Suppress Errors\n",
    "util.logToFile(DATAPATH.parent.parent / 'log' / 'ztest.log')"
   ]
  },
  {
   "cell_type": "markdown",
   "metadata": {},
   "source": [
    "# Putting it all together"
   ]
  },
  {
   "cell_type": "raw",
   "metadata": {},
   "source": [
    "# imports\n",
    "import asyncio\n",
    "\n",
    "import numpy as np\n",
    "\n",
    "from utils import (compute_snp_df_margins, get_chains,\n",
    "                   get_strike_closest_to_und, get_unds_with_prices,\n",
    "                   join_my_df_with_another, opt_margins_with_lot_check,\n",
    "                   pickle_me)"
   ]
  },
  {
   "cell_type": "raw",
   "metadata": {},
   "source": [
    "def make_chains_with_margins(MARKET: str) -> pd.DataFrame:\n",
    "    \"\"\"\n",
    "    Makes chains with margins for all options\n",
    "    \"\"\"\n",
    "\n",
    "    DATAPATH = ROOT / 'data' / MARKET.lower()\n",
    "    CHAIN_PATH = DATAPATH / 'df_chains.pkl'\n",
    "    \n",
    "    df_chains = get_chains(MARKET=MARKET)\n",
    "\n",
    "    # Get chains with strikes closest to underlying\n",
    "    df_ch1 = get_strike_closest_to_und(df_chains)\n",
    "\n",
    "    # Get underlying margins of chains\n",
    "    df_chund_margins = opt_margins_with_lot_check(df_ch1)\n",
    "\n",
    "    # update df_ch_unds with latest margin and commission\n",
    "    opt_cols = ['symbol', 'expiry', 'strike', 'right']\n",
    "    margin_comm = ['margin', 'comm']\n",
    "    df_ch2 = join_my_df_with_another(df_ch1, df_chund_margins[opt_cols+margin_comm])\n",
    "\n",
    "    # second run\n",
    "    df_rem = df_ch2[df_ch2.margin.isnull()]\n",
    "\n",
    "    # replace df_ch2 with new margin and comm\n",
    "    if not df_rem.empty:\n",
    "        dfr = opt_margins_with_lot_check(df_rem, multiply_lot=False)\n",
    "        dfr1 = dfr.set_index(opt_cols).dropna(subset=['margin'])\n",
    "        df_ch2.set_index(opt_cols).update(dfr1, overwrite=False)\n",
    "\n",
    "    # Integrate margins and commissions\n",
    "    df_ch_all = join_my_df_with_another(df_chains, \n",
    "                                        df_ch2[opt_cols+margin_comm], \n",
    "                                        idx=opt_cols).reset_index()\n",
    "    \n",
    "    # fill missing commissions with max per symbol\n",
    "    commissions = df_ch2.groupby('symbol').comm.max().to_dict()\n",
    "    df_ch_all.comm = df_ch_all.comm.fillna(df_ch_all.symbol.map(commissions))\n",
    "\n",
    "    # fill remaining commissions\n",
    "    df_ch_all.comm = df_ch_all.comm.fillna(max(commissions.values()))\n",
    "\n",
    "    # fill margins\n",
    "    mgn_dict = df_ch_all.groupby('symbol').margin.max().to_dict()\n",
    "    cond = df_ch_all.margin.isnull()\n",
    "    df_ch_all.loc[cond, 'margin'] = df_ch_all[cond].symbol.map(mgn_dict)\n",
    "\n",
    "    # make zero margin as nan\n",
    "    zero_margin_condition = df_ch_all.margin == 0\n",
    "    df_ch_all.loc[zero_margin_condition, 'margin'] = np.nan\n",
    "\n",
    "    if MARKET == 'SNP':\n",
    "        df = compute_snp_df_margins(df_ch_all)\n",
    "\n",
    "    pickle_me(df, CHAIN_PATH)\n",
    "\n",
    "    return df\n",
    "    "
   ]
  },
  {
   "cell_type": "code",
   "execution_count": 3,
   "metadata": {},
   "outputs": [
    {
     "name": "stderr",
     "output_type": "stream",
     "text": [
      "Getting margins:100%|█████████████████████████| 243/243 [00:13<00:00, 18.44it/s]\n"
     ]
    }
   ],
   "source": [
    "from utils import make_chains_with_margins, get_strike_closest_to_und\n",
    "df_chains = make_chains_with_margins(MARKET=MARKET)\n",
    "df = get_strike_closest_to_und(df_chains)"
   ]
  },
  {
   "cell_type": "code",
   "execution_count": 6,
   "metadata": {},
   "outputs": [
    {
     "data": {
      "text/html": [
       "<div>\n",
       "<style scoped>\n",
       "    .dataframe tbody tr th:only-of-type {\n",
       "        vertical-align: middle;\n",
       "    }\n",
       "\n",
       "    .dataframe tbody tr th {\n",
       "        vertical-align: top;\n",
       "    }\n",
       "\n",
       "    .dataframe thead th {\n",
       "        text-align: right;\n",
       "    }\n",
       "</style>\n",
       "<table border=\"1\" class=\"dataframe\">\n",
       "  <thead>\n",
       "    <tr style=\"text-align: right;\">\n",
       "      <th></th>\n",
       "      <th>symbol</th>\n",
       "      <th>expiry</th>\n",
       "      <th>strike</th>\n",
       "      <th>right</th>\n",
       "      <th>undId</th>\n",
       "      <th>dte</th>\n",
       "      <th>multiplier</th>\n",
       "      <th>localSymbol</th>\n",
       "      <th>undPrice</th>\n",
       "      <th>iv</th>\n",
       "      <th>sigma</th>\n",
       "      <th>strike_sdev</th>\n",
       "      <th>exchange</th>\n",
       "      <th>lot</th>\n",
       "      <th>margin</th>\n",
       "      <th>comm</th>\n",
       "    </tr>\n",
       "  </thead>\n",
       "  <tbody>\n",
       "    <tr>\n",
       "      <th>23421</th>\n",
       "      <td>AAL</td>\n",
       "      <td>20240315</td>\n",
       "      <td>1.0</td>\n",
       "      <td>P</td>\n",
       "      <td>139673266</td>\n",
       "      <td>1.681179</td>\n",
       "      <td>100</td>\n",
       "      <td>AAL</td>\n",
       "      <td>14.03</td>\n",
       "      <td>0.360961</td>\n",
       "      <td>0.343699</td>\n",
       "      <td>-37.911069</td>\n",
       "      <td>SNP</td>\n",
       "      <td>1.0</td>\n",
       "      <td>1083.8555</td>\n",
       "      <td>1.199784</td>\n",
       "    </tr>\n",
       "    <tr>\n",
       "      <th>23422</th>\n",
       "      <td>AAL</td>\n",
       "      <td>20240315</td>\n",
       "      <td>2.0</td>\n",
       "      <td>P</td>\n",
       "      <td>139673266</td>\n",
       "      <td>1.681179</td>\n",
       "      <td>100</td>\n",
       "      <td>AAL</td>\n",
       "      <td>14.03</td>\n",
       "      <td>0.360961</td>\n",
       "      <td>0.343699</td>\n",
       "      <td>-35.001547</td>\n",
       "      <td>SNP</td>\n",
       "      <td>1.0</td>\n",
       "      <td>1083.8555</td>\n",
       "      <td>1.199784</td>\n",
       "    </tr>\n",
       "    <tr>\n",
       "      <th>23423</th>\n",
       "      <td>AAL</td>\n",
       "      <td>20240315</td>\n",
       "      <td>2.5</td>\n",
       "      <td>P</td>\n",
       "      <td>139673266</td>\n",
       "      <td>1.681179</td>\n",
       "      <td>100</td>\n",
       "      <td>AAL</td>\n",
       "      <td>14.03</td>\n",
       "      <td>0.360961</td>\n",
       "      <td>0.343699</td>\n",
       "      <td>-33.546786</td>\n",
       "      <td>SNP</td>\n",
       "      <td>1.0</td>\n",
       "      <td>1083.8555</td>\n",
       "      <td>1.199784</td>\n",
       "    </tr>\n",
       "    <tr>\n",
       "      <th>23424</th>\n",
       "      <td>AAL</td>\n",
       "      <td>20240315</td>\n",
       "      <td>3.0</td>\n",
       "      <td>P</td>\n",
       "      <td>139673266</td>\n",
       "      <td>1.681179</td>\n",
       "      <td>100</td>\n",
       "      <td>AAL</td>\n",
       "      <td>14.03</td>\n",
       "      <td>0.360961</td>\n",
       "      <td>0.343699</td>\n",
       "      <td>-32.092025</td>\n",
       "      <td>SNP</td>\n",
       "      <td>1.0</td>\n",
       "      <td>1083.8555</td>\n",
       "      <td>1.199784</td>\n",
       "    </tr>\n",
       "    <tr>\n",
       "      <th>23425</th>\n",
       "      <td>AAL</td>\n",
       "      <td>20240315</td>\n",
       "      <td>4.0</td>\n",
       "      <td>P</td>\n",
       "      <td>139673266</td>\n",
       "      <td>1.681179</td>\n",
       "      <td>100</td>\n",
       "      <td>AAL</td>\n",
       "      <td>14.03</td>\n",
       "      <td>0.360961</td>\n",
       "      <td>0.343699</td>\n",
       "      <td>-29.182503</td>\n",
       "      <td>SNP</td>\n",
       "      <td>1.0</td>\n",
       "      <td>1083.8555</td>\n",
       "      <td>1.199784</td>\n",
       "    </tr>\n",
       "    <tr>\n",
       "      <th>...</th>\n",
       "      <td>...</td>\n",
       "      <td>...</td>\n",
       "      <td>...</td>\n",
       "      <td>...</td>\n",
       "      <td>...</td>\n",
       "      <td>...</td>\n",
       "      <td>...</td>\n",
       "      <td>...</td>\n",
       "      <td>...</td>\n",
       "      <td>...</td>\n",
       "      <td>...</td>\n",
       "      <td>...</td>\n",
       "      <td>...</td>\n",
       "      <td>...</td>\n",
       "      <td>...</td>\n",
       "      <td>...</td>\n",
       "    </tr>\n",
       "    <tr>\n",
       "      <th>24442</th>\n",
       "      <td>AAL</td>\n",
       "      <td>20261218</td>\n",
       "      <td>30.0</td>\n",
       "      <td>C</td>\n",
       "      <td>139673266</td>\n",
       "      <td>1009.681179</td>\n",
       "      <td>100</td>\n",
       "      <td>AAL</td>\n",
       "      <td>14.03</td>\n",
       "      <td>0.360961</td>\n",
       "      <td>8.422936</td>\n",
       "      <td>1.896014</td>\n",
       "      <td>SNP</td>\n",
       "      <td>1.0</td>\n",
       "      <td>1083.8555</td>\n",
       "      <td>1.199784</td>\n",
       "    </tr>\n",
       "    <tr>\n",
       "      <th>24443</th>\n",
       "      <td>AAL</td>\n",
       "      <td>20261218</td>\n",
       "      <td>32.0</td>\n",
       "      <td>C</td>\n",
       "      <td>139673266</td>\n",
       "      <td>1009.681179</td>\n",
       "      <td>100</td>\n",
       "      <td>AAL</td>\n",
       "      <td>14.03</td>\n",
       "      <td>0.360961</td>\n",
       "      <td>8.422936</td>\n",
       "      <td>2.133460</td>\n",
       "      <td>SNP</td>\n",
       "      <td>1.0</td>\n",
       "      <td>1083.8555</td>\n",
       "      <td>1.199784</td>\n",
       "    </tr>\n",
       "    <tr>\n",
       "      <th>24444</th>\n",
       "      <td>AAL</td>\n",
       "      <td>20261218</td>\n",
       "      <td>35.0</td>\n",
       "      <td>C</td>\n",
       "      <td>139673266</td>\n",
       "      <td>1009.681179</td>\n",
       "      <td>100</td>\n",
       "      <td>AAL</td>\n",
       "      <td>14.03</td>\n",
       "      <td>0.360961</td>\n",
       "      <td>8.422936</td>\n",
       "      <td>2.489631</td>\n",
       "      <td>SNP</td>\n",
       "      <td>1.0</td>\n",
       "      <td>1083.8555</td>\n",
       "      <td>1.199784</td>\n",
       "    </tr>\n",
       "    <tr>\n",
       "      <th>24445</th>\n",
       "      <td>AAL</td>\n",
       "      <td>20261218</td>\n",
       "      <td>37.0</td>\n",
       "      <td>C</td>\n",
       "      <td>139673266</td>\n",
       "      <td>1009.681179</td>\n",
       "      <td>100</td>\n",
       "      <td>AAL</td>\n",
       "      <td>14.03</td>\n",
       "      <td>0.360961</td>\n",
       "      <td>8.422936</td>\n",
       "      <td>2.727078</td>\n",
       "      <td>SNP</td>\n",
       "      <td>1.0</td>\n",
       "      <td>1083.8555</td>\n",
       "      <td>1.199784</td>\n",
       "    </tr>\n",
       "    <tr>\n",
       "      <th>24446</th>\n",
       "      <td>AAL</td>\n",
       "      <td>20261218</td>\n",
       "      <td>40.0</td>\n",
       "      <td>C</td>\n",
       "      <td>139673266</td>\n",
       "      <td>1009.681179</td>\n",
       "      <td>100</td>\n",
       "      <td>AAL</td>\n",
       "      <td>14.03</td>\n",
       "      <td>0.360961</td>\n",
       "      <td>8.422936</td>\n",
       "      <td>3.083248</td>\n",
       "      <td>SNP</td>\n",
       "      <td>1.0</td>\n",
       "      <td>1083.8555</td>\n",
       "      <td>1.199784</td>\n",
       "    </tr>\n",
       "  </tbody>\n",
       "</table>\n",
       "<p>1026 rows × 16 columns</p>\n",
       "</div>"
      ],
      "text/plain": [
       "      symbol    expiry  strike right      undId          dte  multiplier  \\\n",
       "23421    AAL  20240315     1.0     P  139673266     1.681179         100   \n",
       "23422    AAL  20240315     2.0     P  139673266     1.681179         100   \n",
       "23423    AAL  20240315     2.5     P  139673266     1.681179         100   \n",
       "23424    AAL  20240315     3.0     P  139673266     1.681179         100   \n",
       "23425    AAL  20240315     4.0     P  139673266     1.681179         100   \n",
       "...      ...       ...     ...   ...        ...          ...         ...   \n",
       "24442    AAL  20261218    30.0     C  139673266  1009.681179         100   \n",
       "24443    AAL  20261218    32.0     C  139673266  1009.681179         100   \n",
       "24444    AAL  20261218    35.0     C  139673266  1009.681179         100   \n",
       "24445    AAL  20261218    37.0     C  139673266  1009.681179         100   \n",
       "24446    AAL  20261218    40.0     C  139673266  1009.681179         100   \n",
       "\n",
       "      localSymbol  undPrice        iv     sigma  strike_sdev exchange  lot  \\\n",
       "23421         AAL     14.03  0.360961  0.343699   -37.911069      SNP  1.0   \n",
       "23422         AAL     14.03  0.360961  0.343699   -35.001547      SNP  1.0   \n",
       "23423         AAL     14.03  0.360961  0.343699   -33.546786      SNP  1.0   \n",
       "23424         AAL     14.03  0.360961  0.343699   -32.092025      SNP  1.0   \n",
       "23425         AAL     14.03  0.360961  0.343699   -29.182503      SNP  1.0   \n",
       "...           ...       ...       ...       ...          ...      ...  ...   \n",
       "24442         AAL     14.03  0.360961  8.422936     1.896014      SNP  1.0   \n",
       "24443         AAL     14.03  0.360961  8.422936     2.133460      SNP  1.0   \n",
       "24444         AAL     14.03  0.360961  8.422936     2.489631      SNP  1.0   \n",
       "24445         AAL     14.03  0.360961  8.422936     2.727078      SNP  1.0   \n",
       "24446         AAL     14.03  0.360961  8.422936     3.083248      SNP  1.0   \n",
       "\n",
       "          margin      comm  \n",
       "23421  1083.8555  1.199784  \n",
       "23422  1083.8555  1.199784  \n",
       "23423  1083.8555  1.199784  \n",
       "23424  1083.8555  1.199784  \n",
       "23425  1083.8555  1.199784  \n",
       "...          ...       ...  \n",
       "24442  1083.8555  1.199784  \n",
       "24443  1083.8555  1.199784  \n",
       "24444  1083.8555  1.199784  \n",
       "24445  1083.8555  1.199784  \n",
       "24446  1083.8555  1.199784  \n",
       "\n",
       "[1026 rows x 16 columns]"
      ]
     },
     "execution_count": 6,
     "metadata": {},
     "output_type": "execute_result"
    }
   ],
   "source": [
    "symbol = 'AAL'\n",
    "df_chains[df_chains.symbol == symbol]"
   ]
  },
  {
   "cell_type": "code",
   "execution_count": 7,
   "metadata": {},
   "outputs": [
    {
     "data": {
      "text/html": [
       "<div>\n",
       "<style scoped>\n",
       "    .dataframe tbody tr th:only-of-type {\n",
       "        vertical-align: middle;\n",
       "    }\n",
       "\n",
       "    .dataframe tbody tr th {\n",
       "        vertical-align: top;\n",
       "    }\n",
       "\n",
       "    .dataframe thead th {\n",
       "        text-align: right;\n",
       "    }\n",
       "</style>\n",
       "<table border=\"1\" class=\"dataframe\">\n",
       "  <thead>\n",
       "    <tr style=\"text-align: right;\">\n",
       "      <th></th>\n",
       "      <th>symbol</th>\n",
       "      <th>dte</th>\n",
       "      <th>expiry</th>\n",
       "      <th>strike</th>\n",
       "      <th>right</th>\n",
       "      <th>undId</th>\n",
       "      <th>multiplier</th>\n",
       "      <th>localSymbol</th>\n",
       "      <th>undPrice</th>\n",
       "      <th>iv</th>\n",
       "      <th>sigma</th>\n",
       "      <th>strike_sdev</th>\n",
       "      <th>exchange</th>\n",
       "      <th>lot</th>\n",
       "      <th>margin</th>\n",
       "      <th>comm</th>\n",
       "      <th>strk_near_und</th>\n",
       "    </tr>\n",
       "  </thead>\n",
       "  <tbody>\n",
       "    <tr>\n",
       "      <th>0</th>\n",
       "      <td>AAL</td>\n",
       "      <td>1.681179</td>\n",
       "      <td>20240315</td>\n",
       "      <td>14.0</td>\n",
       "      <td>P</td>\n",
       "      <td>139673266</td>\n",
       "      <td>100</td>\n",
       "      <td>AAL</td>\n",
       "      <td>14.03</td>\n",
       "      <td>0.360961</td>\n",
       "      <td>0.343699</td>\n",
       "      <td>-0.087286</td>\n",
       "      <td>SNP</td>\n",
       "      <td>1.0</td>\n",
       "      <td>1083.8555</td>\n",
       "      <td>1.199784</td>\n",
       "      <td>[14.0]</td>\n",
       "    </tr>\n",
       "  </tbody>\n",
       "</table>\n",
       "</div>"
      ],
      "text/plain": [
       "  symbol       dte    expiry  strike right      undId  multiplier localSymbol  \\\n",
       "0    AAL  1.681179  20240315    14.0     P  139673266         100         AAL   \n",
       "\n",
       "   undPrice        iv     sigma  strike_sdev exchange  lot     margin  \\\n",
       "0     14.03  0.360961  0.343699    -0.087286      SNP  1.0  1083.8555   \n",
       "\n",
       "       comm strk_near_und  \n",
       "0  1.199784        [14.0]  "
      ]
     },
     "execution_count": 7,
     "metadata": {},
     "output_type": "execute_result"
    }
   ],
   "source": [
    "df[df.symbol == symbol]"
   ]
  },
  {
   "cell_type": "markdown",
   "metadata": {},
   "source": [
    "## Get underlying contracts and prices"
   ]
  },
  {
   "cell_type": "raw",
   "metadata": {},
   "source": [
    "df_unds = get_unds_with_prices(MARKET)\n",
    "df_unds"
   ]
  },
  {
   "cell_type": "markdown",
   "metadata": {},
   "source": [
    "## Build / Extract the chains\n",
    " - Integrates `undPrices` and `undIV` to chains\n",
    " - Recalculates `sigma` and `strike_sdev`"
   ]
  },
  {
   "cell_type": "code",
   "execution_count": null,
   "metadata": {},
   "outputs": [],
   "source": [
    "# imports\n",
    "import asyncio\n",
    "from utils import get_chains\n"
   ]
  },
  {
   "cell_type": "code",
   "execution_count": null,
   "metadata": {},
   "outputs": [],
   "source": [
    "df_chains = get_chains(MARKET=MARKET)"
   ]
  },
  {
   "cell_type": "code",
   "execution_count": null,
   "metadata": {},
   "outputs": [],
   "source": [
    "df_temp = df_chains # !!! TEMPORARY STORAGE"
   ]
  },
  {
   "cell_type": "code",
   "execution_count": null,
   "metadata": {},
   "outputs": [],
   "source": [
    "df = get_strike_closest_to_und(df_chains)"
   ]
  },
  {
   "cell_type": "markdown",
   "metadata": {},
   "source": [
    "### Correct `get_strike_closest_to_und`"
   ]
  },
  {
   "cell_type": "code",
   "execution_count": null,
   "metadata": {},
   "outputs": [],
   "source": [
    "from utils import get_closest_values\n",
    "how_many = -1"
   ]
  },
  {
   "cell_type": "raw",
   "metadata": {},
   "source": [
    "if set(df_chains.exchange.to_numpy()).pop() == 'SNP':\n",
    "    df_chains = df_chains.loc[df_chains.groupby(['symbol', 'right', 'strike']).dte.idxmin()]\\\n",
    "                        .reset_index(drop=True)\n",
    "\n",
    "strk_near_und = df_chains.groupby(['symbol', 'dte'])[['strike', 'undPrice']]\\\n",
    "    .apply(lambda x: get_closest_values(x.strike, \n",
    "                                        x.undPrice.min(), \n",
    "                                        how_many))\n",
    "strk_near_und.name = 'strk_near_und'\n",
    "\n",
    "df_ch1 = df_chains.set_index(['symbol', 'dte']).join(strk_near_und)\n",
    "df_ch = df_ch1[df_ch1.apply(lambda x: x.strike in x.strk_near_und, axis=1)] \\\n",
    "                        .reset_index()"
   ]
  },
  {
   "cell_type": "code",
   "execution_count": null,
   "metadata": {},
   "outputs": [],
   "source": [
    "df1 = df_chains.loc[df_chains.groupby(['symbol', 'strike', 'right']).dte.idxmin()]\\\n",
    "                        .reset_index(drop=True)\n",
    "\n",
    "strk_near_und = df1[['symbol', 'strike', 'undPrice']].groupby('symbol')\\\n",
    "                                .apply(lambda x: get_closest_values(x.strike, \n",
    "                                                                    x.undPrice.min(), \n",
    "                                                                    how_many=-1))\n",
    "strk_near_und.name = 'strk_near_und'\n",
    "df_ch1 = df_chains.set_index(['symbol', 'dte']).join(strk_near_und)\n",
    "df_ch = df_ch1[df_ch1.apply(lambda x: x.strike in x.strk_near_und, axis=1)] \\\n",
    "                        .reset_index()\n",
    "\n",
    "# for SNP limit to lowest dte\n",
    "if set(df_chains.exchange.to_numpy()).pop() == 'SNP':\n",
    "    df_ch = df_ch.loc[df_ch.groupby('symbol').dte.idxmin()].reset_index(drop=True)"
   ]
  },
  {
   "cell_type": "code",
   "execution_count": null,
   "metadata": {},
   "outputs": [],
   "source": [
    "df_ch"
   ]
  },
  {
   "cell_type": "code",
   "execution_count": null,
   "metadata": {},
   "outputs": [],
   "source": [
    "df_ch[df_ch.symbol == 'BKNG']"
   ]
  },
  {
   "cell_type": "markdown",
   "metadata": {},
   "source": [
    "## Get chains with strike price closest to underlying"
   ]
  },
  {
   "cell_type": "code",
   "execution_count": null,
   "metadata": {},
   "outputs": [],
   "source": [
    "# imports\n",
    "from utils import get_strike_closest_to_und"
   ]
  },
  {
   "cell_type": "code",
   "execution_count": null,
   "metadata": {},
   "outputs": [],
   "source": [
    "df_ch1 = get_strike_closest_to_und(df_chains)"
   ]
  },
  {
   "cell_type": "code",
   "execution_count": null,
   "metadata": {},
   "outputs": [],
   "source": [
    "df_ch1"
   ]
  },
  {
   "cell_type": "markdown",
   "metadata": {},
   "source": [
    "## Get margins closest to underlying with qty as the lot"
   ]
  },
  {
   "cell_type": "code",
   "execution_count": null,
   "metadata": {},
   "outputs": [],
   "source": [
    "# imports\n",
    "from utils import opt_margins_with_lot_check\n",
    "import numpy as np\n"
   ]
  },
  {
   "cell_type": "code",
   "execution_count": null,
   "metadata": {},
   "outputs": [],
   "source": [
    "# Get underlying margins of chains\n",
    "df_chund_margins = opt_margins_with_lot_check(df_ch1)"
   ]
  },
  {
   "cell_type": "markdown",
   "metadata": {},
   "source": [
    "## Integrate with maximum margin, wherever possible"
   ]
  },
  {
   "cell_type": "code",
   "execution_count": null,
   "metadata": {},
   "outputs": [],
   "source": [
    "from utils import join_my_df_with_another\n",
    "\n",
    "# update df_ch_unds with latest margin and commission\n",
    "opt_cols = ['symbol', 'expiry', 'strike', 'right']\n",
    "margin_comm = ['margin', 'comm']\n",
    "df_ch2 = join_my_df_with_another(df_ch1, df_chund_margins[opt_cols+margin_comm])\n",
    "\n",
    "# second run\n",
    "df_rem = df_ch2[df_ch2.margin.isnull()]\n",
    "\n",
    "\n",
    "# replace df_ch2 with new margin and comm\n",
    "if not df_rem.empty:\n",
    "    dfr = opt_margins_with_lot_check(df_rem, multiply_lot=False)\n"
   ]
  },
  {
   "cell_type": "code",
   "execution_count": null,
   "metadata": {},
   "outputs": [],
   "source": [
    "dfr1 = dfr.set_index(opt_cols).dropna(subset=['margin'])\n",
    "df_ch2.set_index(opt_cols).update(dfr1, overwrite=False)"
   ]
  },
  {
   "cell_type": "raw",
   "metadata": {},
   "source": [
    "    new_margin = dfr.set_index(opt_cols)['margin'].dropna()\n",
    "    new_comm = dfr.set_index(opt_cols)['comm'].dropna()\n",
    "    df_ch2 = df_ch2.set_index(opt_cols)\\\n",
    "        .fillna({'margin': new_margin,\n",
    "                'comm': new_comm})\\\n",
    "        .reset_index()"
   ]
  },
  {
   "cell_type": "code",
   "execution_count": null,
   "metadata": {},
   "outputs": [],
   "source": [
    "df_ch_all = join_my_df_with_another(df_chains, df_ch2[opt_cols+margin_comm], idx=opt_cols).reset_index()\n"
   ]
  },
  {
   "cell_type": "code",
   "execution_count": null,
   "metadata": {},
   "outputs": [],
   "source": [
    "# fill missing commissions with max per symbol\n",
    "commissions = df_ch2.groupby('symbol').comm.max().to_dict()\n",
    "df_ch_all.comm = df_ch_all.comm.fillna(df_ch_all.symbol.map(commissions))\n",
    "\n",
    "# fill remaining commissions\n",
    "df_ch_all.comm = df_ch_all.comm.fillna(max(commissions.values()))\n",
    "\n",
    "# fill margins\n",
    "mgn_dict = df_ch_all.groupby('symbol').margin.max().to_dict()\n",
    "cond = df_ch_all.margin.isnull()\n",
    "df_ch_all.loc[cond, 'margin'] = df_ch_all[cond].symbol.map(mgn_dict)\n",
    "\n",
    "# make zero margin as nan\n",
    "zero_margin_condition = df_ch_all.margin == 0\n",
    "df_ch_all.loc[zero_margin_condition, 'margin'] = np.nan"
   ]
  },
  {
   "cell_type": "markdown",
   "metadata": {},
   "source": [
    "## Make logic for margins from SNP rules\n",
    "### Replace `nan` margins with the one derived from logic"
   ]
  },
  {
   "cell_type": "code",
   "execution_count": null,
   "metadata": {},
   "outputs": [],
   "source": [
    "from utils import compute_snp_df_margins\n",
    "\n",
    "df = compute_snp_df_margins(df_ch_all)"
   ]
  },
  {
   "cell_type": "code",
   "execution_count": null,
   "metadata": {},
   "outputs": [],
   "source": [
    "df"
   ]
  },
  {
   "cell_type": "code",
   "execution_count": null,
   "metadata": {},
   "outputs": [],
   "source": []
  }
 ],
 "metadata": {
  "kernelspec": {
   "display_name": ".venv",
   "language": "python",
   "name": "python3"
  },
  "language_info": {
   "codemirror_mode": {
    "name": "ipython",
    "version": 3
   },
   "file_extension": ".py",
   "mimetype": "text/x-python",
   "name": "python",
   "nbconvert_exporter": "python",
   "pygments_lexer": "ipython3",
   "version": "3.11.5"
  }
 },
 "nbformat": 4,
 "nbformat_minor": 2
}
