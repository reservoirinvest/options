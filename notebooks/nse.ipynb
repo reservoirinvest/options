{
 "cells": [
  {
   "cell_type": "code",
   "execution_count": null,
   "metadata": {},
   "outputs": [],
   "source": [
    "## THIS CELL SHOULD BE IN ALL VSCODE NOTEBOOKS ##\n",
    "\n",
    "from ib_insync import util, IB\n",
    "util.startLoop()\n",
    "\n",
    "# Set the root\n",
    "from from_root import from_root\n",
    "ROOT = from_root()\n",
    "\n",
    "# set vscode path\n",
    "import sys\n",
    "sys.path.append(str(ROOT / 'src'))\n",
    "\n",
    "# To import use \n",
    "# from src.<filename> import <function>"
   ]
  },
  {
   "cell_type": "code",
   "execution_count": null,
   "metadata": {},
   "outputs": [],
   "source": [
    "import asyncio\n",
    "\n",
    "from src.nse import Vars, create_target_opts\n",
    "from src.utils import (Vars, get_pickle, \n",
    "                       chunk_me, flatten,\n",
    "                       get_prec, pickle_with_age_check,)\n",
    "\n",
    "from tqdm.asyncio import tqdm\n",
    "import pandas as pd\n",
    "\n",
    "MARKET = 'NSE'\n",
    "_vars = Vars(MARKET)\n",
    "MINEXPROM = _vars.MINEXPROM\n",
    "PORT = _vars.PORT"
   ]
  },
  {
   "cell_type": "code",
   "execution_count": null,
   "metadata": {},
   "outputs": [],
   "source": [
    "all_opts_path = ROOT / 'data' / 'nse' / 'df_all_opts.pkl'\n",
    "\n",
    "opt_prices_path = ROOT / 'data' / MARKET / 'df_opt_prices.pkl'\n",
    "opt_margins_path = ROOT / 'data' / MARKET / 'df_opt_margins.pkl'\n",
    "\n",
    "# df_all_opts = get_pickle(all_opts_path)\n",
    "df_opt_prices = get_pickle(opt_prices_path)\n",
    "df_opt_margins = get_pickle(opt_margins_path)"
   ]
  },
  {
   "cell_type": "code",
   "execution_count": null,
   "metadata": {},
   "outputs": [],
   "source": [
    "# Get alll the options\n",
    "df_all_opts = create_target_opts(df_opt_prices, \n",
    "                                    df_opt_margins, \n",
    "                                    _vars.MINEXPROM)\n",
    "\n"
   ]
  },
  {
   "cell_type": "code",
   "execution_count": null,
   "metadata": {},
   "outputs": [],
   "source": [
    "lots = get_pickle(ROOT / 'data' / 'nse' / 'lots.pkl')"
   ]
  },
  {
   "cell_type": "code",
   "execution_count": null,
   "metadata": {},
   "outputs": [],
   "source": [
    "cols = [x for x in list(df_opt_margins) if x not in list(df_opt_prices)]\n",
    "df_all_opts = pd.concat([df_opt_prices, df_opt_margins[cols]], axis=1)\n",
    "\n",
    "# Get precise expected prices\n",
    "df_all_opts = df_all_opts.assign(expPrice = df_all_opts.apply(lambda x: \n",
    "                                get_prec(((MINEXPROM*x.dte/365*x.margin)+x.comm)\n",
    "                                        /x.lot_size, 0.05), \n",
    "                                            axis=1))"
   ]
  },
  {
   "cell_type": "code",
   "execution_count": null,
   "metadata": {},
   "outputs": [],
   "source": [
    "df_all_opts"
   ]
  }
 ],
 "metadata": {
  "kernelspec": {
   "display_name": ".venv",
   "language": "python",
   "name": "python3"
  },
  "language_info": {
   "codemirror_mode": {
    "name": "ipython",
    "version": 3
   },
   "file_extension": ".py",
   "mimetype": "text/x-python",
   "name": "python",
   "nbconvert_exporter": "python",
   "pygments_lexer": "ipython3",
   "version": "3.11.5"
  }
 },
 "nbformat": 4,
 "nbformat_minor": 2
}
