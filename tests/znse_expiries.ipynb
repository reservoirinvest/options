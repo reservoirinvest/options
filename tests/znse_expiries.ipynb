{
 "cells": [
  {
   "cell_type": "code",
   "execution_count": 1,
   "metadata": {},
   "outputs": [],
   "source": [
    "from utils import get_nse_expiry_date"
   ]
  },
  {
   "cell_type": "code",
   "execution_count": 4,
   "metadata": {},
   "outputs": [
    {
     "data": {
      "text/plain": [
       "datetime.date(2024, 5, 30)"
      ]
     },
     "execution_count": 4,
     "metadata": {},
     "output_type": "execute_result"
    }
   ],
   "source": [
    "symbol = 'RELIANCE'\n",
    "get_nse_expiry_date(symbol=symbol)"
   ]
  },
  {
   "cell_type": "markdown",
   "metadata": {},
   "source": [
    "# Generate nearest date for nse expiry"
   ]
  },
  {
   "cell_type": "markdown",
   "metadata": {},
   "source": [
    "## Consider holiday list"
   ]
  },
  {
   "cell_type": "code",
   "execution_count": null,
   "metadata": {},
   "outputs": [],
   "source": [
    "import json\n",
    "import pandas as pd"
   ]
  },
  {
   "cell_type": "code",
   "execution_count": null,
   "metadata": {},
   "outputs": [],
   "source": [
    "from utils import get_nse_payload\n",
    "def get_nse_holidays() -> set:\n",
    "\n",
    "    \"\"\"\n",
    "    Gets holidays from nse website\n",
    "    \"\"\"\n",
    "\n",
    "    url = \"https://www.nseindia.com/api/holiday-master?type=trading\"\n",
    "\n",
    "    r = get_nse_payload(url)\n",
    "\n",
    "    holiday_dict = json.loads(r.text).get('CBM')\n",
    "    df_nse_holidays = pd.DataFrame.from_records(holiday_dict)\n",
    "\n",
    "    out = set(pd.to_datetime(df_nse_holidays.tradingDate).dt.date)\n",
    "\n",
    "    return out\n"
   ]
  },
  {
   "cell_type": "code",
   "execution_count": null,
   "metadata": {},
   "outputs": [],
   "source": [
    "listOfNseHolidays = get_nse_holidays()"
   ]
  },
  {
   "cell_type": "markdown",
   "metadata": {},
   "source": [
    "## Get weeklies expiry date"
   ]
  },
  {
   "cell_type": "code",
   "execution_count": null,
   "metadata": {},
   "outputs": [],
   "source": [
    "import datetime\n",
    "from datetime import date, timedelta\n",
    "import calendar\n"
   ]
  },
  {
   "cell_type": "code",
   "execution_count": null,
   "metadata": {},
   "outputs": [],
   "source": [
    "def get_weekday_int(weekday_name: str) -> int:\n",
    "    \"\"\"Gives the integer of the weekday string given\"\"\"\n",
    "\n",
    "    weekday_name = weekday_name.upper()\n",
    "\n",
    "    weekdays = {name.upper(): i for i, name in enumerate(calendar.day_name)}\n",
    "\n",
    "\n",
    "    # takes care of abbreviated weekday_name\n",
    "    weekday_name = [k for k, v in weekdays.items() if weekday_name.upper() in k][0]\n",
    "\n",
    "    weekday_int = weekdays.get(weekday_name)\n",
    "\n",
    "    return weekday_int"
   ]
  },
  {
   "cell_type": "code",
   "execution_count": null,
   "metadata": {},
   "outputs": [],
   "source": [
    "def get_weekday_date(weekday_name: str):\n",
    "\n",
    "    \"\"\"\n",
    "    Gets date of the weekday provided in `str`\n",
    "    \"\"\"\n",
    "\n",
    "    today = date.today()\n",
    "    target_weekday = get_weekday_int(weekday_name)\n",
    "    days_to_add = (target_weekday - today.weekday()) % 7\n",
    "\n",
    "    return today + timedelta(days=days_to_add)\n"
   ]
  },
  {
   "cell_type": "code",
   "execution_count": null,
   "metadata": {},
   "outputs": [],
   "source": [
    "def get_nse_weeklies_expiry_date() -> datetime.date:\n",
    "    \"\"\"Gets nse weeklies expiry for NSE index options\"\"\"\n",
    "\n",
    "    weekly_expiry_date = get_weekday_date(\"Thu\")\n",
    "\n",
    "    if weekly_expiry_date in listOfNseHolidays:\n",
    "        weekly_expiry_date = weekly_expiry_date - timedelta(days=1)\n",
    "\n",
    "    return weekly_expiry_date"
   ]
  },
  {
   "cell_type": "markdown",
   "metadata": {
    "vscode": {
     "languageId": "raw"
    }
   },
   "source": [
    "## Get Monthlies Expiry Date"
   ]
  },
  {
   "cell_type": "code",
   "execution_count": null,
   "metadata": {},
   "outputs": [],
   "source": [
    "def get_nse_monthly_expiry_date() -> datetime.date:\n",
    "\n",
    "    \"\"\"Gets the nse monthly expiry date adjusted for holidays in this year\"\"\"\n",
    "    \n",
    "    today = today = datetime.date.today()\n",
    "\n",
    "    # Get the last day of the month\n",
    "    last_day_of_month = calendar.monthrange(today.year, today.month)[1]\n",
    "\n",
    "    # Get month from the weekly expiry date\n",
    "    month = get_nse_weeklies_expiry_date().month\n",
    "\n",
    "    # Make last date of the month\n",
    "\n",
    "    last_date_of_month = date(today.year, month, last_day_of_month )\n",
    "\n",
    "\n",
    "    day_of_expiry = get_weekday_int(\"Thu\") # Usual day of expiry\n",
    "    weekday_delta = last_date_of_month.weekday() - day_of_expiry\n",
    "\n",
    "    if weekday_delta >= 0:\n",
    "        expiry_date = last_date_of_month - timedelta(weekday_delta)\n",
    "    else:\n",
    "        expiry_date = last_date_of_month - timedelta(7 - abs(weekday_delta))\n",
    "\n",
    "    \n",
    "    # Adjust for NSE holidays\n",
    "    listOfNseHolidays = get_nse_holidays()\n",
    "\n",
    "    if expiry_date in listOfNseHolidays:\n",
    "        expiry_date = expiry_date - timedelta(days=1)\n",
    "\n",
    "    return expiry_date\n",
    "\n"
   ]
  },
  {
   "cell_type": "code",
   "execution_count": null,
   "metadata": {},
   "outputs": [],
   "source": [
    "get_nse_monthly_expiry_date()"
   ]
  },
  {
   "cell_type": "markdown",
   "metadata": {},
   "source": [
    "## Gets nearest expiry date for an nse symbol"
   ]
  },
  {
   "cell_type": "code",
   "execution_count": null,
   "metadata": {},
   "outputs": [],
   "source": [
    "import datetime\n",
    "from utils import get_lots_from_nse\n",
    "symlots = get_lots_from_nse()"
   ]
  },
  {
   "cell_type": "code",
   "execution_count": null,
   "metadata": {},
   "outputs": [],
   "source": [
    "def this_is_nse_index(symbol: str) -> bool:\n",
    "    return True if 'NIFTY' in symbol else False\n",
    "symbol = 'NIFTY'\n",
    "\n",
    "def get_nse_expiry_date(symbol: str) -> datetime.date:\n",
    "\n",
    "    \"\"\"Gets nse expiry date for the symbol, adjusted to this year's nse holidays\"\"\"\n",
    "\n",
    "    out = get_nse_weeklies_expiry_date()\\\n",
    "        if this_is_nse_index(symbol)\\\n",
    "            else get_nse_monthly_expiry_date()\n",
    "    \n",
    "    return out"
   ]
  },
  {
   "cell_type": "code",
   "execution_count": null,
   "metadata": {},
   "outputs": [],
   "source": []
  }
 ],
 "metadata": {
  "kernelspec": {
   "display_name": ".venv",
   "language": "python",
   "name": "python3"
  },
  "language_info": {
   "codemirror_mode": {
    "name": "ipython",
    "version": 3
   },
   "file_extension": ".py",
   "mimetype": "text/x-python",
   "name": "python",
   "nbconvert_exporter": "python",
   "pygments_lexer": "ipython3",
   "version": "3.11.5"
  }
 },
 "nbformat": 4,
 "nbformat_minor": 2
}
