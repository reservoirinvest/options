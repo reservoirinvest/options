{
 "cells": [
  {
   "cell_type": "markdown",
   "metadata": {},
   "source": [
    "# Generate nearest date for nse expiry"
   ]
  },
  {
   "cell_type": "code",
   "execution_count": 2,
   "metadata": {},
   "outputs": [],
   "source": [
    "from datetime import date, timedelta\n",
    "import calendar\n"
   ]
  },
  {
   "cell_type": "code",
   "execution_count": 21,
   "metadata": {},
   "outputs": [],
   "source": [
    "weekday_name = 'Sun'\n",
    "\n",
    "def get_weekday_date(weekday_name: str):\n",
    "\n",
    "    \"\"\"\n",
    "    Gets date of the weekday provided in `str`\n",
    "    \"\"\"\n",
    "\n",
    "    weekdays = {name.upper(): i for i, name in enumerate(calendar.day_name)}\n",
    "    weekday_name = weekday_name.upper()\n",
    "\n",
    "    # takes care of abbreviated weekday_name\n",
    "    weekday_name = [k for k, v in weekdays.items() if weekday_name.upper() in k][0]\n",
    "\n",
    "    today = date.today()\n",
    "    target_weekday = weekdays[weekday_name]\n",
    "    days_to_add = (target_weekday - today.weekday()) % 7\n",
    "\n",
    "    return today + timedelta(days=days_to_add)\n"
   ]
  },
  {
   "cell_type": "markdown",
   "metadata": {},
   "source": [
    "# Consider holiday list"
   ]
  },
  {
   "cell_type": "code",
   "execution_count": 24,
   "metadata": {},
   "outputs": [],
   "source": [
    "import json\n",
    "import pandas as pd"
   ]
  },
  {
   "cell_type": "code",
   "execution_count": 25,
   "metadata": {},
   "outputs": [],
   "source": [
    "from utils import get_nse_payload\n",
    "def get_nse_holidays() -> set:\n",
    "\n",
    "    \"\"\"\n",
    "    Gets holidays from nse website\n",
    "    \"\"\"\n",
    "\n",
    "    url = \"https://www.nseindia.com/api/holiday-master?type=trading\"\n",
    "\n",
    "    r = get_nse_payload(url)\n",
    "\n",
    "    holiday_dict = json.loads(r.text).get('CBM')\n",
    "    df_nse_holidays = pd.DataFrame.from_records(holiday_dict)\n",
    "\n",
    "    out = set(pd.to_datetime(df_nse_holidays.tradingDate).dt.date)\n",
    "\n",
    "    return out\n"
   ]
  },
  {
   "cell_type": "code",
   "execution_count": 26,
   "metadata": {},
   "outputs": [],
   "source": [
    "listOfNseHolidays = get_nse_holidays()"
   ]
  },
  {
   "cell_type": "code",
   "execution_count": 28,
   "metadata": {},
   "outputs": [],
   "source": [
    "expiry_date = get_weekday_date(\"Thu\")"
   ]
  },
  {
   "cell_type": "code",
   "execution_count": 31,
   "metadata": {},
   "outputs": [
    {
     "data": {
      "text/plain": [
       "datetime.date(2024, 4, 25)"
      ]
     },
     "execution_count": 31,
     "metadata": {},
     "output_type": "execute_result"
    }
   ],
   "source": [
    "expiry_date"
   ]
  },
  {
   "cell_type": "code",
   "execution_count": 32,
   "metadata": {},
   "outputs": [
    {
     "data": {
      "text/plain": [
       "datetime.date(2024, 4, 24)"
      ]
     },
     "execution_count": 32,
     "metadata": {},
     "output_type": "execute_result"
    }
   ],
   "source": [
    "expiry_date - timedelta(days=1)"
   ]
  },
  {
   "cell_type": "raw",
   "metadata": {
    "vscode": {
     "languageId": "raw"
    }
   },
   "source": [
    "\n",
    "def __considerHolidayList(expiryDate: Date):\n",
    "\n",
    "    listOfNseHolidays = get_nse_holidays()\n",
    "\n",
    "    if(expiryDate.date() in listOfNseHolidays):\n",
    "        return __considerHolidayList(expiryDate.subtract(days=1))\n",
    "    else:\n",
    "        return expiryDate\n",
    "def getNearestWeeklyExpiryDate():\n",
    "    expiryDate = None\n",
    "    if(pendulum.now().date().day_of_week is pendulum.THURSDAY):\n",
    "        expiryDate = pendulum.now()\n",
    "    else:\n",
    "        expiryDate = pendulum.now().next(pendulum.THURSDAY)\n",
    "    return __considerHolidayList(expiryDate).date()\n",
    "\n",
    "\n",
    "def getNextWeeklyExpiryDate():\n",
    "    expiryDate = None\n",
    "    if(pendulum.now().date().day_of_week is pendulum.THURSDAY):\n",
    "        expiryDate = pendulum.now().next(pendulum.THURSDAY)\n",
    "    else:\n",
    "        expiryDate = pendulum.now().next(pendulum.THURSDAY).next(pendulum.THURSDAY)\n",
    "    return __considerHolidayList(expiryDate).date()\n",
    "\n",
    "\n",
    "def getNearestMonthlyExpiryDate():\n",
    "    expiryDate = pendulum.now().last_of('month', pendulum.THURSDAY)\n",
    "    if(pendulum.now().date() > expiryDate.date()):\n",
    "        expiryDate = pendulum.now().add(months=1).last_of('month', pendulum.THURSDAY)\n",
    "    return __considerHolidayList(expiryDate).date()\n",
    "\n",
    "\n",
    "def getNextMonthlyExpiryDate():\n",
    "    expiryDate = pendulum.now().last_of('month', pendulum.THURSDAY)\n",
    "    if(pendulum.now().date() > expiryDate.date()):\n",
    "        expiryDate = pendulum.now().add(months=2).last_of('month', pendulum.THURSDAY)\n",
    "    else:\n",
    "        expiryDate = pendulum.now().add(months=1).last_of('month', pendulum.THURSDAY)\n",
    "    return __considerHolidayList(expiryDate).date()\n",
    "\n",
    "if __name__ == \"__main__\":\n",
    "    print(getNextMonthlyExpiryDate())\n",
    "\n"
   ]
  },
  {
   "cell_type": "code",
   "execution_count": null,
   "metadata": {},
   "outputs": [],
   "source": []
  }
 ],
 "metadata": {
  "kernelspec": {
   "display_name": ".venv",
   "language": "python",
   "name": "python3"
  },
  "language_info": {
   "codemirror_mode": {
    "name": "ipython",
    "version": 3
   },
   "file_extension": ".py",
   "mimetype": "text/x-python",
   "name": "python",
   "nbconvert_exporter": "python",
   "pygments_lexer": "ipython3",
   "version": "3.11.5"
  }
 },
 "nbformat": 4,
 "nbformat_minor": 2
}
