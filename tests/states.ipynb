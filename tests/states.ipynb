{
 "cells": [
  {
   "cell_type": "code",
   "execution_count": null,
   "metadata": {},
   "outputs": [],
   "source": [
    "## THIS CELL SHOULD BE IN ALL VSCODE NOTEBOOKS ##\n",
    "\n",
    "MARKET = 'SNP'\n",
    "\n",
    "# Add `src` to _src.pth in .venv to allow imports in VS Code\n",
    "from sysconfig import get_path\n",
    "from pathlib import Path\n",
    "if 'src' not in Path.cwd().parts:\n",
    "    src_path = str(Path(get_path('purelib')) / '_src.pth')\n",
    "    with open(src_path, 'w') as f:\n",
    "        f.write(str(Path.cwd() / 'src\\n'))\n",
    "\n",
    "# Start the Jupyter loop\n",
    "from ib_insync import util, IB\n",
    "util.startLoop()"
   ]
  },
  {
   "cell_type": "code",
   "execution_count": null,
   "metadata": {},
   "outputs": [],
   "source": [
    "# Set the root\n",
    "from from_root import from_root\n",
    "ROOT = from_root()\n",
    "\n",
    "from utils import Vars\n",
    "_vars = Vars(MARKET)\n",
    "PORT = _vars.PORT\n",
    "PAPER = _vars.PAPER \n",
    "OPT_COLS = _vars.OPT_COLS[0]\n",
    "DATAPATH = ROOT / 'data' / MARKET.lower()"
   ]
  },
  {
   "cell_type": "markdown",
   "metadata": {},
   "source": [
    "# Build `states`\n",
    "## Get margins of pf positions"
   ]
  },
  {
   "cell_type": "code",
   "execution_count": null,
   "metadata": {},
   "outputs": [],
   "source": [
    "# Imports\n",
    "import asyncio\n",
    "\n",
    "import numpy as np\n",
    "import pandas as pd\n",
    "from ib_insync import MarketOrder\n",
    "\n",
    "from utils import (clean_ib_util_df, get_a_margin, get_dte, get_margins,\n",
    "                   get_order_pf, get_pickle,\n",
    "                   qualify_conIds, qualify_me, to_list)"
   ]
  },
  {
   "cell_type": "code",
   "execution_count": null,
   "metadata": {},
   "outputs": [],
   "source": [
    "# get unds, open orders and portfolio\n",
    "unds = set(get_pickle(DATAPATH / 'unds.pkl').keys())\n",
    "df_openorder, df_pf = asyncio.run(get_order_pf(PORT))"
   ]
  },
  {
   "cell_type": "code",
   "execution_count": null,
   "metadata": {},
   "outputs": [],
   "source": [
    "from utils import qualify_conIds\n",
    "from ib_insync import Contract, ContractDetails\n",
    "pf_contracts = asyncio.run(qualify_conIds(PORT, df_pf.conId))"
   ]
  },
  {
   "cell_type": "raw",
   "metadata": {},
   "source": [
    "with IB().connect(port=PORT) as ib:\n",
    "    cts = [ib.reqContractDetails(c) for c in pf_contracts]\n",
    "cts[0][0].contract.conId\n",
    "{c.contract.conId:c.realExpirationDate for c1 in cts for c in c1}"
   ]
  },
  {
   "cell_type": "code",
   "execution_count": null,
   "metadata": {},
   "outputs": [],
   "source": [
    "# Get margins of all positions\n",
    "# ============================\n",
    "CID = _vars.CID\n",
    "desc = \"Qualifiying Portfolio\"\n",
    "pf_contracts = to_list(df_pf.contract)\n",
    "\n",
    "with IB().connect(port=PORT) as ib:\n",
    "    pf_contracts = asyncio.run(qualify_me(ib, contracts=pf_contracts))\n",
    "\n",
    "# ...integrate df_pf with multiplier\n",
    "df1 = clean_ib_util_df(pf_contracts).set_index('conId')\n",
    "df2 = df_pf.set_index('conId')\n",
    "\n",
    "cols_to_use = df2.columns.difference(df1.columns)\n",
    "df_pf = df1.join(df2[cols_to_use])\n",
    "\n",
    "# join the multiplier\n",
    "s = pd.to_numeric(df_pf.multiplier)\n",
    "s.fillna(1, inplace=True)\n",
    "df_pf = df_pf.assign(multiplier=s)\n",
    "\n",
    "# Get DTEs\n",
    "df_pf.insert(4, 'dte', df_pf.expiry.apply(lambda x: get_dte(x, MARKET)))\n",
    "df_pf.loc[df_pf.dte <=0, \"dte\"] = 0\n",
    "\n",
    "# Get the costPrice\n",
    "df_pf.insert(9, 'costPrice', abs(df_pf.avgCost/df_pf.position))\n",
    "\n",
    "# Assign the actions\n",
    "df_pf = df_pf.assign(action=np.where(df_pf.position < 0, \"BUY\", \"SELL\"))\n",
    "\n",
    "# build the orders\n",
    "wif_order = [MarketOrder(action, totalQuantity) \n",
    "             for action, totalQuantity \n",
    "             in zip(df_pf.action, abs(df_pf.position).astype('int'))]\n",
    "df_pf = df_pf.assign(wif_order = wif_order)"
   ]
  },
  {
   "cell_type": "code",
   "execution_count": null,
   "metadata": {},
   "outputs": [],
   "source": [
    "with IB().connect(port=PORT) as ib:\n",
    "    contracts = to_list(pf_contracts)\n",
    "    orders = df_pf.wif_order.to_list()\n",
    "    df_m = asyncio.run(get_margins(port=PORT, contracts=contracts, orders = orders))"
   ]
  },
  {
   "cell_type": "code",
   "execution_count": null,
   "metadata": {},
   "outputs": [],
   "source": [
    "def join_my_df_with_another(my_df: pd.DataFrame, other_df: pd.DataFrame) -> pd.DataFrame:\n",
    "    \"\"\"\n",
    "    Joins my df with other, protecting my columns\n",
    "    my_df: original df\n",
    "    other_df: df columns to be imported from\n",
    "\n",
    "    Note:\n",
    "    ---\n",
    "    Index should be common across the dfs\n",
    "    \"\"\"\n",
    "    cols_to_use = other_df.columns.difference(my_df.columns)\n",
    "    df_out = my_df.join(other_df[cols_to_use])\n",
    "\n",
    "    return df_out"
   ]
  },
  {
   "cell_type": "code",
   "execution_count": null,
   "metadata": {},
   "outputs": [],
   "source": [
    "df_pfm = join_my_df_with_another(df_pf, df_m.set_index('conId')).drop(columns = ['wif_order'])"
   ]
  },
  {
   "cell_type": "code",
   "execution_count": null,
   "metadata": {},
   "outputs": [],
   "source": [
    "df_pfm"
   ]
  },
  {
   "cell_type": "code",
   "execution_count": null,
   "metadata": {},
   "outputs": [],
   "source": []
  },
  {
   "cell_type": "code",
   "execution_count": null,
   "metadata": {},
   "outputs": [],
   "source": [
    "with IB().connect(port=PORT) as ib:\n",
    "    asyncio.run(qualify_me(df_pfm.iloc[0].contract))"
   ]
  },
  {
   "cell_type": "code",
   "execution_count": null,
   "metadata": {},
   "outputs": [],
   "source": [
    "from ib_insync import Contract\n",
    "\n",
    "ct = Contract(secType='OPT', symbol='ABNB', lastTradeDateOrContractMonth='20240217', strike=124.0, right='P', exchange='SMART', currency='USD')\n",
    "with IB().connect(port=PORT) as ib:\n",
    "    ct = asyncio.run(qualify_me(ib, ct))"
   ]
  },
  {
   "cell_type": "code",
   "execution_count": null,
   "metadata": {},
   "outputs": [],
   "source": [
    "from utils import qualify_me, qualify_conIds\n",
    "\n",
    "with IB().connect(port=PORT) as ib:\n",
    "    ct1_requested = asyncio.run(qualify_me(ib, [contracts[0]]))\n",
    "\n",
    "ct1_qualified = asyncio.run(qualify_conIds(PORT=PORT, conIds=list([contracts[0].conId])))"
   ]
  },
  {
   "cell_type": "code",
   "execution_count": null,
   "metadata": {},
   "outputs": [],
   "source": [
    "ct1_requested == ct1_qualified"
   ]
  },
  {
   "cell_type": "markdown",
   "metadata": {},
   "source": [
    "# Unsowed"
   ]
  },
  {
   "cell_type": "code",
   "execution_count": null,
   "metadata": {},
   "outputs": [],
   "source": [
    "# No orders to sow and no existing positions\n",
    "\n",
    "options = df_pf.secType == 'OPT'\n",
    "stocks = df_pf.secType == 'STK'\n",
    "\n",
    "long = df_pf.position > 0\n",
    "long_options = long & options\n",
    "df_pf[long_options]\n",
    "\n",
    "unsowed = unds - set(df_openorder.symbol) - set(df_pf.symbol)\n",
    "unsowed"
   ]
  },
  {
   "cell_type": "markdown",
   "metadata": {},
   "source": [
    "# Orphaned"
   ]
  },
  {
   "cell_type": "code",
   "execution_count": null,
   "metadata": {},
   "outputs": [],
   "source": [
    "# Long calls or puts without any underlying stock position\n",
    "options = df_pf.secType == 'OPT'\n",
    "stocks = df_pf.secType == 'STK'\n",
    "long = df_pf.position >= 1\n",
    "long_stocks = long & stocks\n",
    "long_options = long & options\n",
    "orphaned = long_stocks & long_options\n",
    "\n",
    "orphaned = df_pf[orphaned]\n",
    "orphaned"
   ]
  },
  {
   "cell_type": "markdown",
   "metadata": {},
   "source": [
    "# Unreaped"
   ]
  },
  {
   "cell_type": "code",
   "execution_count": null,
   "metadata": {},
   "outputs": [],
   "source": [
    "# Open position without a reap order\n",
    "df_reap = df_pf[options]"
   ]
  },
  {
   "cell_type": "code",
   "execution_count": null,
   "metadata": {},
   "outputs": [],
   "source": []
  },
  {
   "cell_type": "code",
   "execution_count": null,
   "metadata": {},
   "outputs": [],
   "source": []
  },
  {
   "cell_type": "code",
   "execution_count": null,
   "metadata": {},
   "outputs": [],
   "source": []
  }
 ],
 "metadata": {
  "kernelspec": {
   "display_name": ".venv",
   "language": "python",
   "name": "python3"
  },
  "language_info": {
   "codemirror_mode": {
    "name": "ipython",
    "version": 3
   },
   "file_extension": ".py",
   "mimetype": "text/x-python",
   "name": "python",
   "nbconvert_exporter": "python",
   "pygments_lexer": "ipython3",
   "version": "3.11.5"
  }
 },
 "nbformat": 4,
 "nbformat_minor": 2
}
