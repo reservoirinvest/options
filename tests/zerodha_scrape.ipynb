{
 "cells": [
  {
   "cell_type": "code",
   "execution_count": 1,
   "metadata": {},
   "outputs": [],
   "source": [
    "## THIS CELL SHOULD BE IN ALL VSCODE NOTEBOOKS ##\n",
    "\n",
    "MARKET = 'NSE'\n",
    "\n",
    "from loguru import logger\n",
    "\n",
    "import pandas as pd\n",
    "pd.options.display.max_columns=None\n",
    "\n",
    "# Add `src` to _src.pth in .venv to allow imports in VS Code\n",
    "from sysconfig import get_path\n",
    "from pathlib import Path\n",
    "if 'src' not in Path.cwd().parts:\n",
    "    src_path = str(Path(get_path('purelib')) / '_src.pth')\n",
    "    with open(src_path, 'w') as f:\n",
    "        f.write(str(Path.cwd() / 'src\\n'))\n",
    "\n",
    "# Start the Jupyter loop\n",
    "from ib_insync import util\n",
    "util.startLoop()\n",
    "\n",
    "# Imports \n",
    "from utils import Vars, get_pickle\n",
    "\n",
    "# Set the root\n",
    "from from_root import from_root\n",
    "ROOT = from_root()"
   ]
  },
  {
   "cell_type": "markdown",
   "metadata": {},
   "source": [
    "# Scrape lots and expiries from Zerodha"
   ]
  },
  {
   "cell_type": "code",
   "execution_count": 2,
   "metadata": {},
   "outputs": [],
   "source": [
    "import requests\n",
    "import json\n",
    "\n",
    "from bs4 import BeautifulSoup\n",
    "import re"
   ]
  },
  {
   "cell_type": "code",
   "execution_count": 3,
   "metadata": {},
   "outputs": [],
   "source": [
    "data = {\"action\": \"calculate\",\n",
    "        \"exchange%5B%5D\": \"NFO\",\n",
    "        \"product%5B%5D\": \"OPT\",\n",
    "        \"scrip%5B%5D\": \"AARTIIND24JUL\",\n",
    "        \"option_type%5B%5D\": \"PE\",\n",
    "        \"strike_price%5B%5D\": 660,\n",
    "        \"qty%5B%5D\": 1000,\n",
    "        \"trade%5B%5D\": \"sell\"}"
   ]
  },
  {
   "cell_type": "code",
   "execution_count": 4,
   "metadata": {},
   "outputs": [],
   "source": [
    "def get_zerodha_span_payload(data: dict):\n",
    "\n",
    "    zero_headers = {'user-agent': 'Mozilla/5.0 (Windows NT 10.0; Win64; x64) '\n",
    "                                    'AppleWebKit/537.36 '\n",
    "                                    '(KHTML, like Gecko) '\n",
    "                                    'Chrome/80.0.3987.149 Safari/537.36',\n",
    "                    'referer': 'https://zerodha.com/',\n",
    "                    'origin': 'https://zerodha.com/',\n",
    "                    'content-type': 'application/json',\n",
    "                    }\n",
    "    \n",
    "    base_url = \"https://zerodha.com/\"\n",
    "    url = \"https://zerodha.com/margin-calculator/SPAN\"\n",
    "\n",
    "\n",
    "    with requests.Session() as session:\n",
    "        request = session.get(base_url, headers=zero_headers, timeout=5)\n",
    "        cookies = dict(request.cookies)\n",
    "        response = session.post(url, headers=zero_headers, data=data, timeout=5, cookies=cookies)\n",
    "\n",
    "    return response"
   ]
  },
  {
   "cell_type": "code",
   "execution_count": 42,
   "metadata": {},
   "outputs": [],
   "source": [
    "def zerodha_lots_expiries() -> pd.DataFrame:\n",
    "\n",
    "    \"\"\"Gets the lots and expiries for Zerodha\"\"\"\n",
    "    \n",
    "    response = get_zerodha_span_payload({}) # Empty data dictionary\n",
    "    r = response.text\n",
    "    soup = BeautifulSoup(r)\n",
    "    # get all the scripts\n",
    "    js_code = soup.findAll(\"script\")\n",
    "    # get the script with FUTURES variable\n",
    "    the_script = [j for j in js_code if 'var FUTURES' in str(j)]\n",
    "\n",
    "    lots_n_expiries = eval(re.findall(r'\\[(.*?)\\]\\]', str(the_script))[0]+']')\n",
    "    lot_exp_list = list([L0, L1.split()[0], L1.split()[1], L2] for L0, L1, L2 in lots_n_expiries)\n",
    "\n",
    "    df = pd.DataFrame(lot_exp_list, columns=['zeroscrip', 'symbol', 'zexpiry', 'lot'])\n",
    "\n",
    "    return df"
   ]
  },
  {
   "cell_type": "code",
   "execution_count": 44,
   "metadata": {},
   "outputs": [],
   "source": [
    "df = zerodha_lots_expiries()"
   ]
  },
  {
   "cell_type": "code",
   "execution_count": 45,
   "metadata": {},
   "outputs": [
    {
     "data": {
      "text/html": [
       "<div>\n",
       "<style scoped>\n",
       "    .dataframe tbody tr th:only-of-type {\n",
       "        vertical-align: middle;\n",
       "    }\n",
       "\n",
       "    .dataframe tbody tr th {\n",
       "        vertical-align: top;\n",
       "    }\n",
       "\n",
       "    .dataframe thead th {\n",
       "        text-align: right;\n",
       "    }\n",
       "</style>\n",
       "<table border=\"1\" class=\"dataframe\">\n",
       "  <thead>\n",
       "    <tr style=\"text-align: right;\">\n",
       "      <th></th>\n",
       "      <th>zeroscrip</th>\n",
       "      <th>symbol</th>\n",
       "      <th>zexpiry</th>\n",
       "      <th>lot</th>\n",
       "    </tr>\n",
       "  </thead>\n",
       "  <tbody>\n",
       "    <tr>\n",
       "      <th>403</th>\n",
       "      <td>NIFTY24JUL</td>\n",
       "      <td>NIFTY</td>\n",
       "      <td>25-JUL-2024</td>\n",
       "      <td>25</td>\n",
       "    </tr>\n",
       "    <tr>\n",
       "      <th>404</th>\n",
       "      <td>NIFTY24JUN</td>\n",
       "      <td>NIFTY</td>\n",
       "      <td>27-JUN-2024</td>\n",
       "      <td>25</td>\n",
       "    </tr>\n",
       "    <tr>\n",
       "      <th>405</th>\n",
       "      <td>NIFTY24MAY</td>\n",
       "      <td>NIFTY</td>\n",
       "      <td>30-MAY-2024</td>\n",
       "      <td>25</td>\n",
       "    </tr>\n",
       "    <tr>\n",
       "      <th>577</th>\n",
       "      <td>NIFTY24613</td>\n",
       "      <td>NIFTY</td>\n",
       "      <td>13-JUN-2024</td>\n",
       "      <td>25</td>\n",
       "    </tr>\n",
       "    <tr>\n",
       "      <th>579</th>\n",
       "      <td>NIFTY24620</td>\n",
       "      <td>NIFTY</td>\n",
       "      <td>20-JUN-2024</td>\n",
       "      <td>25</td>\n",
       "    </tr>\n",
       "    <tr>\n",
       "      <th>580</th>\n",
       "      <td>NIFTY24523</td>\n",
       "      <td>NIFTY</td>\n",
       "      <td>23-MAY-2024</td>\n",
       "      <td>25</td>\n",
       "    </tr>\n",
       "    <tr>\n",
       "      <th>584</th>\n",
       "      <td>NIFTY2466</td>\n",
       "      <td>NIFTY</td>\n",
       "      <td>06-JUN-2024</td>\n",
       "      <td>25</td>\n",
       "    </tr>\n",
       "  </tbody>\n",
       "</table>\n",
       "</div>"
      ],
      "text/plain": [
       "      zeroscrip symbol      zexpiry  lot\n",
       "403  NIFTY24JUL  NIFTY  25-JUL-2024   25\n",
       "404  NIFTY24JUN  NIFTY  27-JUN-2024   25\n",
       "405  NIFTY24MAY  NIFTY  30-MAY-2024   25\n",
       "577  NIFTY24613  NIFTY  13-JUN-2024   25\n",
       "579  NIFTY24620  NIFTY  20-JUN-2024   25\n",
       "580  NIFTY24523  NIFTY  23-MAY-2024   25\n",
       "584   NIFTY2466  NIFTY  06-JUN-2024   25"
      ]
     },
     "execution_count": 45,
     "metadata": {},
     "output_type": "execute_result"
    }
   ],
   "source": [
    "df[df.symbol == 'NIFTY']"
   ]
  },
  {
   "cell_type": "code",
   "execution_count": null,
   "metadata": {},
   "outputs": [],
   "source": []
  }
 ],
 "metadata": {
  "kernelspec": {
   "display_name": ".venv",
   "language": "python",
   "name": "python3"
  },
  "language_info": {
   "codemirror_mode": {
    "name": "ipython",
    "version": 3
   },
   "file_extension": ".py",
   "mimetype": "text/x-python",
   "name": "python",
   "nbconvert_exporter": "python",
   "pygments_lexer": "ipython3",
   "version": "3.11.5"
  }
 },
 "nbformat": 4,
 "nbformat_minor": 2
}
