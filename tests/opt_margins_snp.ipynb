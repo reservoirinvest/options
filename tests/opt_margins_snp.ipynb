{
 "cells": [
  {
   "cell_type": "markdown",
   "metadata": {},
   "source": [
    "# Margins for SNP\n",
    "-[ ] Build / Extract the chains    \n",
    "-[ ] Get undPrices   \n",
    "-[ ] Integrate undPrices to the chains   \n",
    "\n",
    "-[ ] Get the lots   \n",
    "-[ ] Get margins for with qty as the lot   \n",
    "-[ ] Make logic for margins from SNP rules   \n",
    "-[ ] For margins with NaN, replace margins with the one derived from logic   \n",
    "-[ ] Integrate margins to chains"
   ]
  },
  {
   "cell_type": "code",
   "execution_count": null,
   "metadata": {},
   "outputs": [],
   "source": [
    "## THIS CELL SHOULD BE IN ALL VSCODE NOTEBOOKS ##\n",
    "\n",
    "MARKET = 'SNP'\n",
    "\n",
    "import pandas as pd\n",
    "pd.options.display.max_columns=None\n",
    "\n",
    "# Add `src` to _src.pth in .venv to allow imports in VS Code\n",
    "from sysconfig import get_path\n",
    "from pathlib import Path\n",
    "if 'src' not in Path.cwd().parts:\n",
    "    src_path = str(Path(get_path('purelib')) / '_src.pth')\n",
    "    with open(src_path, 'w') as f:\n",
    "        f.write(str(Path.cwd() / 'src\\n'))\n",
    "\n",
    "# Start the Jupyter loop\n",
    "from ib_async import util, IB\n",
    "util.startLoop()"
   ]
  },
  {
   "cell_type": "code",
   "execution_count": null,
   "metadata": {},
   "outputs": [],
   "source": [
    "# Set the root\n",
    "from from_root import from_root\n",
    "ROOT = from_root()\n",
    "\n",
    "from utils import Vars\n",
    "_vars = Vars(MARKET)\n",
    "PORT = _vars.PORT\n",
    "PAPER = _vars.PAPER\n",
    "COLS = _vars.COLS[0]\n",
    "OPT_COLS = _vars.OPT_COLS[0]\n",
    "DATAPATH = ROOT / 'data' / MARKET.lower()\n",
    "\n",
    "# Suppress Errors\n",
    "util.logToFile(DATAPATH.parent.parent / 'log' / 'ztest.log')"
   ]
  },
  {
   "cell_type": "code",
   "execution_count": null,
   "metadata": {},
   "outputs": [],
   "source": [
    "# Build chains\n",
    "from utils import make_chains_with_margins, get_strike_closest_to_und\n",
    "df_chains = make_chains_with_margins(MARKET=MARKET)\n",
    "# df = get_strike_closest_to_und(df_chains)"
   ]
  },
  {
   "cell_type": "code",
   "execution_count": null,
   "metadata": {},
   "outputs": [],
   "source": [
    "# Make raw targets from the chains\n",
    "from utils import raw_target_opts\n",
    "df_ch = raw_target_opts(df_chains)\n",
    "df_ch.head()"
   ]
  },
  {
   "cell_type": "code",
   "execution_count": 5,
   "metadata": {},
   "outputs": [],
   "source": [
    "# qualify the targets\n",
    "from utils import qualify_naked_opts, pickle_me, get_pickle, nakeds_with_expPrice\n",
    "df_naked_targets = qualify_naked_opts(df_ch)\n",
    "\n",
    "pickle_me(df_naked_targets, DATAPATH / 'df_naked_targets.pkl')\n",
    "df = get_pickle(DATAPATH / 'df_naked_targets.pkl')"
   ]
  },
  {
   "cell_type": "code",
   "execution_count": null,
   "metadata": {},
   "outputs": [],
   "source": [
    "# build nakeds with expected Price\n",
    "from utils import nakeds_with_expPrice\n",
    "dfn = nakeds_with_expPrice(df)"
   ]
  },
  {
   "cell_type": "code",
   "execution_count": null,
   "metadata": {},
   "outputs": [],
   "source": []
  }
 ],
 "metadata": {
  "kernelspec": {
   "display_name": ".venv",
   "language": "python",
   "name": "python3"
  },
  "language_info": {
   "codemirror_mode": {
    "name": "ipython",
    "version": 3
   },
   "file_extension": ".py",
   "mimetype": "text/x-python",
   "name": "python",
   "nbconvert_exporter": "python",
   "pygments_lexer": "ipython3",
   "version": "3.11.5"
  }
 },
 "nbformat": 4,
 "nbformat_minor": 2
}
