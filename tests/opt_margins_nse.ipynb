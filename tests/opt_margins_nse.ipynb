{
 "cells": [
  {
   "cell_type": "markdown",
   "metadata": {},
   "source": [
    "# Margins for NSE\n",
    "-[ ] Build / Extract the chains    \n",
    "-[ ] Get undPrices   \n",
    "-[ ] Integrate undPrices to the chains   \n",
    "\n",
    "-[ ] Get the lots   \n",
    "-[ ] Get margins for with qty as the lot   \n",
    "-[ ] Make logic for margins from NSE rules   \n",
    "-[ ] For margins with NaN, replace margins with the one derived from logic   \n",
    "-[ ] Integrate margins to chains"
   ]
  },
  {
   "cell_type": "code",
   "execution_count": 1,
   "metadata": {},
   "outputs": [],
   "source": [
    "## THIS CELL SHOULD BE IN ALL VSCODE NOTEBOOKS ##\n",
    "\n",
    "MARKET = 'NSE'\n",
    "\n",
    "import pandas as pd\n",
    "pd.options.display.max_columns=None\n",
    "\n",
    "# Add `src` to _src.pth in .venv to allow imports in VS Code\n",
    "from sysconfig import get_path\n",
    "from pathlib import Path\n",
    "if 'src' not in Path.cwd().parts:\n",
    "    src_path = str(Path(get_path('purelib')) / '_src.pth')\n",
    "    with open(src_path, 'w') as f:\n",
    "        f.write(str(Path.cwd() / 'src\\n'))\n",
    "\n",
    "# Start the Jupyter loop\n",
    "from ib_insync import util, IB\n",
    "util.startLoop()"
   ]
  },
  {
   "cell_type": "code",
   "execution_count": 2,
   "metadata": {},
   "outputs": [],
   "source": [
    "# Set the root\n",
    "from from_root import from_root\n",
    "ROOT = from_root()\n",
    "\n",
    "from utils import Vars\n",
    "_vars = Vars(MARKET)\n",
    "PORT = _vars.PORT\n",
    "PAPER = _vars.PAPER \n",
    "OPT_COLS = _vars.OPT_COLS[0]\n",
    "DATAPATH = ROOT / 'data' / MARKET.lower()\n",
    "\n",
    "# Suppress Errors\n",
    "util.logToFile(DATAPATH.parent.parent / 'log' / 'ztest.log')"
   ]
  },
  {
   "cell_type": "markdown",
   "metadata": {},
   "source": [
    "## Get underlying contracts and prices"
   ]
  },
  {
   "cell_type": "code",
   "execution_count": 3,
   "metadata": {},
   "outputs": [],
   "source": [
    "# imports\n",
    "import asyncio\n",
    "from utils import get_pickle, get_mkt_prices, pickle_me, get_file_age"
   ]
  },
  {
   "cell_type": "code",
   "execution_count": 4,
   "metadata": {},
   "outputs": [
    {
     "name": "stderr",
     "output_type": "stream",
     "text": [
      "Getting market prices with IVs: 100%|██████████| 5/5 [01:32<00:00, 18.40s/it]\n"
     ]
    }
   ],
   "source": [
    "# Get unds\n",
    "unds = get_pickle(DATAPATH / 'unds.pkl')\n",
    "df_unds = pd.DataFrame.from_dict(unds.items())\n",
    "df_unds.columns = ['symbol', 'contract']\n",
    "\n",
    "# Get und prices\n",
    "# ... check file age.\n",
    "UND_PRICE_PATH = DATAPATH / 'df_und_prices.pkl'\n",
    "und_price_file_age = get_file_age(UND_PRICE_PATH)\n",
    "if not und_price_file_age:\n",
    "    age_in_mins = 30\n",
    "else:\n",
    "    age_in_mins = und_price_file_age.td.total_seconds()/60\n",
    "\n",
    "if age_in_mins >= 30:\n",
    "    df_und_prices = asyncio.run(get_mkt_prices(port=PORT, contracts=df_unds.contract))\n",
    "    pickle_me(df_und_prices, UND_PRICE_PATH)\n",
    "else:\n",
    "    df_und_prices = get_pickle(UND_PRICE_PATH)"
   ]
  },
  {
   "cell_type": "markdown",
   "metadata": {},
   "source": [
    "## Build / Extract the chains"
   ]
  },
  {
   "cell_type": "code",
   "execution_count": 5,
   "metadata": {},
   "outputs": [],
   "source": [
    "# imports\n",
    "import asyncio\n",
    "from utils import make_chains, pickle_me\n",
    "\n",
    "# inputs\n",
    "contracts = df_unds.contract"
   ]
  },
  {
   "cell_type": "code",
   "execution_count": 6,
   "metadata": {},
   "outputs": [
    {
     "name": "stderr",
     "output_type": "stream",
     "text": [
      "Getting chains: 100%|██████████| 8/8 [01:57<00:00, 14.70s/it]\n"
     ]
    }
   ],
   "source": [
    "# Get chains\n",
    "CHAIN_PATH = DATAPATH / 'df_chains.pkl'\n",
    "chains_file_age = get_file_age(CHAIN_PATH)\n",
    "\n",
    "if not chains_file_age:\n",
    "    age_in_days = 1\n",
    "else:\n",
    "    age_in_days = chains_file_age.td.total_seconds()/60/60/12\n",
    "    \n",
    "if age_in_days >= 1:\n",
    "    df_chains = asyncio.run(make_chains(port=PORT, contracts=contracts, MARKET=MARKET))\n",
    "    pickle_me(df_chains, CHAIN_PATH)\n",
    "else:\n",
    "    df_chains = get_pickle(CHAIN_PATH)"
   ]
  },
  {
   "cell_type": "code",
   "execution_count": 7,
   "metadata": {},
   "outputs": [
    {
     "data": {
      "text/html": [
       "<div>\n",
       "<style scoped>\n",
       "    .dataframe tbody tr th:only-of-type {\n",
       "        vertical-align: middle;\n",
       "    }\n",
       "\n",
       "    .dataframe tbody tr th {\n",
       "        vertical-align: top;\n",
       "    }\n",
       "\n",
       "    .dataframe thead th {\n",
       "        text-align: right;\n",
       "    }\n",
       "</style>\n",
       "<table border=\"1\" class=\"dataframe\">\n",
       "  <thead>\n",
       "    <tr style=\"text-align: right;\">\n",
       "      <th></th>\n",
       "      <th>symbol</th>\n",
       "      <th>undId</th>\n",
       "      <th>expiry</th>\n",
       "      <th>dte</th>\n",
       "      <th>strike</th>\n",
       "      <th>multiplier</th>\n",
       "      <th>localSymbol</th>\n",
       "      <th>undPrice</th>\n",
       "      <th>iv</th>\n",
       "      <th>sigma</th>\n",
       "      <th>strike_sdev</th>\n",
       "      <th>right</th>\n",
       "      <th>exchange</th>\n",
       "    </tr>\n",
       "  </thead>\n",
       "  <tbody>\n",
       "    <tr>\n",
       "      <th>0</th>\n",
       "      <td>NIFTY50</td>\n",
       "      <td>51497778</td>\n",
       "      <td>20240314</td>\n",
       "      <td>2.402567</td>\n",
       "      <td>9000.0</td>\n",
       "      <td>1</td>\n",
       "      <td>NIFTY50</td>\n",
       "      <td>22332.65</td>\n",
       "      <td>0.121449</td>\n",
       "      <td>220.052189</td>\n",
       "      <td>-60.588581</td>\n",
       "      <td>P</td>\n",
       "      <td>NSE</td>\n",
       "    </tr>\n",
       "    <tr>\n",
       "      <th>1</th>\n",
       "      <td>NIFTY50</td>\n",
       "      <td>51497778</td>\n",
       "      <td>20240314</td>\n",
       "      <td>2.402567</td>\n",
       "      <td>10000.0</td>\n",
       "      <td>1</td>\n",
       "      <td>NIFTY50</td>\n",
       "      <td>22332.65</td>\n",
       "      <td>0.121449</td>\n",
       "      <td>220.052189</td>\n",
       "      <td>-56.044205</td>\n",
       "      <td>P</td>\n",
       "      <td>NSE</td>\n",
       "    </tr>\n",
       "    <tr>\n",
       "      <th>2</th>\n",
       "      <td>NIFTY50</td>\n",
       "      <td>51497778</td>\n",
       "      <td>20240314</td>\n",
       "      <td>2.402567</td>\n",
       "      <td>11000.0</td>\n",
       "      <td>1</td>\n",
       "      <td>NIFTY50</td>\n",
       "      <td>22332.65</td>\n",
       "      <td>0.121449</td>\n",
       "      <td>220.052189</td>\n",
       "      <td>-51.499828</td>\n",
       "      <td>P</td>\n",
       "      <td>NSE</td>\n",
       "    </tr>\n",
       "    <tr>\n",
       "      <th>3</th>\n",
       "      <td>NIFTY50</td>\n",
       "      <td>51497778</td>\n",
       "      <td>20240314</td>\n",
       "      <td>2.402567</td>\n",
       "      <td>12000.0</td>\n",
       "      <td>1</td>\n",
       "      <td>NIFTY50</td>\n",
       "      <td>22332.65</td>\n",
       "      <td>0.121449</td>\n",
       "      <td>220.052189</td>\n",
       "      <td>-46.955452</td>\n",
       "      <td>P</td>\n",
       "      <td>NSE</td>\n",
       "    </tr>\n",
       "    <tr>\n",
       "      <th>4</th>\n",
       "      <td>NIFTY50</td>\n",
       "      <td>51497778</td>\n",
       "      <td>20240314</td>\n",
       "      <td>2.402567</td>\n",
       "      <td>13000.0</td>\n",
       "      <td>1</td>\n",
       "      <td>NIFTY50</td>\n",
       "      <td>22332.65</td>\n",
       "      <td>0.121449</td>\n",
       "      <td>220.052189</td>\n",
       "      <td>-42.411075</td>\n",
       "      <td>P</td>\n",
       "      <td>NSE</td>\n",
       "    </tr>\n",
       "    <tr>\n",
       "      <th>...</th>\n",
       "      <td>...</td>\n",
       "      <td>...</td>\n",
       "      <td>...</td>\n",
       "      <td>...</td>\n",
       "      <td>...</td>\n",
       "      <td>...</td>\n",
       "      <td>...</td>\n",
       "      <td>...</td>\n",
       "      <td>...</td>\n",
       "      <td>...</td>\n",
       "      <td>...</td>\n",
       "      <td>...</td>\n",
       "      <td>...</td>\n",
       "    </tr>\n",
       "    <tr>\n",
       "      <th>63112</th>\n",
       "      <td>BANKBAROD</td>\n",
       "      <td>180222138</td>\n",
       "      <td>20240530</td>\n",
       "      <td>79.401317</td>\n",
       "      <td>370.0</td>\n",
       "      <td>1</td>\n",
       "      <td>BANKBARODA</td>\n",
       "      <td>277.40</td>\n",
       "      <td>0.347298</td>\n",
       "      <td>44.934115</td>\n",
       "      <td>2.060795</td>\n",
       "      <td>C</td>\n",
       "      <td>NSE</td>\n",
       "    </tr>\n",
       "    <tr>\n",
       "      <th>63113</th>\n",
       "      <td>BANKBAROD</td>\n",
       "      <td>180222138</td>\n",
       "      <td>20240530</td>\n",
       "      <td>79.401317</td>\n",
       "      <td>375.0</td>\n",
       "      <td>1</td>\n",
       "      <td>BANKBARODA</td>\n",
       "      <td>277.40</td>\n",
       "      <td>0.347298</td>\n",
       "      <td>44.934115</td>\n",
       "      <td>2.172069</td>\n",
       "      <td>C</td>\n",
       "      <td>NSE</td>\n",
       "    </tr>\n",
       "    <tr>\n",
       "      <th>63114</th>\n",
       "      <td>BANKBAROD</td>\n",
       "      <td>180222138</td>\n",
       "      <td>20240530</td>\n",
       "      <td>79.401317</td>\n",
       "      <td>380.0</td>\n",
       "      <td>1</td>\n",
       "      <td>BANKBARODA</td>\n",
       "      <td>277.40</td>\n",
       "      <td>0.347298</td>\n",
       "      <td>44.934115</td>\n",
       "      <td>2.283343</td>\n",
       "      <td>C</td>\n",
       "      <td>NSE</td>\n",
       "    </tr>\n",
       "    <tr>\n",
       "      <th>63115</th>\n",
       "      <td>BANKBAROD</td>\n",
       "      <td>180222138</td>\n",
       "      <td>20240530</td>\n",
       "      <td>79.401317</td>\n",
       "      <td>385.0</td>\n",
       "      <td>1</td>\n",
       "      <td>BANKBARODA</td>\n",
       "      <td>277.40</td>\n",
       "      <td>0.347298</td>\n",
       "      <td>44.934115</td>\n",
       "      <td>2.394617</td>\n",
       "      <td>C</td>\n",
       "      <td>NSE</td>\n",
       "    </tr>\n",
       "    <tr>\n",
       "      <th>63116</th>\n",
       "      <td>BANKBAROD</td>\n",
       "      <td>180222138</td>\n",
       "      <td>20240530</td>\n",
       "      <td>79.401317</td>\n",
       "      <td>390.0</td>\n",
       "      <td>1</td>\n",
       "      <td>BANKBARODA</td>\n",
       "      <td>277.40</td>\n",
       "      <td>0.347298</td>\n",
       "      <td>44.934115</td>\n",
       "      <td>2.505891</td>\n",
       "      <td>C</td>\n",
       "      <td>NSE</td>\n",
       "    </tr>\n",
       "  </tbody>\n",
       "</table>\n",
       "<p>63117 rows × 13 columns</p>\n",
       "</div>"
      ],
      "text/plain": [
       "          symbol      undId    expiry        dte   strike  multiplier  \\\n",
       "0        NIFTY50   51497778  20240314   2.402567   9000.0           1   \n",
       "1        NIFTY50   51497778  20240314   2.402567  10000.0           1   \n",
       "2        NIFTY50   51497778  20240314   2.402567  11000.0           1   \n",
       "3        NIFTY50   51497778  20240314   2.402567  12000.0           1   \n",
       "4        NIFTY50   51497778  20240314   2.402567  13000.0           1   \n",
       "...          ...        ...       ...        ...      ...         ...   \n",
       "63112  BANKBAROD  180222138  20240530  79.401317    370.0           1   \n",
       "63113  BANKBAROD  180222138  20240530  79.401317    375.0           1   \n",
       "63114  BANKBAROD  180222138  20240530  79.401317    380.0           1   \n",
       "63115  BANKBAROD  180222138  20240530  79.401317    385.0           1   \n",
       "63116  BANKBAROD  180222138  20240530  79.401317    390.0           1   \n",
       "\n",
       "      localSymbol  undPrice        iv       sigma  strike_sdev right exchange  \n",
       "0         NIFTY50  22332.65  0.121449  220.052189   -60.588581     P      NSE  \n",
       "1         NIFTY50  22332.65  0.121449  220.052189   -56.044205     P      NSE  \n",
       "2         NIFTY50  22332.65  0.121449  220.052189   -51.499828     P      NSE  \n",
       "3         NIFTY50  22332.65  0.121449  220.052189   -46.955452     P      NSE  \n",
       "4         NIFTY50  22332.65  0.121449  220.052189   -42.411075     P      NSE  \n",
       "...           ...       ...       ...         ...          ...   ...      ...  \n",
       "63112  BANKBARODA    277.40  0.347298   44.934115     2.060795     C      NSE  \n",
       "63113  BANKBARODA    277.40  0.347298   44.934115     2.172069     C      NSE  \n",
       "63114  BANKBARODA    277.40  0.347298   44.934115     2.283343     C      NSE  \n",
       "63115  BANKBARODA    277.40  0.347298   44.934115     2.394617     C      NSE  \n",
       "63116  BANKBARODA    277.40  0.347298   44.934115     2.505891     C      NSE  \n",
       "\n",
       "[63117 rows x 13 columns]"
      ]
     },
     "execution_count": 7,
     "metadata": {},
     "output_type": "execute_result"
    }
   ],
   "source": [
    "df_chains"
   ]
  },
  {
   "cell_type": "markdown",
   "metadata": {},
   "source": [
    "## Integrate undPrices and undIV to the chains"
   ]
  },
  {
   "cell_type": "code",
   "execution_count": 8,
   "metadata": {},
   "outputs": [],
   "source": [
    "und_price_dict = df_und_prices.set_index('symbol').price.dropna().to_dict()\n",
    "und_iv_dict = df_und_prices.set_index('symbol').iv.dropna().to_dict()\n",
    "\n",
    "# Replace undPrice and ivs where available\n",
    "df_chains.undPrice = df_chains.symbol.map(und_price_dict).fillna(df_chains.undPrice)\n",
    "df_chains.iv = df_chains.symbol.map(und_iv_dict).fillna(df_chains.iv)"
   ]
  },
  {
   "cell_type": "markdown",
   "metadata": {},
   "source": [
    "## Re-calculate `sigma` and `strike_sdev`"
   ]
  },
  {
   "cell_type": "code",
   "execution_count": 9,
   "metadata": {},
   "outputs": [],
   "source": [
    "from utils import compute_strike_sd_right\n",
    "\n",
    "df_chains = compute_strike_sd_right(df_chains)"
   ]
  },
  {
   "cell_type": "markdown",
   "metadata": {},
   "source": [
    "## Get chains with closest strike price to underlying"
   ]
  },
  {
   "cell_type": "code",
   "execution_count": 10,
   "metadata": {},
   "outputs": [],
   "source": [
    "# imports\n",
    "from utils import get_closest_values"
   ]
  },
  {
   "cell_type": "code",
   "execution_count": 11,
   "metadata": {},
   "outputs": [],
   "source": [
    "def get_strike_closest_to_und(df_chains: pd.DataFrame, \n",
    "                              how_many: int= -1) -> pd.DataFrame:\n",
    "    \n",
    "    \"\"\"\n",
    "    Gets option contracts closest to strike for every expiry\\n\n",
    "    For SNP only the lowest dte is taken\\n\n",
    "    Useful to get reference margins.\n",
    "    int: -1 for closest Put\n",
    "    \"\"\"\n",
    "\n",
    "    if set(df_chains.exchange.to_numpy()).pop() == 'SNP':\n",
    "        df_chains = df_chains.loc[df_chains.groupby(['symbol', 'right', 'strike']).dte.idxmin()]\\\n",
    "                            .reset_index(drop=True)\n",
    "\n",
    "    strk_near_und = df_chains.groupby(['symbol', 'dte'])[['strike', 'undPrice']]\\\n",
    "        .apply(lambda x: get_closest_values(x.strike, \n",
    "                                            x.undPrice.min(), \n",
    "                                            how_many))\n",
    "    strk_near_und.name = 'strk_near_und'\n",
    "\n",
    "    df_ch1 = df_chains.set_index(['symbol', 'dte']).join(strk_near_und)\n",
    "    df_ch = df_ch1[df_ch1.apply(lambda x: x.strike in x.strk_near_und, axis=1)] \\\n",
    "                            .reset_index()\n",
    "    \n",
    "    return df_ch"
   ]
  },
  {
   "cell_type": "code",
   "execution_count": 12,
   "metadata": {},
   "outputs": [],
   "source": [
    "df_ch = get_strike_closest_to_und(df_chains)"
   ]
  },
  {
   "cell_type": "markdown",
   "metadata": {},
   "source": [
    "## Get the lots"
   ]
  },
  {
   "cell_type": "code",
   "execution_count": 13,
   "metadata": {},
   "outputs": [],
   "source": [
    "from utils import get_lots\n",
    "\n",
    "lots_dict = dict()\n",
    "\n",
    "for k, v in unds.items():\n",
    "    if v.exchange.upper() == 'NSE':\n",
    "        lots_dict[k] = get_lots(v)\n",
    "    else:\n",
    "        lots_dict[k] = 1\n",
    "        \n",
    "# integrate with df_ch\n",
    "df_ch['lot'] = df_ch.symbol.map(lots_dict)"
   ]
  },
  {
   "cell_type": "markdown",
   "metadata": {},
   "source": [
    "## Get margins for with qty as the lot"
   ]
  },
  {
   "cell_type": "code",
   "execution_count": 14,
   "metadata": {},
   "outputs": [],
   "source": [
    "# imports\n",
    "import asyncio\n",
    "\n",
    "from ib_insync import MarketOrder\n",
    "\n",
    "from utils import get_margins, make_a_raw_contract\n",
    "\n",
    "opt_contracts = [make_a_raw_contract(symbol=symbol, MARKET=MARKET, secType='OPT', strike=strike, right=right, expiry=expiry)\n",
    " for symbol, strike, right, expiry in zip(df_ch.symbol, df_ch.strike, df_ch.right, df_ch.expiry)]\n",
    "\n",
    "orders = [MarketOrder(action='SELL', totalQuantity=qty) for qty in df_ch.lot]"
   ]
  },
  {
   "cell_type": "code",
   "execution_count": 15,
   "metadata": {},
   "outputs": [
    {
     "name": "stderr",
     "output_type": "stream",
     "text": [
      "Getting margins:100%|█████████████████████████| 574/574 [02:08<00:00,  4.47it/s]\n"
     ]
    }
   ],
   "source": [
    "df_margins = asyncio.run(get_margins(port=PORT, contracts=opt_contracts, orders=orders))"
   ]
  },
  {
   "cell_type": "markdown",
   "metadata": {},
   "source": [
    "## Integrate with maximum margin, wherever possible"
   ]
  },
  {
   "cell_type": "code",
   "execution_count": 16,
   "metadata": {},
   "outputs": [],
   "source": [
    "import numpy as np"
   ]
  },
  {
   "cell_type": "code",
   "execution_count": 17,
   "metadata": {},
   "outputs": [],
   "source": [
    "# Integration of margins and commissions\n",
    "\n",
    "cols = ['symbol', 'expiry', 'strike', 'right']\n",
    "mgn_cols = cols + ['margin', 'comm']\n",
    "df_chm = pd.merge(df_ch, df_margins[mgn_cols], on=cols, suffixes=[False, '_y']).\\\n",
    "           drop(columns=['strk_near_und'], errors='ignore')\n",
    "\n",
    "chain_cols = ['symbol', 'expiry']\n",
    "ch_cols = chain_cols + ['lot', 'margin', 'comm']\n",
    "\n",
    "df_out = pd.merge(df_chains, df_chm[ch_cols], on=chain_cols, suffixes=[False, '_y'])\n",
    "\n",
    "# fill missing commissions with max per symbol\n",
    "commissions = df_chm.groupby('symbol').comm.max().to_dict()\n",
    "df_out.comm = df_out.comm.fillna(df_out.symbol.map(commissions))\n",
    "\n",
    "# fill remaining commissions\n",
    "df_out.comm = df_out.comm.fillna(max(commissions.values()))\n",
    "\n",
    "# fill margins\n",
    "mgn_dict = df_out.groupby('symbol').margin.max().to_dict()\n",
    "cond = df_out.margin.isnull()\n",
    "df_out.loc[cond, 'margin'] = df_out[cond].symbol.map(mgn_dict)\n",
    "\n",
    "# make zero margin as nan\n",
    "zero_margin_condition = df_out.margin == 0\n",
    "df_out.loc[zero_margin_condition, 'margin'] = np.nan"
   ]
  },
  {
   "cell_type": "raw",
   "metadata": {},
   "source": [
    "# Integration of margins\n",
    "\n",
    "cols = ['symbol', 'expiry', 'strike', 'right']\n",
    "mgn_cols = cols + ['margin', 'comm']\n",
    "df_ch = pd.merge(df_ch, df_margins[mgn_cols], on=cols, suffixes=[False, '_y']).\\\n",
    "           drop(columns=['strk_near_und'], errors='ignore')\n",
    "\n",
    "# fill missing margins and commissions\n",
    "df_ch.comm = df_ch.comm.max() # !!! For NSE only.\n",
    "\n",
    "mgn_dict = df_ch.groupby('symbol').margin.max().to_dict()\n",
    "cond = df_ch.margin.isnull()\n",
    "df_ch.loc[cond, 'margin'] = df_ch[cond].symbol.map(mgn_dict)\n",
    "\n",
    "# make zero margin as nan\n",
    "zero_margin_condition = df_ch.margin == 0\n",
    "df_ch.loc[zero_margin_condition, 'margin'] = np.nan\n",
    "\n",
    "# finally integrate market margins\n",
    "chain_cols = ['symbol', 'expiry']\n",
    "ch_cols = chain_cols + ['lot', 'margin', 'comm']\n",
    "\n",
    "df_out = pd.merge(df_chains, df_ch[ch_cols], on=chain_cols, suffixes=[False, '_y'])"
   ]
  },
  {
   "cell_type": "markdown",
   "metadata": {},
   "source": [
    "## Make logic for margins from NSE rules"
   ]
  },
  {
   "cell_type": "code",
   "execution_count": null,
   "metadata": {},
   "outputs": [],
   "source": [
    "# list of options without margins\n",
    "df1 = df_chm[df_chm.margin.isnull()]\n",
    "df1.head()\n"
   ]
  },
  {
   "cell_type": "code",
   "execution_count": null,
   "metadata": {},
   "outputs": [],
   "source": [
    "# Get missing margin percentages from zerodha margin calculator\n",
    "\n",
    "from io import StringIO\n",
    "from requests import Session\n",
    "import re\n",
    "\n",
    "from utils import get_nse_native_fno_list\n",
    "from icecream import ic"
   ]
  },
  {
   "cell_type": "code",
   "execution_count": null,
   "metadata": {},
   "outputs": [],
   "source": [
    "\n",
    "\n",
    "# get nse native list\n",
    "nselist = get_nse_native_fno_list()"
   ]
  },
  {
   "cell_type": "code",
   "execution_count": null,
   "metadata": {},
   "outputs": [],
   "source": [
    "# !!! NO NEED FOR THIS ALREADY THERE IN `localSymbol` field!!!\n",
    "# create nse symbols for missing margin list\n",
    "\n",
    "ib2nse = dict()\n",
    "\n",
    "for ibs in df1.symbol.unique():\n",
    "    for s in nselist:        \n",
    "        if ibs in s:\n",
    "            nsesym = nselist[nselist.index(s)]\n",
    "            ib2nse[ibs] = s\n",
    "            \n",
    "df2 = df1.assign(nse_symbol=df1.symbol.map(ib2nse))"
   ]
  },
  {
   "cell_type": "code",
   "execution_count": null,
   "metadata": {},
   "outputs": [],
   "source": [
    "df2.assign(nse_expiry =df2.nse_symbol + pd.to_datetime(df2.expiry, yearfirst=True).dt.strftime('%d%b').str.upper())"
   ]
  },
  {
   "cell_type": "code",
   "execution_count": null,
   "metadata": {},
   "outputs": [],
   "source": [
    "def zerodah_margin(scrip: str,\n",
    "                   strike_price: int, \n",
    "                   qty: int, \n",
    "                   option_type: str = 'PE', \n",
    "                   trade: str='sell') -> dict:\n",
    "    \n",
    "    \"\"\"Gets zerodah margins for NSE\n",
    "    scrip: symbol should be as per NSE eg. `ZEEL24MAR`\n",
    "    \"\"\"\n",
    "\n",
    "    BASE_URL = 'https://zerodha.com/margin-calculator/SPAN'\n",
    "\n",
    "    payload = {'action': 'calculate',\n",
    "                'exchange[]': 'NFO',\n",
    "                'product[]': 'FUT',\n",
    "                'scrip[]': scrip,   # in `ZEEL24MAR` format\n",
    "                'option_type[]': 'PE',\n",
    "                'strike_price[]':280, \n",
    "                'qty[]': 2925,\n",
    "                'trade[]': 'sell'   # 'buy' or 'sell'\n",
    "    }\n",
    "\n",
    "    session = Session()\n",
    "\n",
    "    res = session.post(BASE_URL, data=payload)\n",
    "\n",
    "    data = res.json()\n",
    "\n",
    "    return data"
   ]
  },
  {
   "cell_type": "markdown",
   "metadata": {},
   "source": [
    "## Replace `nan` margins with the one derived from logic"
   ]
  }
 ],
 "metadata": {
  "kernelspec": {
   "display_name": ".venv",
   "language": "python",
   "name": "python3"
  },
  "language_info": {
   "codemirror_mode": {
    "name": "ipython",
    "version": 3
   },
   "file_extension": ".py",
   "mimetype": "text/x-python",
   "name": "python",
   "nbconvert_exporter": "python",
   "pygments_lexer": "ipython3",
   "version": "3.11.5"
  }
 },
 "nbformat": 4,
 "nbformat_minor": 2
}
