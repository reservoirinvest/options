{
 "cells": [
  {
   "cell_type": "code",
   "execution_count": 1,
   "metadata": {
    "jupyter": {
     "source_hidden": true
    }
   },
   "outputs": [],
   "source": [
    "## THIS CELL SHOULD BE IN ALL VSCODE NOTEBOOKS ##\n",
    "\n",
    "MARKET = 'SNP'\n",
    "\n",
    "import pandas as pd\n",
    "pd.options.display.max_columns=None\n",
    "\n",
    "# Add `src` to _src.pth in .venv to allow imports in VS Code\n",
    "from sysconfig import get_path\n",
    "from pathlib import Path\n",
    "if 'src' not in Path.cwd().parts:\n",
    "    src_path = str(Path(get_path('purelib')) / '_src.pth')\n",
    "    with open(src_path, 'w') as f:\n",
    "        f.write(str(Path.cwd() / 'src\\n'))\n",
    "\n",
    "# Start the Jupyter loop\n",
    "from ib_insync import util\n",
    "util.startLoop()"
   ]
  },
  {
   "cell_type": "code",
   "execution_count": 2,
   "metadata": {},
   "outputs": [],
   "source": [
    "# Imports \n",
    "from utils import Vars, get_pickle\n",
    "\n",
    "# Set the root\n",
    "from from_root import from_root\n",
    "ROOT = from_root()\n",
    "\n",
    "_vars = Vars(MARKET)\n",
    "PORT = port = _vars.PORT\n",
    "OPT_COLS = _vars.OPT_COLS[0]\n",
    "DATAPATH = ROOT / 'data' / MARKET.lower()\n"
   ]
  },
  {
   "cell_type": "markdown",
   "metadata": {},
   "source": [
    "# TODO list\n",
    "## NSE\n",
    "- [x] NSE site csv extract\n",
    "- [x] Reconstruct lots for NSE\n",
    "- [ ] Correct `get_lots` function\n",
    "- [ ] Add group_type for NSE margin calc\n",
    "- [ ] Margin calc formula based on NSE table and und_price\n",
    "\n",
    "## SNP\n",
    "- [ ] Margin calc forumula based on IBKR table\n",
    "\n",
    "## General\n",
    "- [ ] Correct chain making to include lots and margins in df_chains\n",
    "- [ ] Correct build base to have default lots and margins\n",
    "\n"
   ]
  },
  {
   "cell_type": "markdown",
   "metadata": {},
   "source": [
    "# Correct `get_lots` function"
   ]
  },
  {
   "cell_type": "code",
   "execution_count": null,
   "metadata": {},
   "outputs": [],
   "source": []
  },
  {
   "cell_type": "markdown",
   "metadata": {},
   "source": [
    "# Make margins for `unds`"
   ]
  },
  {
   "cell_type": "code",
   "execution_count": null,
   "metadata": {},
   "outputs": [],
   "source": [
    "# imports\n",
    "import asyncio\n",
    "import json\n",
    "\n",
    "from utils import get_lots, get_mkt_prices, get_pickle, get_nse_payload"
   ]
  },
  {
   "cell_type": "code",
   "execution_count": null,
   "metadata": {},
   "outputs": [],
   "source": [
    "# Get und_prices\n",
    "unds = get_pickle(DATAPATH / 'unds.pkl')\n",
    "df_unds = pd.DataFrame.from_dict(unds.items())\n",
    "df_unds.columns = ['symbol', 'contract']\n",
    "\n",
    "# df_und_prices = asyncio.run(get_mkt_prices(port=PORT, contracts = df_unds.contract))"
   ]
  },
  {
   "cell_type": "raw",
   "metadata": {},
   "source": [
    "# get lots\n",
    "lots = df_unds.contract.apply(lambda x: get_lots(x))\n",
    "# df_und_prices = df_und_prices.assign(lots=lots)"
   ]
  },
  {
   "cell_type": "code",
   "execution_count": null,
   "metadata": {},
   "outputs": [],
   "source": [
    "# url = 'https://www.nseindia.com/api/equity-stockIndices?index=SECURITIES%20IN%20F%26O' # fno list\n",
    "# url = 'https://nsearchives.nseindia.com/content/nsccl/C_CATG.T01'\n"
   ]
  },
  {
   "cell_type": "markdown",
   "metadata": {},
   "source": [
    "# Check out `margins`"
   ]
  },
  {
   "cell_type": "markdown",
   "metadata": {},
   "source": [
    "## For Options"
   ]
  },
  {
   "cell_type": "code",
   "execution_count": null,
   "metadata": {},
   "outputs": [],
   "source": [
    "from utils import get_pickle, clean_ib_util_df\n",
    "\n",
    "# Get sample option contracts\n",
    "df_opt = get_pickle(DATAPATH / 'df_opt_margins.pkl')\n",
    "cond = df_opt.margin.isnull() | (df_opt.margin == 0)\n",
    "df_opt = df_opt[cond].sample(80)\n"
   ]
  },
  {
   "cell_type": "code",
   "execution_count": null,
   "metadata": {},
   "outputs": [],
   "source": [
    "from ib_insync import MarketOrder, IB\n",
    "from utils import get_lots, chunk_me\n",
    "from tqdm.asyncio import tqdm\n",
    "import asyncio\n",
    "\n",
    "# inputs\n",
    "df = df_opt\n",
    "lots_path = None\n",
    "desc = \"Getting Margins\"\n"
   ]
  },
  {
   "cell_type": "code",
   "execution_count": null,
   "metadata": {},
   "outputs": [],
   "source": [
    "lots = df.contract.apply(lambda x: get_lots(contract=x, lots_path=lots_path))\n",
    "df.order = [MarketOrder(action='SELL', totalQuantity=lot) for lot in lots]\n",
    "cos = list(zip(df.contract, df.order))\n",
    "chunks = chunk_me(data=cos, size=25)\n"
   ]
  },
  {
   "cell_type": "code",
   "execution_count": null,
   "metadata": {},
   "outputs": [],
   "source": [
    "c, o = cos[0]\n",
    "clean_ib_util_df([c])"
   ]
  },
  {
   "cell_type": "code",
   "execution_count": null,
   "metadata": {},
   "outputs": [],
   "source": [
    "async def get_margins(port: int, chunks: list, desc: str):\n",
    "\n",
    "    results = list()\n",
    "\n",
    "    async def wif(c, o):\n",
    "        df = util.df([c])\n",
    "        margin = await ib.whatIfOrderAsync(c, o)\n",
    "        \n",
    "        return {conId: margin}\n",
    "    \n",
    "    for cos in tqdm(chunks, desc=desc):\n",
    "        tasks = set()\n",
    "        with await IB().connectAsync(port=port) as ib:\n",
    "            for c, o in cos:\n",
    "                tasks.add(wif(c, o))\n",
    "            res = await asyncio.gather(*tasks)\n",
    "            results += res\n",
    "\n",
    "    return results\n",
    "        "
   ]
  },
  {
   "cell_type": "code",
   "execution_count": null,
   "metadata": {},
   "outputs": [],
   "source": [
    "output = asyncio.run(get_margins(port=PORT, chunks=chunks, desc=desc))"
   ]
  },
  {
   "cell_type": "code",
   "execution_count": null,
   "metadata": {},
   "outputs": [],
   "source": [
    "output"
   ]
  },
  {
   "cell_type": "code",
   "execution_count": null,
   "metadata": {},
   "outputs": [],
   "source": []
  },
  {
   "cell_type": "code",
   "execution_count": null,
   "metadata": {},
   "outputs": [],
   "source": []
  },
  {
   "cell_type": "code",
   "execution_count": null,
   "metadata": {},
   "outputs": [],
   "source": [
    "from utils import clean_a_margin\n"
   ]
  },
  {
   "cell_type": "code",
   "execution_count": null,
   "metadata": {},
   "outputs": [],
   "source": []
  }
 ],
 "metadata": {
  "kernelspec": {
   "display_name": "Python 3 (ipykernel)",
   "language": "python",
   "name": "python3"
  },
  "language_info": {
   "codemirror_mode": {
    "name": "ipython",
    "version": 3
   },
   "file_extension": ".py",
   "mimetype": "text/x-python",
   "name": "python",
   "nbconvert_exporter": "python",
   "pygments_lexer": "ipython3",
   "version": "3.11.5"
  }
 },
 "nbformat": 4,
 "nbformat_minor": 4
}
