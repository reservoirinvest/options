{
 "cells": [
  {
   "cell_type": "code",
   "execution_count": null,
   "metadata": {},
   "outputs": [],
   "source": [
    "## THIS CELL SHOULD BE IN ALL VSCODE NOTEBOOKS ##\n",
    "\n",
    "MARKET = 'NSE'\n",
    "\n",
    "import pandas as pd\n",
    "pd.options.display.max_columns=None\n",
    "\n",
    "# Add `src` to _src.pth in .venv to allow imports in VS Code\n",
    "from sysconfig import get_path\n",
    "from pathlib import Path\n",
    "if 'src' not in Path.cwd().parts:\n",
    "    src_path = str(Path(get_path('purelib')) / '_src.pth')\n",
    "    with open(src_path, 'w') as f:\n",
    "        f.write(str(Path.cwd() / 'src\\n'))\n",
    "\n",
    "# Start the Jupyter loop\n",
    "from ib_insync import util, IB\n",
    "util.startLoop()"
   ]
  },
  {
   "cell_type": "code",
   "execution_count": null,
   "metadata": {},
   "outputs": [],
   "source": [
    "# Set the root\n",
    "from from_root import from_root\n",
    "ROOT = from_root()\n",
    "\n",
    "from utils import Vars\n",
    "_vars = Vars(MARKET)\n",
    "PORT = _vars.PORT\n",
    "PAPER = _vars.PAPER \n",
    "OPT_COLS = _vars.OPT_COLS[0]\n",
    "DATAPATH = ROOT / 'data' / MARKET.lower()"
   ]
  },
  {
   "cell_type": "markdown",
   "metadata": {},
   "source": [
    "# Making `Rule of 25` for margins\n",
    "- [x] Get undPrices with IVs\n",
    "- [x] Get / Make the option chains\n",
    "- [ ] Make margin functions for snp and nse\n",
    "- [ ] Compute margins from unds\n",
    "- [ ] Check margins against sample options\n",
    "- [ ] See if curve fitting is needed with appropriate `penalty` based on DTE and strike\n",
    "- [ ] Compute `computedmgn` and populate df_chains"
   ]
  },
  {
   "cell_type": "code",
   "execution_count": null,
   "metadata": {},
   "outputs": [],
   "source": [
    "# imports\n",
    "import asyncio\n",
    "import numpy as np\n",
    "from utils import get_pickle, get_mkt_prices, get_lots"
   ]
  },
  {
   "cell_type": "markdown",
   "metadata": {},
   "source": [
    "## Getting underlying prices"
   ]
  },
  {
   "cell_type": "code",
   "execution_count": null,
   "metadata": {},
   "outputs": [],
   "source": [
    "# Get und_prices\n",
    "unds = get_pickle(DATAPATH / 'unds.pkl')\n",
    "df_unds = pd.DataFrame.from_dict(unds.items())\n",
    "df_unds.columns = ['symbol', 'contract']"
   ]
  },
  {
   "cell_type": "code",
   "execution_count": null,
   "metadata": {},
   "outputs": [],
   "source": [
    "TEMP_PATH = DATAPATH.parent / 'ztemp' / f\"{MARKET.lower()}_df_und_prices.pkl\"\n"
   ]
  },
  {
   "cell_type": "code",
   "execution_count": null,
   "metadata": {},
   "outputs": [],
   "source": [
    "# # Get prices of unds.\n",
    "# df_prices = asyncio.run(get_mkt_prices(port=PORT, contracts=df_unds.contract))\n",
    "# from utils import pickle_me\n",
    "# pickle_me(df_prices, TEMP_PATH)"
   ]
  },
  {
   "cell_type": "code",
   "execution_count": null,
   "metadata": {},
   "outputs": [],
   "source": [
    "# ! for faster notebook loads\n",
    "df_und_prices = get_pickle(TEMP_PATH)\n"
   ]
  },
  {
   "cell_type": "markdown",
   "metadata": {},
   "source": [
    "## Make the `chains`, check and save"
   ]
  },
  {
   "cell_type": "code",
   "execution_count": null,
   "metadata": {},
   "outputs": [],
   "source": [
    "import asyncio\n",
    "from utils import make_chains, pickle_me"
   ]
  },
  {
   "cell_type": "code",
   "execution_count": null,
   "metadata": {},
   "outputs": [],
   "source": [
    "TEMP_CHAIN = DATAPATH.parent / 'ztemp' / f\"{MARKET.lower()}_df_chains.pkl\""
   ]
  },
  {
   "cell_type": "code",
   "execution_count": null,
   "metadata": {},
   "outputs": [],
   "source": [
    "from utils import get_a_price_iv, combine_a_chain_with_stdev"
   ]
  },
  {
   "cell_type": "code",
   "execution_count": null,
   "metadata": {},
   "outputs": [],
   "source": [
    "symbol = 'RELIANCE'\n",
    "contract = df_unds.contract[df_unds.symbol== symbol].iloc[0]\n",
    "contract"
   ]
  },
  {
   "cell_type": "code",
   "execution_count": null,
   "metadata": {},
   "outputs": [],
   "source": [
    "## Make chains for underlying contracts\n",
    "# contracts = df_unds.contract\n",
    "\n",
    "# df_chains = asyncio.run(make_chains(port=PORT, contracts=contracts, MARKET=MARKET))\n",
    "# pickle_me(df_chains, TEMP_CHAIN)"
   ]
  },
  {
   "cell_type": "code",
   "execution_count": null,
   "metadata": {},
   "outputs": [],
   "source": [
    "# ! for faster noetbook loads\n",
    "df_chains = get_pickle(TEMP_CHAIN)"
   ]
  },
  {
   "cell_type": "markdown",
   "metadata": {},
   "source": [
    "## For SNP"
   ]
  },
  {
   "cell_type": "code",
   "execution_count": null,
   "metadata": {},
   "outputs": [],
   "source": [
    "# get lots\n",
    "lots = get_pickle(DATAPATH / 'lots.pkl', print_msg=False)\n",
    "if not lots:\n",
    "    unds = get_pickle(DATAPATH / 'unds.pkl')\n",
    "    lots = {s: get_lots(c) for s, c in unds.items()}\n"
   ]
  },
  {
   "cell_type": "code",
   "execution_count": null,
   "metadata": {},
   "outputs": [],
   "source": [
    "# merge lots into df_und_prices\n",
    "df_und_prices = df_und_prices.assign(lot = df_und_prices.symbol.map(lots),\n",
    "                                     mgnCompute = np.nan)"
   ]
  },
  {
   "cell_type": "code",
   "execution_count": null,
   "metadata": {},
   "outputs": [],
   "source": [
    "df_und_prices.dtypes"
   ]
  },
  {
   "cell_type": "code",
   "execution_count": null,
   "metadata": {},
   "outputs": [],
   "source": [
    "# margin_compute is 30% of value\n",
    "gt_16_67 = df_und_prices.price > 16.67\n",
    "\n",
    "# margin_compute is 30% of $5 per share\n",
    "gt_5_lt_16_67 = (df_und_prices.price > 5) & (df_und_prices.price <= 16.67)\n",
    "\n",
    "# margin_compute is 100% of stock value\n",
    "lt_5 = (df_und_prices.price > 2.5) & (df_und_prices.price <= 5)\n",
    "\n",
    "# margin_compute is 100% of $2.5\n",
    "lt_2_5 = (df_und_prices.price <= 2.5)\n",
    "\n",
    "df_und_prices.loc[gt_16_67, 'mgnCompute'] = df_und_prices[gt_16_67].price * df_und_prices[gt_16_67].lot * 0.3\n"
   ]
  },
  {
   "cell_type": "code",
   "execution_count": null,
   "metadata": {},
   "outputs": [],
   "source": [
    "condition = df_und_prices.mgnCompute.isnull()\n",
    "condition = df_und_prices.symbol == 'CMG'\n",
    "df_und_prices[condition]"
   ]
  },
  {
   "cell_type": "code",
   "execution_count": null,
   "metadata": {},
   "outputs": [],
   "source": [
    "13000/1401/100"
   ]
  },
  {
   "cell_type": "code",
   "execution_count": null,
   "metadata": {},
   "outputs": [],
   "source": [
    "get_pickle(DATAPATH / 'df_naked_targets.pkl')"
   ]
  },
  {
   "cell_type": "code",
   "execution_count": null,
   "metadata": {},
   "outputs": [],
   "source": []
  },
  {
   "cell_type": "code",
   "execution_count": null,
   "metadata": {},
   "outputs": [],
   "source": []
  },
  {
   "cell_type": "code",
   "execution_count": null,
   "metadata": {},
   "outputs": [],
   "source": [
    "pickled_chains = DATAPATH / 'df_chains.pkl'\n",
    "MINUTES_GAP = 15 # Ensures that the files are updated at least 4 times an hour!\n",
    "\n",
    "# check age of `df_chains.pkl`\n",
    "pickle_chains_age = get_file_age(pickled_chains)\n",
    "\n",
    "# get the pickled chains and remove dte <=0\n",
    "df_chains = get_pickle(pickled_chains)\n",
    "\n",
    "td_in_minutes = pickle_chains_age.td.total_seconds()/60\n",
    "\n",
    "if td_in_minutes > MINUTES_GAP:\n",
    "    df_chains = update_chains_dte(df_chains, MARKET)\n",
    "    df = compute_sdev_right(df_chains)\n",
    "    pickle_me(df, pickled_chains)"
   ]
  },
  {
   "cell_type": "markdown",
   "metadata": {},
   "source": [
    "### Calculate `sdev` and `right`"
   ]
  },
  {
   "cell_type": "raw",
   "metadata": {},
   "source": [
    "def compute_sdev_right(df: pd.DataFrame) -> pd.DataFrame:\n",
    "    \"\"\"Computes sdev and right for option chains\n",
    "    \n",
    "    Note:\n",
    "    ----\n",
    "    Function needs `iv`, `undprice` and `dte` columns in df\"\"\"\n",
    "\n",
    "    # remove dtes <= 0 to prevent math failure\n",
    "    df = df[df.dte > 0].reset_index(drop=True)\n",
    "\n",
    "    # compute sdev\n",
    "    df = df.assign(sigma=df[['iv', 'undPrice', 'dte']].\\\n",
    "                    apply(lambda x: get_a_stdev(x.iv, x.undPrice, x.dte), axis=1))\n",
    "\n",
    "    df = df.assign(sdev = (df.strike - df.undPrice) / df.sigma)\n",
    "\n",
    "    # determine the right\n",
    "    df = df.assign(right = df.sdev.apply(lambda sdev: 'P' if sdev < 0 else 'C'))\n",
    "\n",
    "    return df"
   ]
  },
  {
   "cell_type": "code",
   "execution_count": null,
   "metadata": {},
   "outputs": [],
   "source": [
    "from utils import get_a_stdev"
   ]
  },
  {
   "cell_type": "code",
   "execution_count": null,
   "metadata": {},
   "outputs": [],
   "source": [
    "def compute_strike_sd_right(df: pd.DataFrame) -> pd.DataFrame:\n",
    "    \"\"\"Computes strike's standard deviation and right for option chains\n",
    "    \n",
    "    Note:\n",
    "    ----\n",
    "    Function needs `iv`, `undprice` and `dte` columns in df\"\"\"\n",
    "\n",
    "    # remove dtes <= 0 to prevent math failure\n",
    "    df = df[df.dte > 0].reset_index(drop=True)\n",
    "\n",
    "    # compute strike's standard deviation\n",
    "    df = df.assign(sigma=df[['iv', 'undPrice', 'dte']].\\\n",
    "                    apply(lambda x: get_a_stdev(x.iv, x.undPrice, x.dte), axis=1))\n",
    "\n",
    "    df = df.assign(strike_sdev = (df.strike - df.undPrice) / df.sigma)\n",
    "\n",
    "    # determine the right\n",
    "    df = df.assign(right = df.strike_sdev.apply(lambda strike_sdev: 'P' if strike_sdev < 0 else 'C'))\n",
    "\n",
    "    return df"
   ]
  },
  {
   "cell_type": "code",
   "execution_count": null,
   "metadata": {},
   "outputs": [],
   "source": [
    "def target_options_with_adjusted_sdev(df_chains: pd.DataFrame,\n",
    "                                      STDMULT: float,\n",
    "                                      how_many: int,\n",
    "                                      DTESTDEVLOW: float, \n",
    "                                      DTESTDEVHI: float,\n",
    "                                      DECAYRATE: float,\n",
    "                                      MARKET_IS_OPEN: bool) -> pd.DataFrame:\n",
    "    \n",
    "    \"\"\"Adjust the standard deviation to DTE, penalizes DTES closer to zero\"\"\"\n",
    "\n",
    "    # Get the extra SD adjusted to DTE\n",
    "    # xtra_sd = 1-(df_chains.dte/100)\n",
    "\n",
    "    MARKET = df_chains.exchange.unique()[0]\n",
    "\n",
    "    _vars = Vars(MARKET)\n",
    "\n",
    "    # Factor a bump to dev if market is not open\n",
    "    if MARKET_IS_OPEN:\n",
    "        GAPBUMP = 0\n",
    "    else:\n",
    "        GAPBUMP = _vars.GAPBUMP\n",
    "\n",
    "    xtra_sd = df_chains.dte.apply(lambda dte: sdev_for_dte(dte=dte,\n",
    "                                                           DTESTDEVLOW=DTESTDEVLOW, \n",
    "                                                           DTESTDEVHI=DTESTDEVHI,\n",
    "                                                           DECAYRATE=DECAYRATE,\n",
    "                                                           GAPBUMP=GAPBUMP\n",
    "                                                           ))\n",
    "\n",
    "    # Build the series for revised SD\n",
    "    sd_revised = STDMULT + xtra_sd if STDMULT > 0 else STDMULT - xtra_sd\n",
    "\n",
    "    # Identify the closest standerd devs to the revised SD\\\n",
    "    df_ch = df_chains.assign(sd_revised=sd_revised)\n",
    "    closest_sdevs = df_ch.groupby(['symbol', 'dte'])[['sdev', 'sd_revised']]\\\n",
    "        .apply(lambda x: get_closest_values(x.sdev, \n",
    "                                            x.sd_revised.min(), \n",
    "                                            how_many))\n",
    "    closest_sdevs.name = 'sdev1' \n",
    "\n",
    "    # Join the closest chains to the closest revised SD\n",
    "    df_ch1 = df_ch.set_index(['symbol', 'dte']).join(closest_sdevs)\n",
    "\n",
    "    # Get the target chains\n",
    "    df_ch2 = df_ch1[df_ch1.apply(lambda x: x.sdev in x.sdev1, axis=1)] \\\n",
    "                        .reset_index()\n",
    "    \n",
    "    return df_ch2"
   ]
  },
  {
   "cell_type": "code",
   "execution_count": null,
   "metadata": {},
   "outputs": [],
   "source": []
  }
 ],
 "metadata": {
  "kernelspec": {
   "display_name": ".venv",
   "language": "python",
   "name": "python3"
  },
  "language_info": {
   "codemirror_mode": {
    "name": "ipython",
    "version": 3
   },
   "file_extension": ".py",
   "mimetype": "text/x-python",
   "name": "python",
   "nbconvert_exporter": "python",
   "pygments_lexer": "ipython3",
   "version": "3.11.5"
  }
 },
 "nbformat": 4,
 "nbformat_minor": 2
}
