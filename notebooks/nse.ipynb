{
 "cells": [
  {
   "cell_type": "code",
   "execution_count": null,
   "metadata": {},
   "outputs": [],
   "source": [
    "## THIS CELL SHOULD BE IN ALL VSCODE NOTEBOOKS ##\n",
    "\n",
    "MARKET = 'NSE'\n",
    "\n",
    "import sys\n",
    "\n",
    "import pandas as pd\n",
    "from from_root import from_root\n",
    "from ib_insync import IB, LimitOrder, util\n",
    "from loguru import logger\n",
    "\n",
    "from src.utils import Vars, get_pickle, place_orders, quick_pf\n",
    "\n",
    "util.startLoop()\n",
    "\n",
    "# Set the root\n",
    "ROOT = from_root()\n",
    "_vars = Vars(MARKET)\n",
    "PORT = port = _vars.PORT\n",
    "DATAPATH = ROOT / 'data' / MARKET\n",
    "\n",
    "# set vscode path\n",
    "sys.path.append(str(ROOT / 'src'))\n",
    "\n",
    "# To import use \n",
    "# from src.<filename> import <function>"
   ]
  },
  {
   "cell_type": "code",
   "execution_count": null,
   "metadata": {},
   "outputs": [],
   "source": [
    "df_tgt = get_pickle(DATAPATH / \"df_naked_targets.pkl\")\n",
    "df = df_tgt.dropna(subset=['expPrice'])\n",
    "\n",
    "OPT_COLS = _vars.OPT_COLS[0]"
   ]
  },
  {
   "cell_type": "code",
   "execution_count": null,
   "metadata": {},
   "outputs": [],
   "source": [
    "# REMOVE PORTFOLIO SYMBOLS FROM TARGET\n",
    "# ====================================\n",
    "\n",
    "# Get the portfolio\n",
    "with IB().connect(port=PORT) as ib:\n",
    "    df_pf = quick_pf(ib)\n",
    "\n",
    "# Remove targets which are already in the portfolio\n",
    "if df_pf:\n",
    "    df = df[~df.symbol.isin(set(df_pf.symbol))]"
   ]
  },
  {
   "cell_type": "code",
   "execution_count": null,
   "metadata": {},
   "outputs": [],
   "source": [
    "# REMOVE OPEN ORDER SYMBOLS\n",
    "# =========================\n",
    "\n",
    "with IB().connect(port=PORT) as ib:\n",
    "    ib.reqAllOpenOrders()  # To kickstart collection of open orders\n",
    "    # ib.sleep(0.3)\n",
    "    trades = ib.trades()\n",
    "\n",
    "if trades:\n",
    "    all_trades_df = (util.df(t.contract for t in trades).join(\n",
    "        util.df(t.orderStatus\n",
    "                for t in trades)).join(util.df(t.order for t in trades),\n",
    "                                        lsuffix=\"_\"))\n",
    "\n",
    "    all_trades_df.rename({\"lastTradeDateOrContractMonth\": \"expiry\"},\n",
    "                            axis=\"columns\",\n",
    "                            inplace=True)\n",
    "    trades_cols = [\"conId\", \"symbol\", \"secType\", \"expiry\",\n",
    "        \"strike\", \"right\", \"orderId\", \"permId\", \"action\",\n",
    "        \"totalQuantity\", \"lmtPrice\", \"status\",]\n",
    "\n",
    "    dfo = all_trades_df[trades_cols]\n",
    "    df_openords = dfo[all_trades_df.status.isin(_vars. ACTIVE_STATUS)]\n",
    "\n",
    "else:\n",
    "    df_openords = None\n",
    "    \n",
    "\n",
    "try:\n",
    "    if df_openords:  # There are some open orders\n",
    "        df = df[~df.symbol.isin(set(df_openords.symbol))]\n",
    "except ValueError:\n",
    "    pass"
   ]
  },
  {
   "cell_type": "code",
   "execution_count": null,
   "metadata": {},
   "outputs": [],
   "source": [
    "# Make (contract, order) tuple\n",
    "cos = [(contract , LimitOrder('Sell', qty, price))\n",
    "    for contract, qty, price in zip(df.contract, df.lot_size, df.expPrice)]"
   ]
  },
  {
   "cell_type": "code",
   "execution_count": null,
   "metadata": {},
   "outputs": [],
   "source": [
    "len(cos)"
   ]
  },
  {
   "cell_type": "code",
   "execution_count": null,
   "metadata": {},
   "outputs": [],
   "source": [
    "df[['symbol', 'strike', 'undPrice', 'right', 'expiry', 'dte', 'margin', 'optPrice', 'expPrice']].dropna(subset=['optPrice'])"
   ]
  },
  {
   "cell_type": "raw",
   "metadata": {},
   "source": [
    "# PLACE ORDERS\n",
    "# +++++++++++++\n",
    "with IB().connect(port=PORT) as ib:\n",
    "\n",
    "    orders_placed = place_orders(ib, cos)\n",
    "\n",
    "    logger.info(f\"Successfully placed {len(orders_placed)} orders!\")"
   ]
  },
  {
   "cell_type": "raw",
   "metadata": {},
   "source": [
    "# CANCEL ORDERS\n",
    "# -------------\n",
    "\n",
    "open_orders = [t.order for t in trades if t.orderStatus.status in _vars. ACTIVE_STATUS]\n",
    "\n",
    "with IB().connect(port=_vars.MASTER) as ib:\n",
    "    cancelled_orders = [ib.cancelOrder(order) for order in open_orders]\n"
   ]
  },
  {
   "cell_type": "code",
   "execution_count": null,
   "metadata": {},
   "outputs": [],
   "source": []
  }
 ],
 "metadata": {
  "kernelspec": {
   "display_name": ".venv",
   "language": "python",
   "name": "python3"
  },
  "language_info": {
   "codemirror_mode": {
    "name": "ipython",
    "version": 3
   },
   "file_extension": ".py",
   "mimetype": "text/x-python",
   "name": "python",
   "nbconvert_exporter": "python",
   "pygments_lexer": "ipython3",
   "version": "3.11.5"
  }
 },
 "nbformat": 4,
 "nbformat_minor": 2
}
