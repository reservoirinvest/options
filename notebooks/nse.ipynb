{
 "cells": [
  {
   "cell_type": "code",
   "execution_count": null,
   "metadata": {},
   "outputs": [],
   "source": [
    "## THIS CELL SHOULD BE IN ALL VSCODE NOTEBOOKS ##\n",
    "\n",
    "MARKET = 'NSE'\n",
    "\n",
    "from ib_insync import util, IB, LimitOrder\n",
    "util.startLoop()\n",
    "\n",
    "# Set the root\n",
    "from from_root import from_root\n",
    "ROOT = from_root()\n",
    "\n",
    "# set vscode path\n",
    "import sys\n",
    "sys.path.append(str(ROOT / 'src'))\n",
    "\n",
    "# To import use \n",
    "# from src.<filename> import <function>\n",
    "from src.utils import Vars, get_pickle, place_orders\n",
    "\n",
    "_vars = Vars(MARKET)\n",
    "PORT = port = _vars.PORT\n",
    "\n",
    "DATAPATH = ROOT / 'data' / MARKET"
   ]
  },
  {
   "cell_type": "code",
   "execution_count": null,
   "metadata": {},
   "outputs": [],
   "source": [
    "import asyncio\n",
    "\n",
    "from src.nse import Vars, create_target_opts\n",
    "from src.utils import (Vars, get_pickle, \n",
    "                       chunk_me, flatten,\n",
    "                       get_prec, pickle_with_age_check,)\n",
    "\n",
    "from tqdm.asyncio import tqdm\n",
    "import pandas as pd\n",
    "import random"
   ]
  },
  {
   "cell_type": "code",
   "execution_count": null,
   "metadata": {},
   "outputs": [],
   "source": [
    "from utils import place_orders"
   ]
  },
  {
   "cell_type": "code",
   "execution_count": null,
   "metadata": {},
   "outputs": [],
   "source": [
    "df_tgt = get_pickle(DATAPATH / \"df_naked_targets.pkl\")\n",
    "df = df_tgt[_vars.OPT_COLS[0]].dropna(subset=['expPrice'])\n",
    "cos = [(contract , LimitOrder('Sell', qty, price))\n",
    "    for contract, qty, price in zip(df.contract, df.lot_size, df.expPrice)]"
   ]
  },
  {
   "cell_type": "raw",
   "metadata": {},
   "source": [
    "with IB().connect(port=PORT) as ib:\n",
    "    orders_placed = place_orders(ib, cos)"
   ]
  },
  {
   "cell_type": "code",
   "execution_count": null,
   "metadata": {},
   "outputs": [],
   "source": [
    "with IB().connect(port=PORT) as ib:\n",
    "    ib.reqAllOpenOrders()  # To kickstart collection of open orders\n",
    "    trades = ib.trades()"
   ]
  },
  {
   "cell_type": "code",
   "execution_count": null,
   "metadata": {},
   "outputs": [],
   "source": [
    "trades"
   ]
  },
  {
   "cell_type": "code",
   "execution_count": null,
   "metadata": {},
   "outputs": [],
   "source": []
  },
  {
   "cell_type": "code",
   "execution_count": null,
   "metadata": {},
   "outputs": [],
   "source": [
    "with IB().connect(port=PORT) as ib:\n",
    "    ib.reqAllOpenOrders()  # To kickstart collection of open orders\n",
    "    # ib.sleep(0.3)\n",
    "    trades = ib.trades()\n",
    "\n",
    "if trades:\n",
    "    all_trades_df = (util.df(t.contract for t in trades).join(\n",
    "        util.df(t.orderStatus\n",
    "                for t in trades)).join(util.df(t.order for t in trades),\n",
    "                                        lsuffix=\"_\"))\n",
    "\n",
    "    all_trades_df.rename({\"lastTradeDateOrContractMonth\": \"expiry\"},\n",
    "                            axis=\"columns\",\n",
    "                            inplace=True)\n",
    "    trades_cols = [\n",
    "        \"conId\",\n",
    "        \"symbol\",\n",
    "        \"secType\",\n",
    "        \"expiry\",\n",
    "        \"strike\",\n",
    "        \"right\",\n",
    "        \"orderId\",\n",
    "        \"permId\",\n",
    "        \"action\",\n",
    "        \"totalQuantity\",\n",
    "        \"lmtPrice\",\n",
    "        \"status\",\n",
    "    ]\n",
    "\n",
    "    dfo = all_trades_df[trades_cols]\n",
    "    df_openords = dfo[all_trades_df.status.isin(_vars. ACTIVE_STATUS)]"
   ]
  }
 ],
 "metadata": {
  "kernelspec": {
   "display_name": ".venv",
   "language": "python",
   "name": "python3"
  },
  "language_info": {
   "codemirror_mode": {
    "name": "ipython",
    "version": 3
   },
   "file_extension": ".py",
   "mimetype": "text/x-python",
   "name": "python",
   "nbconvert_exporter": "python",
   "pygments_lexer": "ipython3",
   "version": "3.11.5"
  }
 },
 "nbformat": 4,
 "nbformat_minor": 2
}
